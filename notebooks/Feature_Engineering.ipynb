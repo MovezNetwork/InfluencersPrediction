{
 "cells": [
  {
   "cell_type": "code",
   "execution_count": 9,
   "id": "018eba27-4922-4b6e-b6b9-3bd95e95d4a2",
   "metadata": {
    "ExecuteTime": {
     "end_time": "2024-02-07T19:02:28.135724Z",
     "start_time": "2024-02-07T19:02:23.194584Z"
    }
   },
   "outputs": [],
   "source": [
    "import pandas as pd\n",
    "import glob\n",
    "import os\n",
    "import json\n",
    "import numpy as np\n",
    "import inspect\n",
    "import sys\n",
    "import math\n",
    "from ydata_profiling import ProfileReport\n"
   ]
  },
  {
   "cell_type": "code",
   "execution_count": 2,
   "id": "f8e2783f-c443-4b64-bf20-fc2bf43a532c",
   "metadata": {
    "ExecuteTime": {
     "end_time": "2024-02-07T18:58:01.324967Z",
     "start_time": "2024-02-07T18:58:01.298391Z"
    }
   },
   "outputs": [],
   "source": [
    "df_input = pd.read_csv('../output/influencer_variable.csv', sep=',', header=0)\n",
    "df_comm = pd.read_csv('../output/communication_variables.csv', sep=',', header=0)\n",
    "df_health = pd.read_csv('../output/health_variables.csv', sep=',', header=0)\n",
    "df_questionnaire = pd.read_csv('../output/questionnaires_variables.csv', sep=',', header=0)"
   ]
  },
  {
   "cell_type": "code",
   "execution_count": 3,
   "id": "77d891de-dd63-4c5a-bae8-a0a173c48520",
   "metadata": {
    "ExecuteTime": {
     "end_time": "2024-02-07T18:58:04.084866Z",
     "start_time": "2024-02-07T18:58:04.075630Z"
    }
   },
   "outputs": [],
   "source": [
    "df_comm = df_comm[df_comm.Child.isin(df_input.Child.unique())]\n",
    "df_health = df_health[df_health.Child.isin(df_input.Child.unique())]\n",
    "df_questionnaire = df_questionnaire[df_questionnaire.Child.isin(df_input.Child.unique())]"
   ]
  },
  {
   "cell_type": "code",
   "execution_count": 4,
   "id": "1d344836-d938-4ebd-8935-7091927de1d4",
   "metadata": {
    "ExecuteTime": {
     "end_time": "2024-02-07T18:58:06.313618Z",
     "start_time": "2024-02-07T18:58:06.271954Z"
    }
   },
   "outputs": [],
   "source": [
    "df_input['WC'] = df_input['Child'].map(df_comm.set_index('Child')['WC'])\n",
    "df_input['affect'] = df_input['Child'].map(df_comm.set_index('Child')['affect'])\n",
    "df_input['drives'] = df_input['Child'].map(df_comm.set_index('Child')['drives'])\n",
    "df_input['social'] = df_input['Child'].map(df_comm.set_index('Child')['social'])\n",
    "df_input['polarity'] = df_input['Child'].map(df_comm.set_index('Child')['polarity'])\n",
    "df_input['health'] = df_input['Child'].map(df_comm.set_index('Child')['health'])\n",
    "df_input['cogproc'] = df_input['Child'].map(df_comm.set_index('Child')['cogproc'])\n",
    "df_input['subjectivity'] = df_input['Child'].map(df_comm.set_index('Child')['subjectivity'])\n",
    "df_input['num_likes'] = df_input['Child'].map(df_comm.set_index('Child')['num_likes'])\n",
    "df_input['g_num_text'] = df_input['Child'].map(df_comm.set_index('Child')['g_num_text'])\n",
    "df_input['g_num_media'] = df_input['Child'].map(df_comm.set_index('Child')['g_num_media'])\n",
    "df_input['i_num_text'] = df_input['Child'].map(df_comm.set_index('Child')['i_num_text'])\n",
    "df_input['i_num_media'] = df_input['Child'].map(df_comm.set_index('Child')['i_num_media'])\n",
    "df_input['i_num_recepients'] = df_input['Child'].map(df_comm.set_index('Child')['i_num_recepients'])\n",
    "\n",
    "df_input['Steps'] = df_input['Child'].map(df_health.set_index('Child')['Steps'])\n",
    "df_input['Minutes_MVPA'] = df_input['Child'].map(df_health.set_index('Child')['Minutes_MVPA'])\n",
    "df_input['BMI'] = df_input['Child'].map(df_health.set_index('Child')['BMI'])\n",
    "\n",
    "df_input['flynn_score'] = df_input['Child'].map(df_questionnaire.set_index('Child')['flynn_score'])\n",
    "df_input['n2b_score'] = df_input['Child'].map(df_questionnaire.set_index('Child')['n2b_score'])\n",
    "df_input['happy_score'] = df_input['Child'].map(df_questionnaire.set_index('Child')['happy_score'])\n",
    "df_input['prosocial_score'] = df_input['Child'].map(df_questionnaire.set_index('Child')['prosocial_score'])\n",
    "df_input['public_indiv_score'] = df_input['Child'].map(df_questionnaire.set_index('Child')['public_indiv_score'])\n",
    "df_input['esteem_score'] = df_input['Child'].map(df_questionnaire.set_index('Child')['esteem_score'])\n",
    "df_input['age'] = df_input['Child'].map(df_questionnaire.set_index('Child')['age'])\n",
    "df_input['sex'] = df_input['Child'].map(df_questionnaire.set_index('Child')['sex'])\n",
    "df_input['fas'] = df_input['Child'].map(df_questionnaire.set_index('Child')['fas'])\n",
    "\n",
    "\n",
    "\n"
   ]
  },
  {
   "cell_type": "code",
   "execution_count": 10,
   "id": "7fbfa9f2-0327-469a-8068-5cd81f08907c",
   "metadata": {
    "ExecuteTime": {
     "end_time": "2024-02-07T19:05:06.378814Z",
     "start_time": "2024-02-07T19:02:56.484257Z"
    }
   },
   "outputs": [
    {
     "data": {
      "text/plain": "Summarize dataset:   0%|          | 0/5 [00:00<?, ?it/s]",
      "application/vnd.jupyter.widget-view+json": {
       "version_major": 2,
       "version_minor": 0,
       "model_id": "b48fbf09aa11491e97331117d6463766"
      }
     },
     "metadata": {},
     "output_type": "display_data"
    },
    {
     "name": "stderr",
     "output_type": "stream",
     "text": [
      "/Users/davidblok/Work EUR/GitHub/InfluencersPrediction/venv/lib/python3.9/site-packages/ydata_profiling/model/typeset.py:125: FutureWarning: is_categorical_dtype is deprecated and will be removed in a future version. Use isinstance(dtype, CategoricalDtype) instead\n",
      "  not pdt.is_categorical_dtype(series)\n",
      "/Users/davidblok/Work EUR/GitHub/InfluencersPrediction/venv/lib/python3.9/site-packages/ydata_profiling/model/typeset.py:125: FutureWarning: is_categorical_dtype is deprecated and will be removed in a future version. Use isinstance(dtype, CategoricalDtype) instead\n",
      "  not pdt.is_categorical_dtype(series)\n",
      "/Users/davidblok/Work EUR/GitHub/InfluencersPrediction/venv/lib/python3.9/site-packages/ydata_profiling/model/typeset.py:125: FutureWarning: is_categorical_dtype is deprecated and will be removed in a future version. Use isinstance(dtype, CategoricalDtype) instead\n",
      "  not pdt.is_categorical_dtype(series)\n",
      "/Users/davidblok/Work EUR/GitHub/InfluencersPrediction/venv/lib/python3.9/site-packages/ydata_profiling/model/typeset.py:125: FutureWarning: is_categorical_dtype is deprecated and will be removed in a future version. Use isinstance(dtype, CategoricalDtype) instead\n",
      "  not pdt.is_categorical_dtype(series)\n",
      "/Users/davidblok/Work EUR/GitHub/InfluencersPrediction/venv/lib/python3.9/site-packages/ydata_profiling/model/typeset.py:125: FutureWarning: is_categorical_dtype is deprecated and will be removed in a future version. Use isinstance(dtype, CategoricalDtype) instead\n",
      "  not pdt.is_categorical_dtype(series)\n",
      "/Users/davidblok/Work EUR/GitHub/InfluencersPrediction/venv/lib/python3.9/site-packages/ydata_profiling/model/typeset.py:125: FutureWarning: is_categorical_dtype is deprecated and will be removed in a future version. Use isinstance(dtype, CategoricalDtype) instead\n",
      "  not pdt.is_categorical_dtype(series)\n",
      "/Users/davidblok/Work EUR/GitHub/InfluencersPrediction/venv/lib/python3.9/site-packages/ydata_profiling/model/typeset.py:125: FutureWarning: is_categorical_dtype is deprecated and will be removed in a future version. Use isinstance(dtype, CategoricalDtype) instead\n",
      "  not pdt.is_categorical_dtype(series)\n",
      "/Users/davidblok/Work EUR/GitHub/InfluencersPrediction/venv/lib/python3.9/site-packages/ydata_profiling/model/typeset.py:125: FutureWarning: is_categorical_dtype is deprecated and will be removed in a future version. Use isinstance(dtype, CategoricalDtype) instead\n",
      "  not pdt.is_categorical_dtype(series)\n",
      "/Users/davidblok/Work EUR/GitHub/InfluencersPrediction/venv/lib/python3.9/site-packages/ydata_profiling/model/typeset.py:125: FutureWarning: is_categorical_dtype is deprecated and will be removed in a future version. Use isinstance(dtype, CategoricalDtype) instead\n",
      "  not pdt.is_categorical_dtype(series)\n",
      "/Users/davidblok/Work EUR/GitHub/InfluencersPrediction/venv/lib/python3.9/site-packages/ydata_profiling/model/typeset.py:125: FutureWarning: is_categorical_dtype is deprecated and will be removed in a future version. Use isinstance(dtype, CategoricalDtype) instead\n",
      "  not pdt.is_categorical_dtype(series)\n",
      "/Users/davidblok/Work EUR/GitHub/InfluencersPrediction/venv/lib/python3.9/site-packages/ydata_profiling/model/typeset.py:125: FutureWarning: is_categorical_dtype is deprecated and will be removed in a future version. Use isinstance(dtype, CategoricalDtype) instead\n",
      "  not pdt.is_categorical_dtype(series)\n",
      "/Users/davidblok/Work EUR/GitHub/InfluencersPrediction/venv/lib/python3.9/site-packages/ydata_profiling/model/typeset.py:125: FutureWarning: is_categorical_dtype is deprecated and will be removed in a future version. Use isinstance(dtype, CategoricalDtype) instead\n",
      "  not pdt.is_categorical_dtype(series)\n",
      "/Users/davidblok/Work EUR/GitHub/InfluencersPrediction/venv/lib/python3.9/site-packages/ydata_profiling/model/typeset.py:125: FutureWarning: is_categorical_dtype is deprecated and will be removed in a future version. Use isinstance(dtype, CategoricalDtype) instead\n",
      "  not pdt.is_categorical_dtype(series)\n",
      "/Users/davidblok/Work EUR/GitHub/InfluencersPrediction/venv/lib/python3.9/site-packages/ydata_profiling/model/typeset.py:125: FutureWarning: is_categorical_dtype is deprecated and will be removed in a future version. Use isinstance(dtype, CategoricalDtype) instead\n",
      "  not pdt.is_categorical_dtype(series)\n",
      "/Users/davidblok/Work EUR/GitHub/InfluencersPrediction/venv/lib/python3.9/site-packages/ydata_profiling/model/typeset.py:125: FutureWarning: is_categorical_dtype is deprecated and will be removed in a future version. Use isinstance(dtype, CategoricalDtype) instead\n",
      "  not pdt.is_categorical_dtype(series)\n",
      "/Users/davidblok/Work EUR/GitHub/InfluencersPrediction/venv/lib/python3.9/site-packages/ydata_profiling/model/typeset.py:125: FutureWarning: is_categorical_dtype is deprecated and will be removed in a future version. Use isinstance(dtype, CategoricalDtype) instead\n",
      "  not pdt.is_categorical_dtype(series)\n",
      "/Users/davidblok/Work EUR/GitHub/InfluencersPrediction/venv/lib/python3.9/site-packages/ydata_profiling/model/typeset.py:125: FutureWarning: is_categorical_dtype is deprecated and will be removed in a future version. Use isinstance(dtype, CategoricalDtype) instead\n",
      "  not pdt.is_categorical_dtype(series)\n",
      "/Users/davidblok/Work EUR/GitHub/InfluencersPrediction/venv/lib/python3.9/site-packages/ydata_profiling/model/typeset.py:125: FutureWarning: is_categorical_dtype is deprecated and will be removed in a future version. Use isinstance(dtype, CategoricalDtype) instead\n",
      "  not pdt.is_categorical_dtype(series)\n",
      "/Users/davidblok/Work EUR/GitHub/InfluencersPrediction/venv/lib/python3.9/site-packages/ydata_profiling/model/typeset.py:125: FutureWarning: is_categorical_dtype is deprecated and will be removed in a future version. Use isinstance(dtype, CategoricalDtype) instead\n",
      "  not pdt.is_categorical_dtype(series)\n",
      "/Users/davidblok/Work EUR/GitHub/InfluencersPrediction/venv/lib/python3.9/site-packages/ydata_profiling/model/typeset.py:125: FutureWarning: is_categorical_dtype is deprecated and will be removed in a future version. Use isinstance(dtype, CategoricalDtype) instead\n",
      "  not pdt.is_categorical_dtype(series)\n",
      "/Users/davidblok/Work EUR/GitHub/InfluencersPrediction/venv/lib/python3.9/site-packages/ydata_profiling/model/typeset.py:125: FutureWarning: is_categorical_dtype is deprecated and will be removed in a future version. Use isinstance(dtype, CategoricalDtype) instead\n",
      "  not pdt.is_categorical_dtype(series)\n",
      "/Users/davidblok/Work EUR/GitHub/InfluencersPrediction/venv/lib/python3.9/site-packages/ydata_profiling/model/correlations.py:66: UserWarning: There was an attempt to calculate the auto correlation, but this failed.\n",
      "To hide this warning, disable the calculation\n",
      "(using `df.profile_report(correlations={\"auto\": {\"calculate\": False}})`\n",
      "If this is problematic for your use case, please report this as an issue:\n",
      "https://github.com/ydataai/ydata-profiling/issues\n",
      "(include the error message: 'Function <code object pandas_auto_compute at 0x125c4f710, file \"/Users/davidblok/Work EUR/GitHub/InfluencersPrediction/venv/lib/python3.9/site-packages/ydata_profiling/model/pandas/correlations_pandas.py\", line 164>')\n",
      "  warnings.warn(\n",
      "/Users/davidblok/Work EUR/GitHub/InfluencersPrediction/venv/lib/python3.9/site-packages/seaborn/matrix.py:260: FutureWarning: Format strings passed to MaskedConstant are ignored, but in future may error or produce different behavior\n",
      "  annotation = (\"{:\" + self.fmt + \"}\").format(val)\n",
      "/Users/davidblok/Work EUR/GitHub/InfluencersPrediction/venv/lib/python3.9/site-packages/ydata_profiling/model/missing.py:78: UserWarning: There was an attempt to generate the Heatmap missing values diagrams, but this failed.\n",
      "To hide this warning, disable the calculation\n",
      "(using `df.profile_report(missing_diagrams={\"Heatmap\": False}`)\n",
      "If this is problematic for your use case, please report this as an issue:\n",
      "https://github.com/ydataai/ydata-profiling/issues\n",
      "(include the error message: 'could not convert string to float: '--'')\n",
      "  warnings.warn(\n"
     ]
    },
    {
     "data": {
      "text/plain": "Generate report structure:   0%|          | 0/1 [00:00<?, ?it/s]",
      "application/vnd.jupyter.widget-view+json": {
       "version_major": 2,
       "version_minor": 0,
       "model_id": "4cdd0ff0e4fc4aabacfa97340d40fade"
      }
     },
     "metadata": {},
     "output_type": "display_data"
    },
    {
     "data": {
      "text/plain": "Render widgets:   0%|          | 0/1 [00:00<?, ?it/s]",
      "application/vnd.jupyter.widget-view+json": {
       "version_major": 2,
       "version_minor": 0,
       "model_id": "66a05e0ac996401e8dadba54ac4e6141"
      }
     },
     "metadata": {},
     "output_type": "display_data"
    },
    {
     "data": {
      "text/plain": "VBox(children=(Tab(children=(Tab(children=(GridBox(children=(VBox(children=(GridspecLayout(children=(HTML(valu…",
      "application/vnd.jupyter.widget-view+json": {
       "version_major": 2,
       "version_minor": 0,
       "model_id": "3d694e5f54fa4183a8dc00caee48f0fb"
      }
     },
     "metadata": {},
     "output_type": "display_data"
    }
   ],
   "source": [
    "profile = ProfileReport(df_input, title=\"Data Profiling\")\n",
    "profile.to_widgets()"
   ]
  },
  {
   "cell_type": "code",
   "execution_count": 6,
   "id": "7a0afce1-0829-450a-a5f0-3b5865a3d1b9",
   "metadata": {
    "ExecuteTime": {
     "end_time": "2024-02-07T19:01:18.561500Z",
     "start_time": "2024-02-07T19:01:18.496447Z"
    }
   },
   "outputs": [],
   "source": [
    "df_input.to_csv('../output/model_data.csv',index=False)"
   ]
  },
  {
   "cell_type": "code",
   "execution_count": null,
   "id": "48d9d589-395a-4029-ba23-dd1617de28c1",
   "metadata": {},
   "outputs": [],
   "source": []
  }
 ],
 "metadata": {
  "kernelspec": {
   "display_name": "Python 3 (ipykernel)",
   "language": "python",
   "name": "python3"
  },
  "language_info": {
   "codemirror_mode": {
    "name": "ipython",
    "version": 3
   },
   "file_extension": ".py",
   "mimetype": "text/x-python",
   "name": "python",
   "nbconvert_exporter": "python",
   "pygments_lexer": "ipython3",
   "version": "3.9.13"
  }
 },
 "nbformat": 4,
 "nbformat_minor": 5
}
