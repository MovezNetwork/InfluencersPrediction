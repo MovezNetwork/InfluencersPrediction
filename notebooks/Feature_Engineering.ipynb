{
 "cells": [
  {
   "cell_type": "code",
   "execution_count": 4,
   "id": "018eba27-4922-4b6e-b6b9-3bd95e95d4a2",
   "metadata": {},
   "outputs": [],
   "source": [
    "import pandas as pd\n",
    "import glob\n",
    "import os\n",
    "import json\n",
    "import numpy as np\n",
    "import inspect\n",
    "import sys\n",
    "import math"
   ]
  },
  {
   "cell_type": "code",
   "execution_count": 5,
   "id": "f8e2783f-c443-4b64-bf20-fc2bf43a532c",
   "metadata": {},
   "outputs": [],
   "source": [
    "df_input = pd.read_csv('../output/influencer_variable.csv', sep=',', header=0)\n",
    "df_comm = pd.read_csv('../output/communication_variables.csv', sep=',', header=0)\n",
    "df_health = pd.read_csv('../output/health_variables.csv', sep=',', header=0)\n",
    "df_questionnaire = pd.read_csv('../output/questionnaires_variables.csv', sep=',', header=0)"
   ]
  },
  {
   "cell_type": "code",
   "execution_count": 6,
   "id": "77d891de-dd63-4c5a-bae8-a0a173c48520",
   "metadata": {},
   "outputs": [],
   "source": [
    "df_comm = df_comm[df_comm.Child.isin(df_input.Child.unique())]\n",
    "df_health = df_health[df_health.Child.isin(df_input.Child.unique())]\n",
    "df_questionnaire = df_questionnaire[df_questionnaire.Child.isin(df_input.Child.unique())]"
   ]
  },
  {
   "cell_type": "code",
   "execution_count": 8,
   "id": "a76bcdb1-ab35-4fe5-bf0c-3f4648892439",
   "metadata": {},
   "outputs": [
    {
     "data": {
      "text/plain": [
       "Index(['Child', 'flynn_score', 'n2b_score', 'happy_score', 'prosocial_score',\n",
       "       'public_indiv_score', 'esteem_score', 'fas', 'socialmedia_freq',\n",
       "       'socialmedia_days', 'socialmedia_hours', 'vlog_freq', 'vlog_self',\n",
       "       'vlog_learn', 'age', 'sex'],\n",
       "      dtype='object')"
      ]
     },
     "execution_count": 8,
     "metadata": {},
     "output_type": "execute_result"
    }
   ],
   "source": [
    "df_questionnaire.columns"
   ]
  },
  {
   "cell_type": "code",
   "execution_count": 9,
   "id": "1d344836-d938-4ebd-8935-7091927de1d4",
   "metadata": {},
   "outputs": [],
   "source": [
    "df_input['WC'] = df_input['Child'].map(df_comm.set_index('Child')['WC'])\n",
    "df_input['affect'] = df_input['Child'].map(df_comm.set_index('Child')['affect'])\n",
    "df_input['drives'] = df_input['Child'].map(df_comm.set_index('Child')['drives'])\n",
    "df_input['social'] = df_input['Child'].map(df_comm.set_index('Child')['social'])\n",
    "df_input['polarity'] = df_input['Child'].map(df_comm.set_index('Child')['polarity'])\n",
    "df_input['health'] = df_input['Child'].map(df_comm.set_index('Child')['health'])\n",
    "df_input['cogproc'] = df_input['Child'].map(df_comm.set_index('Child')['cogproc'])\n",
    "df_input['subjectivity'] = df_input['Child'].map(df_comm.set_index('Child')['subjectivity'])\n",
    "df_input['num_likes'] = df_input['Child'].map(df_comm.set_index('Child')['num_likes'])\n",
    "df_input['g_num_text'] = df_input['Child'].map(df_comm.set_index('Child')['g_num_text'])\n",
    "df_input['g_num_media'] = df_input['Child'].map(df_comm.set_index('Child')['g_num_media'])\n",
    "df_input['i_num_text'] = df_input['Child'].map(df_comm.set_index('Child')['i_num_text'])\n",
    "df_input['i_num_media'] = df_input['Child'].map(df_comm.set_index('Child')['i_num_media'])\n",
    "df_input['i_num_recepients'] = df_input['Child'].map(df_comm.set_index('Child')['i_num_recepients'])\n",
    "\n",
    "df_input['Steps'] = df_input['Child'].map(df_health.set_index('Child')['Steps'])\n",
    "df_input['Minutes_MVPA'] = df_input['Child'].map(df_health.set_index('Child')['Minutes_MVPA'])\n",
    "df_input['BMI'] = df_input['Child'].map(df_health.set_index('Child')['BMI'])\n",
    "\n",
    "df_input['flynn_score'] = df_input['Child'].map(df_questionnaire.set_index('Child')['flynn_score'])\n",
    "df_input['n2b_score'] = df_input['Child'].map(df_questionnaire.set_index('Child')['n2b_score'])\n",
    "df_input['happy_score'] = df_input['Child'].map(df_questionnaire.set_index('Child')['happy_score'])\n",
    "df_input['prosocial_score'] = df_input['Child'].map(df_questionnaire.set_index('Child')['prosocial_score'])\n",
    "df_input['public_indiv_score'] = df_input['Child'].map(df_questionnaire.set_index('Child')['public_indiv_score'])\n",
    "df_input['esteem_score'] = df_input['Child'].map(df_questionnaire.set_index('Child')['esteem_score'])\n",
    "df_input['fas'] = df_input['Child'].map(df_questionnaire.set_index('Child')['fas'])\n",
    "df_input['socialmedia_freq'] = df_input['Child'].map(df_questionnaire.set_index('Child')['socialmedia_freq'])\n",
    "df_input['socialmedia_days'] = df_input['Child'].map(df_questionnaire.set_index('Child')['socialmedia_days'])\n",
    "df_input['socialmedia_hours'] = df_input['Child'].map(df_questionnaire.set_index('Child')['socialmedia_hours'])\n",
    "df_input['vlog_freq'] = df_input['Child'].map(df_questionnaire.set_index('Child')['vlog_freq'])\n",
    "df_input['vlog_self'] = df_input['Child'].map(df_questionnaire.set_index('Child')['vlog_self'])\n",
    "df_input['vlog_learn'] = df_input['Child'].map(df_questionnaire.set_index('Child')['vlog_learn'])\n",
    "df_input['age'] = df_input['Child'].map(df_questionnaire.set_index('Child')['age'])\n",
    "df_input['sex'] = df_input['Child'].map(df_questionnaire.set_index('Child')['sex'])"
   ]
  },
  {
   "cell_type": "code",
   "execution_count": 5,
   "id": "7fbfa9f2-0327-469a-8068-5cd81f08907c",
   "metadata": {},
   "outputs": [],
   "source": [
    "# from pandas_profiling import ProfileReport\n",
    "# profile = ProfileReport(df_input, title=\"Data Profiling\")\n",
    "# profile.to_file(\"../output/model_data_report.html\")"
   ]
  },
  {
   "cell_type": "code",
   "execution_count": 10,
   "id": "7a0afce1-0829-450a-a5f0-3b5865a3d1b9",
   "metadata": {},
   "outputs": [],
   "source": [
    "df_input.to_csv('../output/model_data_with_nan.csv',index=False)"
   ]
  }
 ],
 "metadata": {
  "kernelspec": {
   "display_name": "jonas",
   "language": "python",
   "name": "jonas"
  },
  "language_info": {
   "codemirror_mode": {
    "name": "ipython",
    "version": 3
   },
   "file_extension": ".py",
   "mimetype": "text/x-python",
   "name": "python",
   "nbconvert_exporter": "python",
   "pygments_lexer": "ipython3",
   "version": "3.8.13"
  }
 },
 "nbformat": 4,
 "nbformat_minor": 5
}
