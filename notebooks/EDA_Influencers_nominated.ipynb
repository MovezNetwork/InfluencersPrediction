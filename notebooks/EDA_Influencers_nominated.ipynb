{
 "cells": [
  {
   "cell_type": "code",
   "execution_count": 2,
   "id": "a9ad0e70-02c6-4acf-b4ea-7850f454c9ed",
   "metadata": {
    "ExecuteTime": {
     "end_time": "2024-02-07T10:44:23.657994Z",
     "start_time": "2024-02-07T10:44:09.374172Z"
    }
   },
   "outputs": [],
   "source": [
    "import pandas as pd\n",
    "import glob\n",
    "import os\n",
    "import json\n",
    "import numpy as np\n",
    "import inspect\n",
    "import sys\n",
    "import math"
   ]
  },
  {
   "cell_type": "code",
   "execution_count": 3,
   "id": "77c6f481-b401-485f-a3cc-a4e5fe6283f8",
   "metadata": {
    "ExecuteTime": {
     "end_time": "2024-02-07T10:44:23.784567Z",
     "start_time": "2024-02-07T10:44:23.640478Z"
    }
   },
   "outputs": [
    {
     "data": {
      "text/plain": "        Child  Wave               Variable  Alter\n0        1420     7             GEN_Advice   1422\n1        1420     7             GEN_Leader   1429\n2        1421     7             GEN_Advice   1428\n3        1421     7             GEN_Leader   1425\n4        1421     7             GEN_Leader   1429\n...       ...   ...                    ...    ...\n199932   2932     3  Di_Modelling_reversed   2927\n199933   2932     3  Di_Modelling_reversed   2934\n199934   2932     3  Di_Modelling_reversed   2936\n199935   2932     3  Di_Modelling_reversed   2938\n199936   2932     3  Di_Modelling_reversed   2940\n\n[199937 rows x 4 columns]",
      "text/html": "<div>\n<style scoped>\n    .dataframe tbody tr th:only-of-type {\n        vertical-align: middle;\n    }\n\n    .dataframe tbody tr th {\n        vertical-align: top;\n    }\n\n    .dataframe thead th {\n        text-align: right;\n    }\n</style>\n<table border=\"1\" class=\"dataframe\">\n  <thead>\n    <tr style=\"text-align: right;\">\n      <th></th>\n      <th>Child</th>\n      <th>Wave</th>\n      <th>Variable</th>\n      <th>Alter</th>\n    </tr>\n  </thead>\n  <tbody>\n    <tr>\n      <th>0</th>\n      <td>1420</td>\n      <td>7</td>\n      <td>GEN_Advice</td>\n      <td>1422</td>\n    </tr>\n    <tr>\n      <th>1</th>\n      <td>1420</td>\n      <td>7</td>\n      <td>GEN_Leader</td>\n      <td>1429</td>\n    </tr>\n    <tr>\n      <th>2</th>\n      <td>1421</td>\n      <td>7</td>\n      <td>GEN_Advice</td>\n      <td>1428</td>\n    </tr>\n    <tr>\n      <th>3</th>\n      <td>1421</td>\n      <td>7</td>\n      <td>GEN_Leader</td>\n      <td>1425</td>\n    </tr>\n    <tr>\n      <th>4</th>\n      <td>1421</td>\n      <td>7</td>\n      <td>GEN_Leader</td>\n      <td>1429</td>\n    </tr>\n    <tr>\n      <th>...</th>\n      <td>...</td>\n      <td>...</td>\n      <td>...</td>\n      <td>...</td>\n    </tr>\n    <tr>\n      <th>199932</th>\n      <td>2932</td>\n      <td>3</td>\n      <td>Di_Modelling_reversed</td>\n      <td>2927</td>\n    </tr>\n    <tr>\n      <th>199933</th>\n      <td>2932</td>\n      <td>3</td>\n      <td>Di_Modelling_reversed</td>\n      <td>2934</td>\n    </tr>\n    <tr>\n      <th>199934</th>\n      <td>2932</td>\n      <td>3</td>\n      <td>Di_Modelling_reversed</td>\n      <td>2936</td>\n    </tr>\n    <tr>\n      <th>199935</th>\n      <td>2932</td>\n      <td>3</td>\n      <td>Di_Modelling_reversed</td>\n      <td>2938</td>\n    </tr>\n    <tr>\n      <th>199936</th>\n      <td>2932</td>\n      <td>3</td>\n      <td>Di_Modelling_reversed</td>\n      <td>2940</td>\n    </tr>\n  </tbody>\n</table>\n<p>199937 rows × 4 columns</p>\n</div>"
     },
     "execution_count": 3,
     "metadata": {},
     "output_type": "execute_result"
    }
   ],
   "source": [
    "# taking nominations from all waves\n",
    "path = r'../data/movez_nominations' # use your path\n",
    "all_files = glob.glob(os.path.join(path , \"*.csv\"))\n",
    "df_nom = pd.concat((pd.read_csv(f,sep=';', header=0) for f in all_files), ignore_index=True)\n",
    "df_nom"
   ]
  },
  {
   "cell_type": "code",
   "execution_count": 4,
   "id": "6e465433-defb-45f0-9768-095d52afbe80",
   "metadata": {
    "ExecuteTime": {
     "end_time": "2024-02-07T10:44:23.949570Z",
     "start_time": "2024-02-07T10:44:23.794707Z"
    }
   },
   "outputs": [
    {
     "data": {
      "text/plain": "(123859, 4)"
     },
     "execution_count": 4,
     "metadata": {},
     "output_type": "execute_result"
    }
   ],
   "source": [
    "# keep only the GEN nominations\n",
    "df_nom = df_nom[df_nom.Variable.str.startswith('GEN')]\n",
    "df_nom.shape"
   ]
  },
  {
   "cell_type": "markdown",
   "id": "314a8f8a-0b7d-4557-a4a3-ba482610fed0",
   "metadata": {},
   "source": [
    "##### First remove the 'extra' Alter children - who didn't gave consent and were thus not participants"
   ]
  },
  {
   "cell_type": "code",
   "execution_count": 5,
   "id": "91e5dc62-e468-43cc-a642-058e0f0607a2",
   "metadata": {
    "ExecuteTime": {
     "end_time": "2024-02-07T10:44:24.017624Z",
     "start_time": "2024-02-07T10:44:23.858196Z"
    }
   },
   "outputs": [
    {
     "data": {
      "text/plain": "1467"
     },
     "execution_count": 5,
     "metadata": {},
     "output_type": "execute_result"
    }
   ],
   "source": [
    "lst_participants = list(set(df_nom['Child'].unique()).intersection(set(df_nom['Alter'].unique())))\n",
    "len(lst_participants)"
   ]
  },
  {
   "cell_type": "code",
   "execution_count": 6,
   "id": "872c60a7-af66-44af-86c9-aa3498e2a1bd",
   "metadata": {
    "ExecuteTime": {
     "end_time": "2024-02-07T10:44:24.104989Z",
     "start_time": "2024-02-07T10:44:23.877338Z"
    }
   },
   "outputs": [],
   "source": [
    "df_nom = df_nom[(df_nom.Child.isin(lst_participants)) & (df_nom.Alter.isin(lst_participants)) ]"
   ]
  },
  {
   "cell_type": "code",
   "execution_count": 7,
   "id": "1574f090-211b-41c5-86a1-c6c3b0af5a13",
   "metadata": {
    "ExecuteTime": {
     "end_time": "2024-02-07T10:44:24.108380Z",
     "start_time": "2024-02-07T10:44:23.895674Z"
    }
   },
   "outputs": [
    {
     "data": {
      "text/plain": "(6, 1457, 1466)"
     },
     "execution_count": 7,
     "metadata": {},
     "output_type": "execute_result"
    }
   ],
   "source": [
    "df_nom['Variable'].nunique(),df_nom['Child'].nunique(),df_nom['Alter'].nunique()"
   ]
  },
  {
   "cell_type": "code",
   "execution_count": 8,
   "id": "982c350a-8dc6-430e-a937-71767267e5b3",
   "metadata": {
    "ExecuteTime": {
     "end_time": "2024-02-07T10:44:24.130427Z",
     "start_time": "2024-02-07T10:44:23.911726Z"
    }
   },
   "outputs": [
    {
     "data": {
      "text/plain": "(1484, 19)"
     },
     "execution_count": 8,
     "metadata": {},
     "output_type": "execute_result"
    }
   ],
   "source": [
    "df_pp = pd.read_csv('../data/movez_metadata/Participant_Info.csv', sep=';', header=0)\n",
    "df_pp.shape"
   ]
  },
  {
   "cell_type": "code",
   "execution_count": 9,
   "id": "04957e5f-bcd5-4b8f-88e9-cea8a6118a78",
   "metadata": {
    "ExecuteTime": {
     "end_time": "2024-02-07T10:44:24.135229Z",
     "start_time": "2024-02-07T10:44:23.927998Z"
    }
   },
   "outputs": [
    {
     "data": {
      "text/plain": "(1467, 19)"
     },
     "execution_count": 9,
     "metadata": {},
     "output_type": "execute_result"
    }
   ],
   "source": [
    "df_pp = df_pp[(df_pp.Child.isin(lst_participants))]\n",
    "df_pp.shape"
   ]
  },
  {
   "cell_type": "code",
   "execution_count": 10,
   "id": "8b3d97e2-ddf8-4c63-9503-3c31d1d44a6d",
   "metadata": {
    "ExecuteTime": {
     "end_time": "2024-02-07T10:44:24.171155Z",
     "start_time": "2024-02-07T10:44:23.956018Z"
    }
   },
   "outputs": [
    {
     "data": {
      "text/plain": "   School      Level  Class_Y1  Class_Y2  Class_Y3  Child  Sex   Sex_f  \\\n1      22  Secondary      52.0      52.0       NaN    904    1  Female   \n2      22  Secondary      52.0      52.0       NaN    907    1  Female   \n3      22  Secondary      52.0      55.0       NaN    908    0    Male   \n\n   Age_W1  Age_W5  W1  W2  W3  W4  W5  W6  W7  Y1_Sample  Y3_Sample  \n1    12.0     NaN   1   1   0   0   0   0   0          1          0  \n2    12.0     NaN   1   1   0   0   0   0   0          1          0  \n3    12.0     NaN   1   1   0   1   0   0   0          1          0  ",
      "text/html": "<div>\n<style scoped>\n    .dataframe tbody tr th:only-of-type {\n        vertical-align: middle;\n    }\n\n    .dataframe tbody tr th {\n        vertical-align: top;\n    }\n\n    .dataframe thead th {\n        text-align: right;\n    }\n</style>\n<table border=\"1\" class=\"dataframe\">\n  <thead>\n    <tr style=\"text-align: right;\">\n      <th></th>\n      <th>School</th>\n      <th>Level</th>\n      <th>Class_Y1</th>\n      <th>Class_Y2</th>\n      <th>Class_Y3</th>\n      <th>Child</th>\n      <th>Sex</th>\n      <th>Sex_f</th>\n      <th>Age_W1</th>\n      <th>Age_W5</th>\n      <th>W1</th>\n      <th>W2</th>\n      <th>W3</th>\n      <th>W4</th>\n      <th>W5</th>\n      <th>W6</th>\n      <th>W7</th>\n      <th>Y1_Sample</th>\n      <th>Y3_Sample</th>\n    </tr>\n  </thead>\n  <tbody>\n    <tr>\n      <th>1</th>\n      <td>22</td>\n      <td>Secondary</td>\n      <td>52.0</td>\n      <td>52.0</td>\n      <td>NaN</td>\n      <td>904</td>\n      <td>1</td>\n      <td>Female</td>\n      <td>12.0</td>\n      <td>NaN</td>\n      <td>1</td>\n      <td>1</td>\n      <td>0</td>\n      <td>0</td>\n      <td>0</td>\n      <td>0</td>\n      <td>0</td>\n      <td>1</td>\n      <td>0</td>\n    </tr>\n    <tr>\n      <th>2</th>\n      <td>22</td>\n      <td>Secondary</td>\n      <td>52.0</td>\n      <td>52.0</td>\n      <td>NaN</td>\n      <td>907</td>\n      <td>1</td>\n      <td>Female</td>\n      <td>12.0</td>\n      <td>NaN</td>\n      <td>1</td>\n      <td>1</td>\n      <td>0</td>\n      <td>0</td>\n      <td>0</td>\n      <td>0</td>\n      <td>0</td>\n      <td>1</td>\n      <td>0</td>\n    </tr>\n    <tr>\n      <th>3</th>\n      <td>22</td>\n      <td>Secondary</td>\n      <td>52.0</td>\n      <td>55.0</td>\n      <td>NaN</td>\n      <td>908</td>\n      <td>0</td>\n      <td>Male</td>\n      <td>12.0</td>\n      <td>NaN</td>\n      <td>1</td>\n      <td>1</td>\n      <td>0</td>\n      <td>1</td>\n      <td>0</td>\n      <td>0</td>\n      <td>0</td>\n      <td>1</td>\n      <td>0</td>\n    </tr>\n  </tbody>\n</table>\n</div>"
     },
     "execution_count": 10,
     "metadata": {},
     "output_type": "execute_result"
    }
   ],
   "source": [
    "df_pp.head(3)"
   ]
  },
  {
   "cell_type": "code",
   "execution_count": 11,
   "id": "b88805c9-6aca-405c-94a1-823c2a061fb2",
   "metadata": {
    "ExecuteTime": {
     "end_time": "2024-02-07T10:44:24.174879Z",
     "start_time": "2024-02-07T10:44:23.968426Z"
    }
   },
   "outputs": [],
   "source": [
    "# New variables summing the number of participants per class and school\n",
    "df_pp['num_per_school'] = df_pp.School.map(df_pp.groupby(['School'])['Level'].count())\n",
    "df_pp['num_per_class_Y1'] = df_pp.Class_Y1.map(df_pp.groupby(['Class_Y1'])['Level'].count())\n",
    "df_pp['num_per_class_Y2'] = df_pp.Class_Y2.map(df_pp.groupby(['Class_Y2'])['Level'].count())\n",
    "df_pp['num_per_class_Y3'] = df_pp.Class_Y3.map(df_pp.groupby(['Class_Y3'])['Level'].count())"
   ]
  },
  {
   "cell_type": "code",
   "execution_count": 12,
   "id": "2cbf9ace-d454-466a-81fa-5dd37df4cd3e",
   "metadata": {
    "ExecuteTime": {
     "end_time": "2024-02-07T10:44:24.180588Z",
     "start_time": "2024-02-07T10:44:24.006522Z"
    }
   },
   "outputs": [
    {
     "data": {
      "text/plain": "    School      Level  Class_Y1  Class_Y2  Class_Y3  Child  Sex   Sex_f  \\\n1       22  Secondary      52.0      52.0       NaN    904    1  Female   \n2       22  Secondary      52.0      52.0       NaN    907    1  Female   \n3       22  Secondary      52.0      55.0       NaN    908    0    Male   \n4       22  Secondary      52.0      55.0       NaN    909    0    Male   \n6       22  Secondary      54.0      54.0       NaN    935    0    Male   \n7       22  Secondary      54.0      54.0       NaN    936    0    Male   \n8       22  Secondary      54.0       NaN       NaN    942    1  Female   \n9       22  Secondary      54.0      54.0       NaN    944    0    Male   \n10      22  Secondary      54.0      54.0       NaN    947    1  Female   \n11      22  Secondary      54.0      55.0       NaN    949    0    Male   \n\n    Age_W1  Age_W5  ...  W4  W5  W6  W7  Y1_Sample  Y3_Sample  num_per_school  \\\n1     12.0     NaN  ...   0   0   0   0          1          0              30   \n2     12.0     NaN  ...   0   0   0   0          1          0              30   \n3     12.0     NaN  ...   1   0   0   0          1          0              30   \n4     12.0     NaN  ...   1   0   0   0          1          0              30   \n6     13.0     NaN  ...   1   0   0   0          1          0              30   \n7     13.0     NaN  ...   0   0   0   0          1          0              30   \n8     13.0     NaN  ...   1   0   0   0          1          0              30   \n9     13.0     NaN  ...   0   0   0   0          1          0              30   \n10    12.0     NaN  ...   1   0   0   0          1          0              30   \n11    12.0     NaN  ...   1   0   0   0          1          0              30   \n\n    num_per_class_Y1  num_per_class_Y2  num_per_class_Y3  \n1                4.0               2.0               NaN  \n2                4.0               2.0               NaN  \n3                4.0               8.0               NaN  \n4                4.0               8.0               NaN  \n6                6.0               5.0               NaN  \n7                6.0               5.0               NaN  \n8                6.0               NaN               NaN  \n9                6.0               5.0               NaN  \n10               6.0               5.0               NaN  \n11               6.0               8.0               NaN  \n\n[10 rows x 23 columns]",
      "text/html": "<div>\n<style scoped>\n    .dataframe tbody tr th:only-of-type {\n        vertical-align: middle;\n    }\n\n    .dataframe tbody tr th {\n        vertical-align: top;\n    }\n\n    .dataframe thead th {\n        text-align: right;\n    }\n</style>\n<table border=\"1\" class=\"dataframe\">\n  <thead>\n    <tr style=\"text-align: right;\">\n      <th></th>\n      <th>School</th>\n      <th>Level</th>\n      <th>Class_Y1</th>\n      <th>Class_Y2</th>\n      <th>Class_Y3</th>\n      <th>Child</th>\n      <th>Sex</th>\n      <th>Sex_f</th>\n      <th>Age_W1</th>\n      <th>Age_W5</th>\n      <th>...</th>\n      <th>W4</th>\n      <th>W5</th>\n      <th>W6</th>\n      <th>W7</th>\n      <th>Y1_Sample</th>\n      <th>Y3_Sample</th>\n      <th>num_per_school</th>\n      <th>num_per_class_Y1</th>\n      <th>num_per_class_Y2</th>\n      <th>num_per_class_Y3</th>\n    </tr>\n  </thead>\n  <tbody>\n    <tr>\n      <th>1</th>\n      <td>22</td>\n      <td>Secondary</td>\n      <td>52.0</td>\n      <td>52.0</td>\n      <td>NaN</td>\n      <td>904</td>\n      <td>1</td>\n      <td>Female</td>\n      <td>12.0</td>\n      <td>NaN</td>\n      <td>...</td>\n      <td>0</td>\n      <td>0</td>\n      <td>0</td>\n      <td>0</td>\n      <td>1</td>\n      <td>0</td>\n      <td>30</td>\n      <td>4.0</td>\n      <td>2.0</td>\n      <td>NaN</td>\n    </tr>\n    <tr>\n      <th>2</th>\n      <td>22</td>\n      <td>Secondary</td>\n      <td>52.0</td>\n      <td>52.0</td>\n      <td>NaN</td>\n      <td>907</td>\n      <td>1</td>\n      <td>Female</td>\n      <td>12.0</td>\n      <td>NaN</td>\n      <td>...</td>\n      <td>0</td>\n      <td>0</td>\n      <td>0</td>\n      <td>0</td>\n      <td>1</td>\n      <td>0</td>\n      <td>30</td>\n      <td>4.0</td>\n      <td>2.0</td>\n      <td>NaN</td>\n    </tr>\n    <tr>\n      <th>3</th>\n      <td>22</td>\n      <td>Secondary</td>\n      <td>52.0</td>\n      <td>55.0</td>\n      <td>NaN</td>\n      <td>908</td>\n      <td>0</td>\n      <td>Male</td>\n      <td>12.0</td>\n      <td>NaN</td>\n      <td>...</td>\n      <td>1</td>\n      <td>0</td>\n      <td>0</td>\n      <td>0</td>\n      <td>1</td>\n      <td>0</td>\n      <td>30</td>\n      <td>4.0</td>\n      <td>8.0</td>\n      <td>NaN</td>\n    </tr>\n    <tr>\n      <th>4</th>\n      <td>22</td>\n      <td>Secondary</td>\n      <td>52.0</td>\n      <td>55.0</td>\n      <td>NaN</td>\n      <td>909</td>\n      <td>0</td>\n      <td>Male</td>\n      <td>12.0</td>\n      <td>NaN</td>\n      <td>...</td>\n      <td>1</td>\n      <td>0</td>\n      <td>0</td>\n      <td>0</td>\n      <td>1</td>\n      <td>0</td>\n      <td>30</td>\n      <td>4.0</td>\n      <td>8.0</td>\n      <td>NaN</td>\n    </tr>\n    <tr>\n      <th>6</th>\n      <td>22</td>\n      <td>Secondary</td>\n      <td>54.0</td>\n      <td>54.0</td>\n      <td>NaN</td>\n      <td>935</td>\n      <td>0</td>\n      <td>Male</td>\n      <td>13.0</td>\n      <td>NaN</td>\n      <td>...</td>\n      <td>1</td>\n      <td>0</td>\n      <td>0</td>\n      <td>0</td>\n      <td>1</td>\n      <td>0</td>\n      <td>30</td>\n      <td>6.0</td>\n      <td>5.0</td>\n      <td>NaN</td>\n    </tr>\n    <tr>\n      <th>7</th>\n      <td>22</td>\n      <td>Secondary</td>\n      <td>54.0</td>\n      <td>54.0</td>\n      <td>NaN</td>\n      <td>936</td>\n      <td>0</td>\n      <td>Male</td>\n      <td>13.0</td>\n      <td>NaN</td>\n      <td>...</td>\n      <td>0</td>\n      <td>0</td>\n      <td>0</td>\n      <td>0</td>\n      <td>1</td>\n      <td>0</td>\n      <td>30</td>\n      <td>6.0</td>\n      <td>5.0</td>\n      <td>NaN</td>\n    </tr>\n    <tr>\n      <th>8</th>\n      <td>22</td>\n      <td>Secondary</td>\n      <td>54.0</td>\n      <td>NaN</td>\n      <td>NaN</td>\n      <td>942</td>\n      <td>1</td>\n      <td>Female</td>\n      <td>13.0</td>\n      <td>NaN</td>\n      <td>...</td>\n      <td>1</td>\n      <td>0</td>\n      <td>0</td>\n      <td>0</td>\n      <td>1</td>\n      <td>0</td>\n      <td>30</td>\n      <td>6.0</td>\n      <td>NaN</td>\n      <td>NaN</td>\n    </tr>\n    <tr>\n      <th>9</th>\n      <td>22</td>\n      <td>Secondary</td>\n      <td>54.0</td>\n      <td>54.0</td>\n      <td>NaN</td>\n      <td>944</td>\n      <td>0</td>\n      <td>Male</td>\n      <td>13.0</td>\n      <td>NaN</td>\n      <td>...</td>\n      <td>0</td>\n      <td>0</td>\n      <td>0</td>\n      <td>0</td>\n      <td>1</td>\n      <td>0</td>\n      <td>30</td>\n      <td>6.0</td>\n      <td>5.0</td>\n      <td>NaN</td>\n    </tr>\n    <tr>\n      <th>10</th>\n      <td>22</td>\n      <td>Secondary</td>\n      <td>54.0</td>\n      <td>54.0</td>\n      <td>NaN</td>\n      <td>947</td>\n      <td>1</td>\n      <td>Female</td>\n      <td>12.0</td>\n      <td>NaN</td>\n      <td>...</td>\n      <td>1</td>\n      <td>0</td>\n      <td>0</td>\n      <td>0</td>\n      <td>1</td>\n      <td>0</td>\n      <td>30</td>\n      <td>6.0</td>\n      <td>5.0</td>\n      <td>NaN</td>\n    </tr>\n    <tr>\n      <th>11</th>\n      <td>22</td>\n      <td>Secondary</td>\n      <td>54.0</td>\n      <td>55.0</td>\n      <td>NaN</td>\n      <td>949</td>\n      <td>0</td>\n      <td>Male</td>\n      <td>12.0</td>\n      <td>NaN</td>\n      <td>...</td>\n      <td>1</td>\n      <td>0</td>\n      <td>0</td>\n      <td>0</td>\n      <td>1</td>\n      <td>0</td>\n      <td>30</td>\n      <td>6.0</td>\n      <td>8.0</td>\n      <td>NaN</td>\n    </tr>\n  </tbody>\n</table>\n<p>10 rows × 23 columns</p>\n</div>"
     },
     "execution_count": 12,
     "metadata": {},
     "output_type": "execute_result"
    }
   ],
   "source": [
    "df_pp.head(10)"
   ]
  },
  {
   "cell_type": "code",
   "execution_count": 13,
   "id": "61698024-eff1-4e91-b242-6b061a975a14",
   "metadata": {
    "ExecuteTime": {
     "end_time": "2024-02-07T10:44:28.421915Z",
     "start_time": "2024-02-07T10:44:28.327Z"
    }
   },
   "outputs": [
    {
     "data": {
      "text/plain": "   Child  Wave    Variable  Alter  Child_School  Child_School_Participants  \\\n0   1420     7  GEN_Advice   1422            26                         23   \n1   1420     7  GEN_Leader   1429            26                         23   \n2   1421     7  GEN_Advice   1428            26                         23   \n\n   Child_Class_Y1  Child_Class_Y2  Child_Class_Y3  Child_num_per_class_Y1  \\\n0            74.0            74.0            74.0                    12.0   \n1            74.0            74.0            74.0                    12.0   \n2            74.0            74.0            74.0                    12.0   \n\n   ...  Child_num_per_class_Y3  Alter_School  Alter_School_Participants  \\\n0  ...                    13.0            26                         23   \n1  ...                    13.0            26                         23   \n2  ...                    13.0            26                         23   \n\n   Alter_Class_Y1  Alter_Class_Y2  Alter_Class_Y3  Alter_num_per_class_Y1  \\\n0            74.0            74.0            74.0                    12.0   \n1            74.0            74.0            74.0                    12.0   \n2            74.0            74.0            74.0                    12.0   \n\n   Alter_num_per_class_Y2  Alter_num_per_class_Y3  questions_per_wave  \n0                    14.0                    13.0                   4  \n1                    14.0                    13.0                   4  \n2                    14.0                    13.0                   4  \n\n[3 rows x 21 columns]",
      "text/html": "<div>\n<style scoped>\n    .dataframe tbody tr th:only-of-type {\n        vertical-align: middle;\n    }\n\n    .dataframe tbody tr th {\n        vertical-align: top;\n    }\n\n    .dataframe thead th {\n        text-align: right;\n    }\n</style>\n<table border=\"1\" class=\"dataframe\">\n  <thead>\n    <tr style=\"text-align: right;\">\n      <th></th>\n      <th>Child</th>\n      <th>Wave</th>\n      <th>Variable</th>\n      <th>Alter</th>\n      <th>Child_School</th>\n      <th>Child_School_Participants</th>\n      <th>Child_Class_Y1</th>\n      <th>Child_Class_Y2</th>\n      <th>Child_Class_Y3</th>\n      <th>Child_num_per_class_Y1</th>\n      <th>...</th>\n      <th>Child_num_per_class_Y3</th>\n      <th>Alter_School</th>\n      <th>Alter_School_Participants</th>\n      <th>Alter_Class_Y1</th>\n      <th>Alter_Class_Y2</th>\n      <th>Alter_Class_Y3</th>\n      <th>Alter_num_per_class_Y1</th>\n      <th>Alter_num_per_class_Y2</th>\n      <th>Alter_num_per_class_Y3</th>\n      <th>questions_per_wave</th>\n    </tr>\n  </thead>\n  <tbody>\n    <tr>\n      <th>0</th>\n      <td>1420</td>\n      <td>7</td>\n      <td>GEN_Advice</td>\n      <td>1422</td>\n      <td>26</td>\n      <td>23</td>\n      <td>74.0</td>\n      <td>74.0</td>\n      <td>74.0</td>\n      <td>12.0</td>\n      <td>...</td>\n      <td>13.0</td>\n      <td>26</td>\n      <td>23</td>\n      <td>74.0</td>\n      <td>74.0</td>\n      <td>74.0</td>\n      <td>12.0</td>\n      <td>14.0</td>\n      <td>13.0</td>\n      <td>4</td>\n    </tr>\n    <tr>\n      <th>1</th>\n      <td>1420</td>\n      <td>7</td>\n      <td>GEN_Leader</td>\n      <td>1429</td>\n      <td>26</td>\n      <td>23</td>\n      <td>74.0</td>\n      <td>74.0</td>\n      <td>74.0</td>\n      <td>12.0</td>\n      <td>...</td>\n      <td>13.0</td>\n      <td>26</td>\n      <td>23</td>\n      <td>74.0</td>\n      <td>74.0</td>\n      <td>74.0</td>\n      <td>12.0</td>\n      <td>14.0</td>\n      <td>13.0</td>\n      <td>4</td>\n    </tr>\n    <tr>\n      <th>2</th>\n      <td>1421</td>\n      <td>7</td>\n      <td>GEN_Advice</td>\n      <td>1428</td>\n      <td>26</td>\n      <td>23</td>\n      <td>74.0</td>\n      <td>74.0</td>\n      <td>74.0</td>\n      <td>12.0</td>\n      <td>...</td>\n      <td>13.0</td>\n      <td>26</td>\n      <td>23</td>\n      <td>74.0</td>\n      <td>74.0</td>\n      <td>74.0</td>\n      <td>12.0</td>\n      <td>14.0</td>\n      <td>13.0</td>\n      <td>4</td>\n    </tr>\n  </tbody>\n</table>\n<p>3 rows × 21 columns</p>\n</div>"
     },
     "execution_count": 13,
     "metadata": {},
     "output_type": "execute_result"
    }
   ],
   "source": [
    "# mapping the necessary columns\n",
    "df_nom['Child_School'] = df_nom['Child'].map(df_pp.set_index('Child')['School'])\n",
    "df_nom['Child_School_Participants'] = df_nom['Child'].map(df_pp.set_index('Child')['num_per_school'])\n",
    "df_nom['Child_Class_Y1'] = df_nom['Child'].map(df_pp.set_index('Child')['Class_Y1'])\n",
    "df_nom['Child_Class_Y2'] = df_nom['Child'].map(df_pp.set_index('Child')['Class_Y2'])\n",
    "df_nom['Child_Class_Y3'] = df_nom['Child'].map(df_pp.set_index('Child')['Class_Y3'])\n",
    "df_nom['Child_num_per_class_Y1'] = df_nom['Child'].map(df_pp.set_index('Child')['num_per_class_Y1'])\n",
    "df_nom['Child_num_per_class_Y2'] = df_nom['Child'].map(df_pp.set_index('Child')['num_per_class_Y2'])\n",
    "df_nom['Child_num_per_class_Y3'] = df_nom['Child'].map(df_pp.set_index('Child')['num_per_class_Y3'])\n",
    "\n",
    "df_nom['Alter_School'] = df_nom['Alter'].map(df_pp.set_index('Child')['School'])\n",
    "df_nom['Alter_School_Participants'] = df_nom['Alter'].map(df_pp.set_index('Child')['num_per_school'])\n",
    "df_nom['Alter_Class_Y1'] = df_nom['Alter'].map(df_pp.set_index('Child')['Class_Y1'])\n",
    "df_nom['Alter_Class_Y2'] = df_nom['Alter'].map(df_pp.set_index('Child')['Class_Y2'])\n",
    "df_nom['Alter_Class_Y3'] = df_nom['Alter'].map(df_pp.set_index('Child')['Class_Y3'])\n",
    "df_nom['Alter_num_per_class_Y1'] = df_nom['Alter'].map(df_pp.set_index('Child')['num_per_class_Y1'])\n",
    "df_nom['Alter_num_per_class_Y2'] = df_nom['Alter'].map(df_pp.set_index('Child')['num_per_class_Y2'])\n",
    "df_nom['Alter_num_per_class_Y3'] = df_nom['Alter'].map(df_pp.set_index('Child')['num_per_class_Y3'])\n",
    "\n",
    "df_nom['questions_per_wave'] = df_nom.Wave.map(df_nom.groupby(['Wave'])['Variable'].nunique())\n",
    "\n",
    "df_nom.head(3)"
   ]
  },
  {
   "cell_type": "markdown",
   "id": "9620c5f6-bed7-4927-89ff-749c8aff5e48",
   "metadata": {},
   "source": [
    "##### Check for same class and same school nominations"
   ]
  },
  {
   "cell_type": "code",
   "execution_count": 14,
   "id": "3ace1ecd-7c0d-43a9-a36d-32b0cc17b6a6",
   "metadata": {
    "ExecuteTime": {
     "end_time": "2024-02-07T10:44:31.344223Z",
     "start_time": "2024-02-07T10:44:31.270960Z"
    }
   },
   "outputs": [
    {
     "data": {
      "text/plain": "True    84051\nName: count, dtype: int64"
     },
     "execution_count": 14,
     "metadata": {},
     "output_type": "execute_result"
    }
   ],
   "source": [
    "(df_nom['Child_School'] == df_nom['Alter_School']).value_counts()"
   ]
  },
  {
   "cell_type": "code",
   "execution_count": 15,
   "id": "f2701325-3136-43f3-8396-10abe87d08fc",
   "metadata": {
    "ExecuteTime": {
     "end_time": "2024-02-07T10:44:31.908172Z",
     "start_time": "2024-02-07T10:44:31.842911Z"
    }
   },
   "outputs": [],
   "source": [
    "df_nom_nonnan_y1 = df_nom.dropna(subset=['Alter_Class_Y1', 'Child_Class_Y1'])\n",
    "df_nom_nonnan_y2 = df_nom.dropna(subset=['Alter_Class_Y2', 'Child_Class_Y2'])\n",
    "df_nom_nonnan_y3 = df_nom.dropna(subset=['Alter_Class_Y3', 'Child_Class_Y3'])"
   ]
  },
  {
   "cell_type": "code",
   "execution_count": 16,
   "id": "8ca078d3-d6cf-4236-8182-1463e60d026b",
   "metadata": {
    "ExecuteTime": {
     "end_time": "2024-02-07T10:44:32.809808Z",
     "start_time": "2024-02-07T10:44:32.714308Z"
    }
   },
   "outputs": [
    {
     "data": {
      "text/plain": "True     55813\nFalse     5772\nName: count, dtype: int64"
     },
     "execution_count": 16,
     "metadata": {},
     "output_type": "execute_result"
    }
   ],
   "source": [
    "(df_nom_nonnan_y1['Child_Class_Y1'] == df_nom_nonnan_y1['Alter_Class_Y1']).value_counts()"
   ]
  },
  {
   "cell_type": "code",
   "execution_count": 17,
   "id": "9b672c47-3eab-4409-977e-6b223896e0cb",
   "metadata": {
    "ExecuteTime": {
     "end_time": "2024-02-07T10:44:33.384753Z",
     "start_time": "2024-02-07T10:44:33.304382Z"
    }
   },
   "outputs": [
    {
     "data": {
      "text/plain": "True     53310\nFalse     8638\nName: count, dtype: int64"
     },
     "execution_count": 17,
     "metadata": {},
     "output_type": "execute_result"
    }
   ],
   "source": [
    "(df_nom_nonnan_y2['Child_Class_Y2'] == df_nom_nonnan_y2['Alter_Class_Y2']).value_counts()"
   ]
  },
  {
   "cell_type": "code",
   "execution_count": 18,
   "id": "8eacef31-06b1-4ad0-96de-a4b9455ae923",
   "metadata": {
    "ExecuteTime": {
     "end_time": "2024-02-07T10:44:34.409511Z",
     "start_time": "2024-02-07T10:44:34.325415Z"
    }
   },
   "outputs": [
    {
     "data": {
      "text/plain": "True     68564\nFalse    10104\nName: count, dtype: int64"
     },
     "execution_count": 18,
     "metadata": {},
     "output_type": "execute_result"
    }
   ],
   "source": [
    "(df_nom_nonnan_y3['Child_Class_Y3'] == df_nom_nonnan_y3['Alter_Class_Y3']).value_counts()"
   ]
  },
  {
   "cell_type": "markdown",
   "id": "67cb9f1b-d98a-44bb-9b92-bec7b1663be9",
   "metadata": {},
   "source": [
    "##### Result: about 10% of nominations are coming from out of class. For simplicity of the calculation it might be better to keep only within class influencer calculation."
   ]
  },
  {
   "cell_type": "code",
   "execution_count": 19,
   "id": "052ba92c-7cc6-4527-9f39-ecaf90625201",
   "metadata": {
    "ExecuteTime": {
     "end_time": "2024-02-07T10:44:40.389165Z",
     "start_time": "2024-02-07T10:44:40.296885Z"
    }
   },
   "outputs": [
    {
     "data": {
      "text/plain": "        Nominator  Wave                 Variable  Nominee  Child_School  \\\n0            1420     7               GEN_Advice     1422            26   \n1            1420     7               GEN_Leader     1429            26   \n2            1421     7               GEN_Advice     1428            26   \n4            1421     7               GEN_Leader     1429            26   \n6            1421     7  GEN_Social_Facilitation     1427            26   \n...           ...   ...                      ...      ...           ...   \n190622       1605     4               GEN_Want2B     1628            29   \n190623       1608     4               GEN_Want2B     1631            29   \n190624       1617     4               GEN_Want2B     1628            29   \n190626       3209     4               GEN_Want2B     4411            43   \n190627       4881     4               GEN_Want2B     3185            40   \n\n        Child_School_Participants  Child_Class_Y1  Child_Class_Y2  \\\n0                              23            74.0            74.0   \n1                              23            74.0            74.0   \n2                              23            74.0            74.0   \n4                              23            74.0            74.0   \n6                              23            74.0            74.0   \n...                           ...             ...             ...   \n190622                         81            81.0            81.0   \n190623                         81            81.0            81.0   \n190624                         81            81.0            81.0   \n190626                         16           141.0           141.0   \n190627                         70           135.0           135.0   \n\n        Child_Class_Y3  Child_num_per_class_Y1  ...  Child_num_per_class_Y3  \\\n0                 74.0                    12.0  ...                    13.0   \n1                 74.0                    12.0  ...                    13.0   \n2                 74.0                    12.0  ...                    13.0   \n4                 74.0                    12.0  ...                    13.0   \n6                 74.0                    12.0  ...                    13.0   \n...                ...                     ...  ...                     ...   \n190622            81.0                    28.0  ...                    28.0   \n190623            81.0                    28.0  ...                    28.0   \n190624            81.0                    28.0  ...                    28.0   \n190626           141.0                    14.0  ...                    16.0   \n190627           135.0                    20.0  ...                    20.0   \n\n        Alter_School  Alter_School_Participants  Alter_Class_Y1  \\\n0                 26                         23            74.0   \n1                 26                         23            74.0   \n2                 26                         23            74.0   \n4                 26                         23            74.0   \n6                 26                         23            74.0   \n...              ...                        ...             ...   \n190622            29                         81            81.0   \n190623            29                         81            81.0   \n190624            29                         81            81.0   \n190626            43                         16             NaN   \n190627            40                         70           135.0   \n\n        Alter_Class_Y2  Alter_Class_Y3  Alter_num_per_class_Y1  \\\n0                 74.0            74.0                    12.0   \n1                 74.0            74.0                    12.0   \n2                 74.0            74.0                    12.0   \n4                 74.0            74.0                    12.0   \n6                 74.0            74.0                    12.0   \n...                ...             ...                     ...   \n190622            81.0            81.0                    28.0   \n190623            81.0            81.0                    28.0   \n190624            81.0            81.0                    28.0   \n190626           141.0           141.0                     NaN   \n190627           135.0           135.0                    20.0   \n\n        Alter_num_per_class_Y2  Alter_num_per_class_Y3  questions_per_wave  \n0                         14.0                    13.0                   4  \n1                         14.0                    13.0                   4  \n2                         14.0                    13.0                   4  \n4                         14.0                    13.0                   4  \n6                         14.0                    13.0                   4  \n...                        ...                     ...                 ...  \n190622                    29.0                    28.0                   6  \n190623                    29.0                    28.0                   6  \n190624                    29.0                    28.0                   6  \n190626                    15.0                    16.0                   6  \n190627                    20.0                    20.0                   6  \n\n[84051 rows x 21 columns]",
      "text/html": "<div>\n<style scoped>\n    .dataframe tbody tr th:only-of-type {\n        vertical-align: middle;\n    }\n\n    .dataframe tbody tr th {\n        vertical-align: top;\n    }\n\n    .dataframe thead th {\n        text-align: right;\n    }\n</style>\n<table border=\"1\" class=\"dataframe\">\n  <thead>\n    <tr style=\"text-align: right;\">\n      <th></th>\n      <th>Nominator</th>\n      <th>Wave</th>\n      <th>Variable</th>\n      <th>Nominee</th>\n      <th>Child_School</th>\n      <th>Child_School_Participants</th>\n      <th>Child_Class_Y1</th>\n      <th>Child_Class_Y2</th>\n      <th>Child_Class_Y3</th>\n      <th>Child_num_per_class_Y1</th>\n      <th>...</th>\n      <th>Child_num_per_class_Y3</th>\n      <th>Alter_School</th>\n      <th>Alter_School_Participants</th>\n      <th>Alter_Class_Y1</th>\n      <th>Alter_Class_Y2</th>\n      <th>Alter_Class_Y3</th>\n      <th>Alter_num_per_class_Y1</th>\n      <th>Alter_num_per_class_Y2</th>\n      <th>Alter_num_per_class_Y3</th>\n      <th>questions_per_wave</th>\n    </tr>\n  </thead>\n  <tbody>\n    <tr>\n      <th>0</th>\n      <td>1420</td>\n      <td>7</td>\n      <td>GEN_Advice</td>\n      <td>1422</td>\n      <td>26</td>\n      <td>23</td>\n      <td>74.0</td>\n      <td>74.0</td>\n      <td>74.0</td>\n      <td>12.0</td>\n      <td>...</td>\n      <td>13.0</td>\n      <td>26</td>\n      <td>23</td>\n      <td>74.0</td>\n      <td>74.0</td>\n      <td>74.0</td>\n      <td>12.0</td>\n      <td>14.0</td>\n      <td>13.0</td>\n      <td>4</td>\n    </tr>\n    <tr>\n      <th>1</th>\n      <td>1420</td>\n      <td>7</td>\n      <td>GEN_Leader</td>\n      <td>1429</td>\n      <td>26</td>\n      <td>23</td>\n      <td>74.0</td>\n      <td>74.0</td>\n      <td>74.0</td>\n      <td>12.0</td>\n      <td>...</td>\n      <td>13.0</td>\n      <td>26</td>\n      <td>23</td>\n      <td>74.0</td>\n      <td>74.0</td>\n      <td>74.0</td>\n      <td>12.0</td>\n      <td>14.0</td>\n      <td>13.0</td>\n      <td>4</td>\n    </tr>\n    <tr>\n      <th>2</th>\n      <td>1421</td>\n      <td>7</td>\n      <td>GEN_Advice</td>\n      <td>1428</td>\n      <td>26</td>\n      <td>23</td>\n      <td>74.0</td>\n      <td>74.0</td>\n      <td>74.0</td>\n      <td>12.0</td>\n      <td>...</td>\n      <td>13.0</td>\n      <td>26</td>\n      <td>23</td>\n      <td>74.0</td>\n      <td>74.0</td>\n      <td>74.0</td>\n      <td>12.0</td>\n      <td>14.0</td>\n      <td>13.0</td>\n      <td>4</td>\n    </tr>\n    <tr>\n      <th>4</th>\n      <td>1421</td>\n      <td>7</td>\n      <td>GEN_Leader</td>\n      <td>1429</td>\n      <td>26</td>\n      <td>23</td>\n      <td>74.0</td>\n      <td>74.0</td>\n      <td>74.0</td>\n      <td>12.0</td>\n      <td>...</td>\n      <td>13.0</td>\n      <td>26</td>\n      <td>23</td>\n      <td>74.0</td>\n      <td>74.0</td>\n      <td>74.0</td>\n      <td>12.0</td>\n      <td>14.0</td>\n      <td>13.0</td>\n      <td>4</td>\n    </tr>\n    <tr>\n      <th>6</th>\n      <td>1421</td>\n      <td>7</td>\n      <td>GEN_Social_Facilitation</td>\n      <td>1427</td>\n      <td>26</td>\n      <td>23</td>\n      <td>74.0</td>\n      <td>74.0</td>\n      <td>74.0</td>\n      <td>12.0</td>\n      <td>...</td>\n      <td>13.0</td>\n      <td>26</td>\n      <td>23</td>\n      <td>74.0</td>\n      <td>74.0</td>\n      <td>74.0</td>\n      <td>12.0</td>\n      <td>14.0</td>\n      <td>13.0</td>\n      <td>4</td>\n    </tr>\n    <tr>\n      <th>...</th>\n      <td>...</td>\n      <td>...</td>\n      <td>...</td>\n      <td>...</td>\n      <td>...</td>\n      <td>...</td>\n      <td>...</td>\n      <td>...</td>\n      <td>...</td>\n      <td>...</td>\n      <td>...</td>\n      <td>...</td>\n      <td>...</td>\n      <td>...</td>\n      <td>...</td>\n      <td>...</td>\n      <td>...</td>\n      <td>...</td>\n      <td>...</td>\n      <td>...</td>\n      <td>...</td>\n    </tr>\n    <tr>\n      <th>190622</th>\n      <td>1605</td>\n      <td>4</td>\n      <td>GEN_Want2B</td>\n      <td>1628</td>\n      <td>29</td>\n      <td>81</td>\n      <td>81.0</td>\n      <td>81.0</td>\n      <td>81.0</td>\n      <td>28.0</td>\n      <td>...</td>\n      <td>28.0</td>\n      <td>29</td>\n      <td>81</td>\n      <td>81.0</td>\n      <td>81.0</td>\n      <td>81.0</td>\n      <td>28.0</td>\n      <td>29.0</td>\n      <td>28.0</td>\n      <td>6</td>\n    </tr>\n    <tr>\n      <th>190623</th>\n      <td>1608</td>\n      <td>4</td>\n      <td>GEN_Want2B</td>\n      <td>1631</td>\n      <td>29</td>\n      <td>81</td>\n      <td>81.0</td>\n      <td>81.0</td>\n      <td>81.0</td>\n      <td>28.0</td>\n      <td>...</td>\n      <td>28.0</td>\n      <td>29</td>\n      <td>81</td>\n      <td>81.0</td>\n      <td>81.0</td>\n      <td>81.0</td>\n      <td>28.0</td>\n      <td>29.0</td>\n      <td>28.0</td>\n      <td>6</td>\n    </tr>\n    <tr>\n      <th>190624</th>\n      <td>1617</td>\n      <td>4</td>\n      <td>GEN_Want2B</td>\n      <td>1628</td>\n      <td>29</td>\n      <td>81</td>\n      <td>81.0</td>\n      <td>81.0</td>\n      <td>81.0</td>\n      <td>28.0</td>\n      <td>...</td>\n      <td>28.0</td>\n      <td>29</td>\n      <td>81</td>\n      <td>81.0</td>\n      <td>81.0</td>\n      <td>81.0</td>\n      <td>28.0</td>\n      <td>29.0</td>\n      <td>28.0</td>\n      <td>6</td>\n    </tr>\n    <tr>\n      <th>190626</th>\n      <td>3209</td>\n      <td>4</td>\n      <td>GEN_Want2B</td>\n      <td>4411</td>\n      <td>43</td>\n      <td>16</td>\n      <td>141.0</td>\n      <td>141.0</td>\n      <td>141.0</td>\n      <td>14.0</td>\n      <td>...</td>\n      <td>16.0</td>\n      <td>43</td>\n      <td>16</td>\n      <td>NaN</td>\n      <td>141.0</td>\n      <td>141.0</td>\n      <td>NaN</td>\n      <td>15.0</td>\n      <td>16.0</td>\n      <td>6</td>\n    </tr>\n    <tr>\n      <th>190627</th>\n      <td>4881</td>\n      <td>4</td>\n      <td>GEN_Want2B</td>\n      <td>3185</td>\n      <td>40</td>\n      <td>70</td>\n      <td>135.0</td>\n      <td>135.0</td>\n      <td>135.0</td>\n      <td>20.0</td>\n      <td>...</td>\n      <td>20.0</td>\n      <td>40</td>\n      <td>70</td>\n      <td>135.0</td>\n      <td>135.0</td>\n      <td>135.0</td>\n      <td>20.0</td>\n      <td>20.0</td>\n      <td>20.0</td>\n      <td>6</td>\n    </tr>\n  </tbody>\n</table>\n<p>84051 rows × 21 columns</p>\n</div>"
     },
     "execution_count": 19,
     "metadata": {},
     "output_type": "execute_result"
    }
   ],
   "source": [
    "df_nom = df_nom.rename(columns={\"Alter\": \"Nominee\", \"Child\": \"Nominator\"})\n",
    "df_nom"
   ]
  },
  {
   "cell_type": "code",
   "outputs": [
    {
     "data": {
      "text/plain": "       Nominee  Nominator  Wave  num_nominations\n0          907        904     1                1\n1          909        908     1                1\n2          935        949     1                1\n3          936        949     1                1\n4          942        947     1                1\n...        ...        ...   ...              ...\n19721     6186       5442     6                2\n19722     6186       5442     7                2\n19723     6186       5448     7                1\n19724     6186       5449     6                1\n19725     6186       5451     6                1\n\n[19726 rows x 4 columns]",
      "text/html": "<div>\n<style scoped>\n    .dataframe tbody tr th:only-of-type {\n        vertical-align: middle;\n    }\n\n    .dataframe tbody tr th {\n        vertical-align: top;\n    }\n\n    .dataframe thead th {\n        text-align: right;\n    }\n</style>\n<table border=\"1\" class=\"dataframe\">\n  <thead>\n    <tr style=\"text-align: right;\">\n      <th></th>\n      <th>Nominee</th>\n      <th>Nominator</th>\n      <th>Wave</th>\n      <th>num_nominations</th>\n    </tr>\n  </thead>\n  <tbody>\n    <tr>\n      <th>0</th>\n      <td>907</td>\n      <td>904</td>\n      <td>1</td>\n      <td>1</td>\n    </tr>\n    <tr>\n      <th>1</th>\n      <td>909</td>\n      <td>908</td>\n      <td>1</td>\n      <td>1</td>\n    </tr>\n    <tr>\n      <th>2</th>\n      <td>935</td>\n      <td>949</td>\n      <td>1</td>\n      <td>1</td>\n    </tr>\n    <tr>\n      <th>3</th>\n      <td>936</td>\n      <td>949</td>\n      <td>1</td>\n      <td>1</td>\n    </tr>\n    <tr>\n      <th>4</th>\n      <td>942</td>\n      <td>947</td>\n      <td>1</td>\n      <td>1</td>\n    </tr>\n    <tr>\n      <th>...</th>\n      <td>...</td>\n      <td>...</td>\n      <td>...</td>\n      <td>...</td>\n    </tr>\n    <tr>\n      <th>19721</th>\n      <td>6186</td>\n      <td>5442</td>\n      <td>6</td>\n      <td>2</td>\n    </tr>\n    <tr>\n      <th>19722</th>\n      <td>6186</td>\n      <td>5442</td>\n      <td>7</td>\n      <td>2</td>\n    </tr>\n    <tr>\n      <th>19723</th>\n      <td>6186</td>\n      <td>5448</td>\n      <td>7</td>\n      <td>1</td>\n    </tr>\n    <tr>\n      <th>19724</th>\n      <td>6186</td>\n      <td>5449</td>\n      <td>6</td>\n      <td>1</td>\n    </tr>\n    <tr>\n      <th>19725</th>\n      <td>6186</td>\n      <td>5451</td>\n      <td>6</td>\n      <td>1</td>\n    </tr>\n  </tbody>\n</table>\n<p>19726 rows × 4 columns</p>\n</div>"
     },
     "execution_count": 53,
     "metadata": {},
     "output_type": "execute_result"
    }
   ],
   "source": [
    "# Condition on nomination influencer: GEN_Advice,GEN_Leader, GEN_Want2B\n",
    "condition = df_nom['Variable'].isin(['GEN_Leader', 'GEN_Advice', 'GEN_Want2B'])\n",
    "df_influencer = df_nom[condition]\n",
    "\n",
    "df_influencer_sum = df_influencer.groupby(['Nominee','Nominator','Wave'])['Wave'].count().reset_index(name='num_nominations')\n",
    "df_influencer_sum"
   ],
   "metadata": {
    "collapsed": false,
    "ExecuteTime": {
     "end_time": "2024-02-07T15:17:26.790827Z",
     "start_time": "2024-02-07T15:17:26.726704Z"
    }
   },
   "id": "e1c0f066df4fa78",
   "execution_count": 53
  },
  {
   "cell_type": "code",
   "outputs": [
    {
     "data": {
      "text/plain": "       Nominee  Nominator  Wave  num_nominations\n0          904        907     1                3\n1          907        904     1                2\n2          908        907     1                3\n3          908        909     1                1\n4          908        936     1                1\n...        ...        ...   ...              ...\n45271     6186       5448     6                1\n45272     6186       5448     7                2\n45273     6186       5449     6                2\n45274     6186       5449     7                1\n45275     6186       5451     6                1\n\n[45276 rows x 4 columns]",
      "text/html": "<div>\n<style scoped>\n    .dataframe tbody tr th:only-of-type {\n        vertical-align: middle;\n    }\n\n    .dataframe tbody tr th {\n        vertical-align: top;\n    }\n\n    .dataframe thead th {\n        text-align: right;\n    }\n</style>\n<table border=\"1\" class=\"dataframe\">\n  <thead>\n    <tr style=\"text-align: right;\">\n      <th></th>\n      <th>Nominee</th>\n      <th>Nominator</th>\n      <th>Wave</th>\n      <th>num_nominations</th>\n    </tr>\n  </thead>\n  <tbody>\n    <tr>\n      <th>0</th>\n      <td>904</td>\n      <td>907</td>\n      <td>1</td>\n      <td>3</td>\n    </tr>\n    <tr>\n      <th>1</th>\n      <td>907</td>\n      <td>904</td>\n      <td>1</td>\n      <td>2</td>\n    </tr>\n    <tr>\n      <th>2</th>\n      <td>908</td>\n      <td>907</td>\n      <td>1</td>\n      <td>3</td>\n    </tr>\n    <tr>\n      <th>3</th>\n      <td>908</td>\n      <td>909</td>\n      <td>1</td>\n      <td>1</td>\n    </tr>\n    <tr>\n      <th>4</th>\n      <td>908</td>\n      <td>936</td>\n      <td>1</td>\n      <td>1</td>\n    </tr>\n    <tr>\n      <th>...</th>\n      <td>...</td>\n      <td>...</td>\n      <td>...</td>\n      <td>...</td>\n    </tr>\n    <tr>\n      <th>45271</th>\n      <td>6186</td>\n      <td>5448</td>\n      <td>6</td>\n      <td>1</td>\n    </tr>\n    <tr>\n      <th>45272</th>\n      <td>6186</td>\n      <td>5448</td>\n      <td>7</td>\n      <td>2</td>\n    </tr>\n    <tr>\n      <th>45273</th>\n      <td>6186</td>\n      <td>5449</td>\n      <td>6</td>\n      <td>2</td>\n    </tr>\n    <tr>\n      <th>45274</th>\n      <td>6186</td>\n      <td>5449</td>\n      <td>7</td>\n      <td>1</td>\n    </tr>\n    <tr>\n      <th>45275</th>\n      <td>6186</td>\n      <td>5451</td>\n      <td>6</td>\n      <td>1</td>\n    </tr>\n  </tbody>\n</table>\n<p>45276 rows × 4 columns</p>\n</div>"
     },
     "execution_count": 54,
     "metadata": {},
     "output_type": "execute_result"
    }
   ],
   "source": [
    "\n",
    "df_influencer_sum = df_nom.groupby(['Nominee','Nominator','Wave'])['Wave'].count().reset_index(name='num_nominations')\n",
    "df_influencer_sum"
   ],
   "metadata": {
    "collapsed": false,
    "ExecuteTime": {
     "end_time": "2024-02-07T15:17:28.341501Z",
     "start_time": "2024-02-07T15:17:28.239599Z"
    }
   },
   "id": "5cf0c7e74d772f17",
   "execution_count": 54
  },
  {
   "cell_type": "code",
   "outputs": [],
   "source": [
    "df_influencer_sum['Nominee_id_School'] = df_influencer_sum['Nominee'].map(df_pp.set_index('Child')['School'])\n",
    "df_influencer_sum['Nominee_size_School'] = df_influencer_sum['Nominee'].map(df_pp.set_index('Child')['num_per_school'])\n",
    "df_influencer_sum['Nominee_id_Class_Y1'] = df_influencer_sum['Nominee'].map(df_pp.set_index('Child')['Class_Y1'])\n",
    "df_influencer_sum['Nominee_id_Class_Y2'] = df_influencer_sum['Nominee'].map(df_pp.set_index('Child')['Class_Y2'])\n",
    "df_influencer_sum['Nominee_id_Class_Y3'] = df_influencer_sum['Nominee'].map(df_pp.set_index('Child')['Class_Y3'])\n",
    "df_influencer_sum['Nominee_size_class_Y1'] = df_influencer_sum['Nominee'].map(df_pp.set_index('Child')['num_per_class_Y1'])\n",
    "df_influencer_sum['Nominee_size_class_Y2'] = df_influencer_sum['Nominee'].map(df_pp.set_index('Child')['num_per_class_Y2'])\n",
    "df_influencer_sum['Nominee_size_class_Y3'] = df_influencer_sum['Nominee'].map(df_pp.set_index('Child')['num_per_class_Y3'])\n",
    "\n",
    "df_influencer_sum['Nominator_id_School'] = df_influencer_sum['Nominator'].map(df_pp.set_index('Child')['School'])\n",
    "df_influencer_sum['Nominator_size_School'] = df_influencer_sum['Nominator'].map(df_pp.set_index('Child')['num_per_school'])\n",
    "df_influencer_sum['Nominator_id_Class_Y1'] = df_influencer_sum['Nominator'].map(df_pp.set_index('Child')['Class_Y1'])\n",
    "df_influencer_sum['Nominator_id_Class_Y2'] = df_influencer_sum['Nominator'].map(df_pp.set_index('Child')['Class_Y2'])\n",
    "df_influencer_sum['Nominator_id_Class_Y3'] = df_influencer_sum['Nominator'].map(df_pp.set_index('Child')['Class_Y3'])\n",
    "df_influencer_sum['Nominator_size_class_Y1'] = df_influencer_sum['Nominator'].map(df_pp.set_index('Child')['num_per_class_Y1'])\n",
    "df_influencer_sum['Nominator_size_class_Y2'] = df_influencer_sum['Nominator'].map(df_pp.set_index('Child')['num_per_class_Y2'])\n",
    "df_influencer_sum['Nominator_size_class_Y3'] = df_influencer_sum['Nominator'].map(df_pp.set_index('Child')['num_per_class_Y3'])\n",
    "\n",
    "df_influencer_sum['questions_per_wave'] = df_influencer_sum.Wave.map(df_influencer.groupby(['Wave'])['Variable'].nunique())\n"
   ],
   "metadata": {
    "collapsed": false,
    "ExecuteTime": {
     "end_time": "2024-02-07T15:17:29.936220Z",
     "start_time": "2024-02-07T15:17:29.854558Z"
    }
   },
   "id": "643fe5e2db2220aa",
   "execution_count": 55
  },
  {
   "cell_type": "code",
   "outputs": [
    {
     "data": {
      "text/plain": "       Nominee  Nominator  Wave  num_nominations  Nominee_id_School  \\\n0          904        907     1                3                 22   \n1          907        904     1                2                 22   \n2          908        907     1                3                 22   \n3          908        909     1                1                 22   \n4          908        936     1                1                 22   \n...        ...        ...   ...              ...                ...   \n45271     6186       5448     6                1                 29   \n45272     6186       5448     7                2                 29   \n45273     6186       5449     6                2                 29   \n45274     6186       5449     7                1                 29   \n45275     6186       5451     6                1                 29   \n\n       Nominee_size_School  Nominee_id_Class_Y1  Nominee_id_Class_Y2  \\\n0                       30                 52.0                 52.0   \n1                       30                 52.0                 52.0   \n2                       30                 52.0                 55.0   \n3                       30                 52.0                 55.0   \n4                       30                 52.0                 55.0   \n...                    ...                  ...                  ...   \n45271                   81                  NaN                  NaN   \n45272                   81                  NaN                  NaN   \n45273                   81                  NaN                  NaN   \n45274                   81                  NaN                  NaN   \n45275                   81                  NaN                  NaN   \n\n       Nominee_id_Class_Y3  Nominee_size_class_Y1  ...  Nominee_size_class_Y3  \\\n0                      NaN                    4.0  ...                    NaN   \n1                      NaN                    4.0  ...                    NaN   \n2                      NaN                    4.0  ...                    NaN   \n3                      NaN                    4.0  ...                    NaN   \n4                      NaN                    4.0  ...                    NaN   \n...                    ...                    ...  ...                    ...   \n45271                272.0                    NaN  ...                   27.0   \n45272                272.0                    NaN  ...                   27.0   \n45273                272.0                    NaN  ...                   27.0   \n45274                272.0                    NaN  ...                   27.0   \n45275                272.0                    NaN  ...                   27.0   \n\n       Nominator_id_School  Nominator_size_School  Nominator_id_Class_Y1  \\\n0                       22                     30                   52.0   \n1                       22                     30                   52.0   \n2                       22                     30                   52.0   \n3                       22                     30                   52.0   \n4                       22                     30                   54.0   \n...                    ...                    ...                    ...   \n45271                   29                     81                    NaN   \n45272                   29                     81                    NaN   \n45273                   29                     81                    NaN   \n45274                   29                     81                    NaN   \n45275                   29                     81                    NaN   \n\n       Nominator_id_Class_Y2  Nominator_id_Class_Y3  Nominator_size_class_Y1  \\\n0                       52.0                    NaN                      4.0   \n1                       52.0                    NaN                      4.0   \n2                       52.0                    NaN                      4.0   \n3                       55.0                    NaN                      4.0   \n4                       54.0                    NaN                      6.0   \n...                      ...                    ...                      ...   \n45271                    NaN                  272.0                      NaN   \n45272                    NaN                  272.0                      NaN   \n45273                    NaN                  272.0                      NaN   \n45274                    NaN                  272.0                      NaN   \n45275                    NaN                  272.0                      NaN   \n\n       Nominator_size_class_Y2  Nominator_size_class_Y3  questions_per_wave  \n0                          2.0                      NaN                   3  \n1                          2.0                      NaN                   3  \n2                          2.0                      NaN                   3  \n3                          8.0                      NaN                   3  \n4                          5.0                      NaN                   3  \n...                        ...                      ...                 ...  \n45271                      NaN                     27.0                   3  \n45272                      NaN                     27.0                   3  \n45273                      NaN                     27.0                   3  \n45274                      NaN                     27.0                   3  \n45275                      NaN                     27.0                   3  \n\n[45276 rows x 21 columns]",
      "text/html": "<div>\n<style scoped>\n    .dataframe tbody tr th:only-of-type {\n        vertical-align: middle;\n    }\n\n    .dataframe tbody tr th {\n        vertical-align: top;\n    }\n\n    .dataframe thead th {\n        text-align: right;\n    }\n</style>\n<table border=\"1\" class=\"dataframe\">\n  <thead>\n    <tr style=\"text-align: right;\">\n      <th></th>\n      <th>Nominee</th>\n      <th>Nominator</th>\n      <th>Wave</th>\n      <th>num_nominations</th>\n      <th>Nominee_id_School</th>\n      <th>Nominee_size_School</th>\n      <th>Nominee_id_Class_Y1</th>\n      <th>Nominee_id_Class_Y2</th>\n      <th>Nominee_id_Class_Y3</th>\n      <th>Nominee_size_class_Y1</th>\n      <th>...</th>\n      <th>Nominee_size_class_Y3</th>\n      <th>Nominator_id_School</th>\n      <th>Nominator_size_School</th>\n      <th>Nominator_id_Class_Y1</th>\n      <th>Nominator_id_Class_Y2</th>\n      <th>Nominator_id_Class_Y3</th>\n      <th>Nominator_size_class_Y1</th>\n      <th>Nominator_size_class_Y2</th>\n      <th>Nominator_size_class_Y3</th>\n      <th>questions_per_wave</th>\n    </tr>\n  </thead>\n  <tbody>\n    <tr>\n      <th>0</th>\n      <td>904</td>\n      <td>907</td>\n      <td>1</td>\n      <td>3</td>\n      <td>22</td>\n      <td>30</td>\n      <td>52.0</td>\n      <td>52.0</td>\n      <td>NaN</td>\n      <td>4.0</td>\n      <td>...</td>\n      <td>NaN</td>\n      <td>22</td>\n      <td>30</td>\n      <td>52.0</td>\n      <td>52.0</td>\n      <td>NaN</td>\n      <td>4.0</td>\n      <td>2.0</td>\n      <td>NaN</td>\n      <td>3</td>\n    </tr>\n    <tr>\n      <th>1</th>\n      <td>907</td>\n      <td>904</td>\n      <td>1</td>\n      <td>2</td>\n      <td>22</td>\n      <td>30</td>\n      <td>52.0</td>\n      <td>52.0</td>\n      <td>NaN</td>\n      <td>4.0</td>\n      <td>...</td>\n      <td>NaN</td>\n      <td>22</td>\n      <td>30</td>\n      <td>52.0</td>\n      <td>52.0</td>\n      <td>NaN</td>\n      <td>4.0</td>\n      <td>2.0</td>\n      <td>NaN</td>\n      <td>3</td>\n    </tr>\n    <tr>\n      <th>2</th>\n      <td>908</td>\n      <td>907</td>\n      <td>1</td>\n      <td>3</td>\n      <td>22</td>\n      <td>30</td>\n      <td>52.0</td>\n      <td>55.0</td>\n      <td>NaN</td>\n      <td>4.0</td>\n      <td>...</td>\n      <td>NaN</td>\n      <td>22</td>\n      <td>30</td>\n      <td>52.0</td>\n      <td>52.0</td>\n      <td>NaN</td>\n      <td>4.0</td>\n      <td>2.0</td>\n      <td>NaN</td>\n      <td>3</td>\n    </tr>\n    <tr>\n      <th>3</th>\n      <td>908</td>\n      <td>909</td>\n      <td>1</td>\n      <td>1</td>\n      <td>22</td>\n      <td>30</td>\n      <td>52.0</td>\n      <td>55.0</td>\n      <td>NaN</td>\n      <td>4.0</td>\n      <td>...</td>\n      <td>NaN</td>\n      <td>22</td>\n      <td>30</td>\n      <td>52.0</td>\n      <td>55.0</td>\n      <td>NaN</td>\n      <td>4.0</td>\n      <td>8.0</td>\n      <td>NaN</td>\n      <td>3</td>\n    </tr>\n    <tr>\n      <th>4</th>\n      <td>908</td>\n      <td>936</td>\n      <td>1</td>\n      <td>1</td>\n      <td>22</td>\n      <td>30</td>\n      <td>52.0</td>\n      <td>55.0</td>\n      <td>NaN</td>\n      <td>4.0</td>\n      <td>...</td>\n      <td>NaN</td>\n      <td>22</td>\n      <td>30</td>\n      <td>54.0</td>\n      <td>54.0</td>\n      <td>NaN</td>\n      <td>6.0</td>\n      <td>5.0</td>\n      <td>NaN</td>\n      <td>3</td>\n    </tr>\n    <tr>\n      <th>...</th>\n      <td>...</td>\n      <td>...</td>\n      <td>...</td>\n      <td>...</td>\n      <td>...</td>\n      <td>...</td>\n      <td>...</td>\n      <td>...</td>\n      <td>...</td>\n      <td>...</td>\n      <td>...</td>\n      <td>...</td>\n      <td>...</td>\n      <td>...</td>\n      <td>...</td>\n      <td>...</td>\n      <td>...</td>\n      <td>...</td>\n      <td>...</td>\n      <td>...</td>\n      <td>...</td>\n    </tr>\n    <tr>\n      <th>45271</th>\n      <td>6186</td>\n      <td>5448</td>\n      <td>6</td>\n      <td>1</td>\n      <td>29</td>\n      <td>81</td>\n      <td>NaN</td>\n      <td>NaN</td>\n      <td>272.0</td>\n      <td>NaN</td>\n      <td>...</td>\n      <td>27.0</td>\n      <td>29</td>\n      <td>81</td>\n      <td>NaN</td>\n      <td>NaN</td>\n      <td>272.0</td>\n      <td>NaN</td>\n      <td>NaN</td>\n      <td>27.0</td>\n      <td>3</td>\n    </tr>\n    <tr>\n      <th>45272</th>\n      <td>6186</td>\n      <td>5448</td>\n      <td>7</td>\n      <td>2</td>\n      <td>29</td>\n      <td>81</td>\n      <td>NaN</td>\n      <td>NaN</td>\n      <td>272.0</td>\n      <td>NaN</td>\n      <td>...</td>\n      <td>27.0</td>\n      <td>29</td>\n      <td>81</td>\n      <td>NaN</td>\n      <td>NaN</td>\n      <td>272.0</td>\n      <td>NaN</td>\n      <td>NaN</td>\n      <td>27.0</td>\n      <td>3</td>\n    </tr>\n    <tr>\n      <th>45273</th>\n      <td>6186</td>\n      <td>5449</td>\n      <td>6</td>\n      <td>2</td>\n      <td>29</td>\n      <td>81</td>\n      <td>NaN</td>\n      <td>NaN</td>\n      <td>272.0</td>\n      <td>NaN</td>\n      <td>...</td>\n      <td>27.0</td>\n      <td>29</td>\n      <td>81</td>\n      <td>NaN</td>\n      <td>NaN</td>\n      <td>272.0</td>\n      <td>NaN</td>\n      <td>NaN</td>\n      <td>27.0</td>\n      <td>3</td>\n    </tr>\n    <tr>\n      <th>45274</th>\n      <td>6186</td>\n      <td>5449</td>\n      <td>7</td>\n      <td>1</td>\n      <td>29</td>\n      <td>81</td>\n      <td>NaN</td>\n      <td>NaN</td>\n      <td>272.0</td>\n      <td>NaN</td>\n      <td>...</td>\n      <td>27.0</td>\n      <td>29</td>\n      <td>81</td>\n      <td>NaN</td>\n      <td>NaN</td>\n      <td>272.0</td>\n      <td>NaN</td>\n      <td>NaN</td>\n      <td>27.0</td>\n      <td>3</td>\n    </tr>\n    <tr>\n      <th>45275</th>\n      <td>6186</td>\n      <td>5451</td>\n      <td>6</td>\n      <td>1</td>\n      <td>29</td>\n      <td>81</td>\n      <td>NaN</td>\n      <td>NaN</td>\n      <td>272.0</td>\n      <td>NaN</td>\n      <td>...</td>\n      <td>27.0</td>\n      <td>29</td>\n      <td>81</td>\n      <td>NaN</td>\n      <td>NaN</td>\n      <td>272.0</td>\n      <td>NaN</td>\n      <td>NaN</td>\n      <td>27.0</td>\n      <td>3</td>\n    </tr>\n  </tbody>\n</table>\n<p>45276 rows × 21 columns</p>\n</div>"
     },
     "execution_count": 56,
     "metadata": {},
     "output_type": "execute_result"
    }
   ],
   "source": [
    "df_influencer_sum\n"
   ],
   "metadata": {
    "collapsed": false,
    "ExecuteTime": {
     "end_time": "2024-02-07T15:17:30.792133Z",
     "start_time": "2024-02-07T15:17:30.689141Z"
    }
   },
   "id": "527ad8abe1a25afd",
   "execution_count": 56
  },
  {
   "cell_type": "code",
   "outputs": [],
   "source": [],
   "metadata": {
    "collapsed": false,
    "ExecuteTime": {
     "end_time": "2024-02-07T15:17:31.625099Z",
     "start_time": "2024-02-07T15:17:31.563860Z"
    }
   },
   "id": "8c97672370f2b7f9",
   "execution_count": 56
  },
  {
   "cell_type": "code",
   "outputs": [
    {
     "data": {
      "text/plain": "       Nominee  Nominator  Wave  num_nominations  Nominee_id_School  \\\n0          904        907     1                3                 22   \n1          907        904     1                2                 22   \n2          908        907     1                3                 22   \n3          908        909     1                1                 22   \n4          908        936     1                1                 22   \n...        ...        ...   ...              ...                ...   \n45271     6186       5448     6                1                 29   \n45272     6186       5448     7                2                 29   \n45273     6186       5449     6                2                 29   \n45274     6186       5449     7                1                 29   \n45275     6186       5451     6                1                 29   \n\n       Nominee_size_School  Nominee_id_Class_Y1  Nominee_id_Class_Y2  \\\n0                       30                 52.0                 52.0   \n1                       30                 52.0                 52.0   \n2                       30                 52.0                 55.0   \n3                       30                 52.0                 55.0   \n4                       30                 52.0                 55.0   \n...                    ...                  ...                  ...   \n45271                   81                  NaN                  NaN   \n45272                   81                  NaN                  NaN   \n45273                   81                  NaN                  NaN   \n45274                   81                  NaN                  NaN   \n45275                   81                  NaN                  NaN   \n\n       Nominee_id_Class_Y3  Nominator_id_School  Nominator_size_School  \\\n0                      NaN                   22                     30   \n1                      NaN                   22                     30   \n2                      NaN                   22                     30   \n3                      NaN                   22                     30   \n4                      NaN                   22                     30   \n...                    ...                  ...                    ...   \n45271                272.0                   29                     81   \n45272                272.0                   29                     81   \n45273                272.0                   29                     81   \n45274                272.0                   29                     81   \n45275                272.0                   29                     81   \n\n       Nominator_id_Class_Y1  Nominator_id_Class_Y2  Nominator_id_Class_Y3  \\\n0                       52.0                   52.0                    NaN   \n1                       52.0                   52.0                    NaN   \n2                       52.0                   52.0                    NaN   \n3                       52.0                   55.0                    NaN   \n4                       54.0                   54.0                    NaN   \n...                      ...                    ...                    ...   \n45271                    NaN                    NaN                  272.0   \n45272                    NaN                    NaN                  272.0   \n45273                    NaN                    NaN                  272.0   \n45274                    NaN                    NaN                  272.0   \n45275                    NaN                    NaN                  272.0   \n\n       questions_per_wave  Nominee_size_class  Nominator_size_class  \n0                       3                 4.0                   4.0  \n1                       3                 4.0                   4.0  \n2                       3                 4.0                   4.0  \n3                       3                 4.0                   4.0  \n4                       3                 4.0                   6.0  \n...                   ...                 ...                   ...  \n45271                   3                27.0                  27.0  \n45272                   3                27.0                  27.0  \n45273                   3                27.0                  27.0  \n45274                   3                27.0                  27.0  \n45275                   3                27.0                  27.0  \n\n[45276 rows x 17 columns]",
      "text/html": "<div>\n<style scoped>\n    .dataframe tbody tr th:only-of-type {\n        vertical-align: middle;\n    }\n\n    .dataframe tbody tr th {\n        vertical-align: top;\n    }\n\n    .dataframe thead th {\n        text-align: right;\n    }\n</style>\n<table border=\"1\" class=\"dataframe\">\n  <thead>\n    <tr style=\"text-align: right;\">\n      <th></th>\n      <th>Nominee</th>\n      <th>Nominator</th>\n      <th>Wave</th>\n      <th>num_nominations</th>\n      <th>Nominee_id_School</th>\n      <th>Nominee_size_School</th>\n      <th>Nominee_id_Class_Y1</th>\n      <th>Nominee_id_Class_Y2</th>\n      <th>Nominee_id_Class_Y3</th>\n      <th>Nominator_id_School</th>\n      <th>Nominator_size_School</th>\n      <th>Nominator_id_Class_Y1</th>\n      <th>Nominator_id_Class_Y2</th>\n      <th>Nominator_id_Class_Y3</th>\n      <th>questions_per_wave</th>\n      <th>Nominee_size_class</th>\n      <th>Nominator_size_class</th>\n    </tr>\n  </thead>\n  <tbody>\n    <tr>\n      <th>0</th>\n      <td>904</td>\n      <td>907</td>\n      <td>1</td>\n      <td>3</td>\n      <td>22</td>\n      <td>30</td>\n      <td>52.0</td>\n      <td>52.0</td>\n      <td>NaN</td>\n      <td>22</td>\n      <td>30</td>\n      <td>52.0</td>\n      <td>52.0</td>\n      <td>NaN</td>\n      <td>3</td>\n      <td>4.0</td>\n      <td>4.0</td>\n    </tr>\n    <tr>\n      <th>1</th>\n      <td>907</td>\n      <td>904</td>\n      <td>1</td>\n      <td>2</td>\n      <td>22</td>\n      <td>30</td>\n      <td>52.0</td>\n      <td>52.0</td>\n      <td>NaN</td>\n      <td>22</td>\n      <td>30</td>\n      <td>52.0</td>\n      <td>52.0</td>\n      <td>NaN</td>\n      <td>3</td>\n      <td>4.0</td>\n      <td>4.0</td>\n    </tr>\n    <tr>\n      <th>2</th>\n      <td>908</td>\n      <td>907</td>\n      <td>1</td>\n      <td>3</td>\n      <td>22</td>\n      <td>30</td>\n      <td>52.0</td>\n      <td>55.0</td>\n      <td>NaN</td>\n      <td>22</td>\n      <td>30</td>\n      <td>52.0</td>\n      <td>52.0</td>\n      <td>NaN</td>\n      <td>3</td>\n      <td>4.0</td>\n      <td>4.0</td>\n    </tr>\n    <tr>\n      <th>3</th>\n      <td>908</td>\n      <td>909</td>\n      <td>1</td>\n      <td>1</td>\n      <td>22</td>\n      <td>30</td>\n      <td>52.0</td>\n      <td>55.0</td>\n      <td>NaN</td>\n      <td>22</td>\n      <td>30</td>\n      <td>52.0</td>\n      <td>55.0</td>\n      <td>NaN</td>\n      <td>3</td>\n      <td>4.0</td>\n      <td>4.0</td>\n    </tr>\n    <tr>\n      <th>4</th>\n      <td>908</td>\n      <td>936</td>\n      <td>1</td>\n      <td>1</td>\n      <td>22</td>\n      <td>30</td>\n      <td>52.0</td>\n      <td>55.0</td>\n      <td>NaN</td>\n      <td>22</td>\n      <td>30</td>\n      <td>54.0</td>\n      <td>54.0</td>\n      <td>NaN</td>\n      <td>3</td>\n      <td>4.0</td>\n      <td>6.0</td>\n    </tr>\n    <tr>\n      <th>...</th>\n      <td>...</td>\n      <td>...</td>\n      <td>...</td>\n      <td>...</td>\n      <td>...</td>\n      <td>...</td>\n      <td>...</td>\n      <td>...</td>\n      <td>...</td>\n      <td>...</td>\n      <td>...</td>\n      <td>...</td>\n      <td>...</td>\n      <td>...</td>\n      <td>...</td>\n      <td>...</td>\n      <td>...</td>\n    </tr>\n    <tr>\n      <th>45271</th>\n      <td>6186</td>\n      <td>5448</td>\n      <td>6</td>\n      <td>1</td>\n      <td>29</td>\n      <td>81</td>\n      <td>NaN</td>\n      <td>NaN</td>\n      <td>272.0</td>\n      <td>29</td>\n      <td>81</td>\n      <td>NaN</td>\n      <td>NaN</td>\n      <td>272.0</td>\n      <td>3</td>\n      <td>27.0</td>\n      <td>27.0</td>\n    </tr>\n    <tr>\n      <th>45272</th>\n      <td>6186</td>\n      <td>5448</td>\n      <td>7</td>\n      <td>2</td>\n      <td>29</td>\n      <td>81</td>\n      <td>NaN</td>\n      <td>NaN</td>\n      <td>272.0</td>\n      <td>29</td>\n      <td>81</td>\n      <td>NaN</td>\n      <td>NaN</td>\n      <td>272.0</td>\n      <td>3</td>\n      <td>27.0</td>\n      <td>27.0</td>\n    </tr>\n    <tr>\n      <th>45273</th>\n      <td>6186</td>\n      <td>5449</td>\n      <td>6</td>\n      <td>2</td>\n      <td>29</td>\n      <td>81</td>\n      <td>NaN</td>\n      <td>NaN</td>\n      <td>272.0</td>\n      <td>29</td>\n      <td>81</td>\n      <td>NaN</td>\n      <td>NaN</td>\n      <td>272.0</td>\n      <td>3</td>\n      <td>27.0</td>\n      <td>27.0</td>\n    </tr>\n    <tr>\n      <th>45274</th>\n      <td>6186</td>\n      <td>5449</td>\n      <td>7</td>\n      <td>1</td>\n      <td>29</td>\n      <td>81</td>\n      <td>NaN</td>\n      <td>NaN</td>\n      <td>272.0</td>\n      <td>29</td>\n      <td>81</td>\n      <td>NaN</td>\n      <td>NaN</td>\n      <td>272.0</td>\n      <td>3</td>\n      <td>27.0</td>\n      <td>27.0</td>\n    </tr>\n    <tr>\n      <th>45275</th>\n      <td>6186</td>\n      <td>5451</td>\n      <td>6</td>\n      <td>1</td>\n      <td>29</td>\n      <td>81</td>\n      <td>NaN</td>\n      <td>NaN</td>\n      <td>272.0</td>\n      <td>29</td>\n      <td>81</td>\n      <td>NaN</td>\n      <td>NaN</td>\n      <td>272.0</td>\n      <td>3</td>\n      <td>27.0</td>\n      <td>27.0</td>\n    </tr>\n  </tbody>\n</table>\n<p>45276 rows × 17 columns</p>\n</div>"
     },
     "execution_count": 57,
     "metadata": {},
     "output_type": "execute_result"
    }
   ],
   "source": [
    "df_influencer_sum['Nominee_size_class'] = np.select([df_influencer_sum['Wave'].isin([1,2,3]), df_influencer_sum['Wave'].isin([4]),df_influencer_sum['Wave'].isin([5,6,7])], [df_influencer_sum['Nominee_size_class_Y1'], df_influencer_sum['Nominee_size_class_Y2'],df_influencer_sum['Nominee_size_class_Y3']])\n",
    "df_influencer_sum['Nominator_size_class'] = np.select([df_influencer_sum['Wave'].isin([1,2,3]), df_influencer_sum['Wave'].isin([4]),df_influencer_sum['Wave'].isin([5,6,7])], [df_influencer_sum['Nominator_size_class_Y1'], df_influencer_sum['Nominator_size_class_Y2'],df_influencer_sum['Nominator_size_class_Y3']])\n",
    "df_influencer_sum = df_influencer_sum.drop(columns=['Nominee_size_class_Y1', 'Nominee_size_class_Y2','Nominee_size_class_Y3','Nominator_size_class_Y1','Nominator_size_class_Y2','Nominator_size_class_Y3'])\n",
    "df_influencer_sum\n"
   ],
   "metadata": {
    "collapsed": false,
    "ExecuteTime": {
     "end_time": "2024-02-07T15:17:33.040347Z",
     "start_time": "2024-02-07T15:17:32.923250Z"
    }
   },
   "id": "97140178cb4dbba2",
   "execution_count": 57
  },
  {
   "cell_type": "code",
   "execution_count": 58,
   "id": "cd33f029-1532-4df4-8bc0-4e446bbe6149",
   "metadata": {
    "ExecuteTime": {
     "end_time": "2024-02-07T15:17:33.748251Z",
     "start_time": "2024-02-07T15:17:33.679327Z"
    }
   },
   "outputs": [],
   "source": [
    "# assesing new variables to indicate if a nomination is coming from a same class participants, or not, or it is a NULL\n",
    "df_influencer_sum['sameClassY1'] = np.select([(df_influencer_sum['Nominator_id_Class_Y1'].isnull() | df_influencer_sum['Nominee_id_Class_Y1'].isnull()),(df_influencer_sum.Nominee_id_Class_Y1 == df_influencer_sum.Nominator_id_Class_Y1),(df_influencer_sum.Nominee_id_Class_Y1 != df_influencer_sum.Nominator_id_Class_Y1),],[-1,1,0])\n",
    "df_influencer_sum['sameClassY2'] = np.select([(df_influencer_sum['Nominator_id_Class_Y2'].isnull() | df_influencer_sum['Nominee_id_Class_Y2'].isnull()),(df_influencer_sum.Nominee_id_Class_Y2 == df_influencer_sum.Nominator_id_Class_Y2),(df_influencer_sum.Nominee_id_Class_Y2 != df_influencer_sum.Nominator_id_Class_Y2),],[-1,1,0])\n",
    "df_influencer_sum['sameClassY3'] = np.select([(df_influencer_sum['Nominator_id_Class_Y3'].isnull() | df_influencer_sum['Nominee_id_Class_Y3'].isnull()),(df_influencer_sum.Nominee_id_Class_Y3 == df_influencer_sum.Nominator_id_Class_Y3),(df_influencer_sum.Nominee_id_Class_Y3 != df_influencer_sum.Nominator_id_Class_Y3),],[-1,1,0])"
   ]
  },
  {
   "cell_type": "code",
   "execution_count": 59,
   "id": "b992c0be-0a9a-45d4-b344-037ea8611db0",
   "metadata": {
    "ExecuteTime": {
     "end_time": "2024-02-07T15:17:36.830931Z",
     "start_time": "2024-02-07T15:17:36.778609Z"
    }
   },
   "outputs": [
    {
     "data": {
      "text/plain": "(sameClassY1\n -1    14302\n  0     3949\n  1    27025\n Name: Nominee, dtype: int64,\n sameClassY2\n -1    13994\n  0     5335\n  1    25947\n Name: Nominee, dtype: int64,\n sameClassY3\n -1     2785\n  0     6133\n  1    36358\n Name: Nominee, dtype: int64)"
     },
     "execution_count": 59,
     "metadata": {},
     "output_type": "execute_result"
    }
   ],
   "source": [
    "df_influencer_sum.groupby('sameClassY1')['Nominee'].count(),df_influencer_sum.groupby('sameClassY2')['Nominee'].count(),df_influencer_sum.groupby('sameClassY3')['Nominee'].count()"
   ]
  },
  {
   "cell_type": "markdown",
   "id": "170ce311-8927-4981-badc-29af93a48805",
   "metadata": {},
   "source": [
    "#### Keep only the within class nominations"
   ]
  },
  {
   "cell_type": "code",
   "execution_count": 60,
   "id": "5e0ca3f7-6f90-4344-964e-6f1df5a5ffba",
   "metadata": {
    "ExecuteTime": {
     "end_time": "2024-02-07T15:17:38.317467Z",
     "start_time": "2024-02-07T15:17:38.253607Z"
    }
   },
   "outputs": [],
   "source": [
    "df_influencer_final = df_influencer_sum[(df_influencer_sum.sameClassY1 == 1) & (df_influencer_sum.sameClassY2 == 1) & (df_influencer_sum.sameClassY3 == 1)]"
   ]
  },
  {
   "cell_type": "code",
   "execution_count": 61,
   "id": "7a5aba9e-9626-4824-ba69-9b554f1fffdc",
   "metadata": {
    "ExecuteTime": {
     "end_time": "2024-02-07T15:17:40.180089Z",
     "start_time": "2024-02-07T15:17:40.132292Z"
    }
   },
   "outputs": [
    {
     "data": {
      "text/plain": "True    22257\nName: count, dtype: int64"
     },
     "execution_count": 61,
     "metadata": {},
     "output_type": "execute_result"
    }
   ],
   "source": [
    "(df_influencer_final['Nominee_size_class'] == df_influencer_final['Nominator_size_class']).value_counts()"
   ]
  },
  {
   "cell_type": "code",
   "execution_count": 62,
   "id": "d434f025-8129-4a25-a24a-d67e516fa223",
   "metadata": {
    "ExecuteTime": {
     "end_time": "2024-02-07T15:17:40.874503Z",
     "start_time": "2024-02-07T15:17:40.770667Z"
    }
   },
   "outputs": [
    {
     "data": {
      "text/plain": "((22257, 20), 743)"
     },
     "execution_count": 62,
     "metadata": {},
     "output_type": "execute_result"
    }
   ],
   "source": [
    "df_influencer_final.shape,df_influencer_final['Nominee'].nunique()"
   ]
  },
  {
   "cell_type": "code",
   "execution_count": 63,
   "id": "22b6fd3e-0aaa-460c-ba1f-438d4c01f40d",
   "metadata": {
    "ExecuteTime": {
     "end_time": "2024-02-07T15:17:41.641351Z",
     "start_time": "2024-02-07T15:17:41.589570Z"
    }
   },
   "outputs": [
    {
     "data": {
      "text/plain": "Nominee_size_class\n2.0        1\n3.0       46\n5.0       58\n6.0       86\n7.0      255\n8.0      118\n9.0      409\n10.0     168\n11.0     178\n12.0     749\n13.0     727\n14.0    1884\n15.0     457\n16.0    1124\n17.0    2056\n18.0    1383\n19.0    2292\n20.0    5142\n21.0    1158\n22.0     128\n23.0     234\n25.0     389\n28.0    2326\n29.0     889\nName: Nominee, dtype: int64"
     },
     "execution_count": 63,
     "metadata": {},
     "output_type": "execute_result"
    }
   ],
   "source": [
    "### Remove some small class sizes (decide on the cut-off)\n",
    "df_influencer_final.groupby('Nominee_size_class')['Nominee'].count()"
   ]
  },
  {
   "cell_type": "code",
   "execution_count": 64,
   "id": "2eade4f0-89be-4899-b845-da05169ebd97",
   "metadata": {
    "ExecuteTime": {
     "end_time": "2024-02-07T15:17:43.198994Z",
     "start_time": "2024-02-07T15:17:43.146697Z"
    }
   },
   "outputs": [],
   "source": [
    "#### For now, remove those classes with less than 10 participants"
   ]
  },
  {
   "cell_type": "code",
   "execution_count": 65,
   "id": "9715e100-30ac-4c54-a25a-0aef2467635f",
   "metadata": {
    "ExecuteTime": {
     "end_time": "2024-02-07T15:17:44.173422Z",
     "start_time": "2024-02-07T15:17:44.132878Z"
    }
   },
   "outputs": [],
   "source": [
    "df_influencer_final = df_influencer_final[df_influencer_final['Nominee_size_class']>=10]"
   ]
  },
  {
   "cell_type": "code",
   "execution_count": 66,
   "id": "ae41367c-4951-4771-a06d-6e20588cdf21",
   "metadata": {
    "ExecuteTime": {
     "end_time": "2024-02-07T15:17:45.048377Z",
     "start_time": "2024-02-07T15:17:45.004569Z"
    }
   },
   "outputs": [
    {
     "data": {
      "text/plain": "((21284, 20), 644)"
     },
     "execution_count": 66,
     "metadata": {},
     "output_type": "execute_result"
    }
   ],
   "source": [
    "df_influencer_final.shape,df_influencer_final['Nominee'].nunique()"
   ]
  },
  {
   "cell_type": "code",
   "execution_count": 67,
   "id": "5a0c9c64-8cb2-4d87-bac1-6a93d1f7f3cf",
   "metadata": {
    "ExecuteTime": {
     "end_time": "2024-02-07T15:17:46.242135Z",
     "start_time": "2024-02-07T15:17:46.183506Z"
    }
   },
   "outputs": [],
   "source": [
    "df_influencer_final = df_influencer_final.groupby(['Nominee','Wave','questions_per_wave','Nominee_size_class','Nominee_id_Class_Y1'])['num_nominations'].sum().reset_index(name='nominations_per_wave')"
   ]
  },
  {
   "cell_type": "code",
   "execution_count": 68,
   "id": "914caa2f-92fd-4e62-ab37-ae59b043bcf7",
   "metadata": {
    "ExecuteTime": {
     "end_time": "2024-02-07T15:17:47.120552Z",
     "start_time": "2024-02-07T15:17:47.020576Z"
    }
   },
   "outputs": [
    {
     "data": {
      "text/plain": "      Nominee  Wave  questions_per_wave  Nominee_size_class  \\\n0        1046     1                   3                10.0   \n1        1046     2                   3                10.0   \n2        1046     3                   3                10.0   \n3        1046     4                   3                10.0   \n4        1047     1                   3                10.0   \n...       ...   ...                 ...                 ...   \n3018     6137     6                   3                21.0   \n3019     6137     7                   3                21.0   \n3020     6138     5                   3                21.0   \n3021     6138     6                   3                21.0   \n3022     6138     7                   3                21.0   \n\n      Nominee_id_Class_Y1  nominations_per_wave  total_nominations  \n0                    59.0                     7                 20  \n1                    59.0                     4                 20  \n2                    59.0                     4                 20  \n3                    59.0                     5                 20  \n4                    59.0                    12                 26  \n...                   ...                   ...                ...  \n3018                131.0                     7                 28  \n3019                131.0                     4                 28  \n3020                131.0                    28                 78  \n3021                131.0                    29                 78  \n3022                131.0                    21                 78  \n\n[3023 rows x 7 columns]",
      "text/html": "<div>\n<style scoped>\n    .dataframe tbody tr th:only-of-type {\n        vertical-align: middle;\n    }\n\n    .dataframe tbody tr th {\n        vertical-align: top;\n    }\n\n    .dataframe thead th {\n        text-align: right;\n    }\n</style>\n<table border=\"1\" class=\"dataframe\">\n  <thead>\n    <tr style=\"text-align: right;\">\n      <th></th>\n      <th>Nominee</th>\n      <th>Wave</th>\n      <th>questions_per_wave</th>\n      <th>Nominee_size_class</th>\n      <th>Nominee_id_Class_Y1</th>\n      <th>nominations_per_wave</th>\n      <th>total_nominations</th>\n    </tr>\n  </thead>\n  <tbody>\n    <tr>\n      <th>0</th>\n      <td>1046</td>\n      <td>1</td>\n      <td>3</td>\n      <td>10.0</td>\n      <td>59.0</td>\n      <td>7</td>\n      <td>20</td>\n    </tr>\n    <tr>\n      <th>1</th>\n      <td>1046</td>\n      <td>2</td>\n      <td>3</td>\n      <td>10.0</td>\n      <td>59.0</td>\n      <td>4</td>\n      <td>20</td>\n    </tr>\n    <tr>\n      <th>2</th>\n      <td>1046</td>\n      <td>3</td>\n      <td>3</td>\n      <td>10.0</td>\n      <td>59.0</td>\n      <td>4</td>\n      <td>20</td>\n    </tr>\n    <tr>\n      <th>3</th>\n      <td>1046</td>\n      <td>4</td>\n      <td>3</td>\n      <td>10.0</td>\n      <td>59.0</td>\n      <td>5</td>\n      <td>20</td>\n    </tr>\n    <tr>\n      <th>4</th>\n      <td>1047</td>\n      <td>1</td>\n      <td>3</td>\n      <td>10.0</td>\n      <td>59.0</td>\n      <td>12</td>\n      <td>26</td>\n    </tr>\n    <tr>\n      <th>...</th>\n      <td>...</td>\n      <td>...</td>\n      <td>...</td>\n      <td>...</td>\n      <td>...</td>\n      <td>...</td>\n      <td>...</td>\n    </tr>\n    <tr>\n      <th>3018</th>\n      <td>6137</td>\n      <td>6</td>\n      <td>3</td>\n      <td>21.0</td>\n      <td>131.0</td>\n      <td>7</td>\n      <td>28</td>\n    </tr>\n    <tr>\n      <th>3019</th>\n      <td>6137</td>\n      <td>7</td>\n      <td>3</td>\n      <td>21.0</td>\n      <td>131.0</td>\n      <td>4</td>\n      <td>28</td>\n    </tr>\n    <tr>\n      <th>3020</th>\n      <td>6138</td>\n      <td>5</td>\n      <td>3</td>\n      <td>21.0</td>\n      <td>131.0</td>\n      <td>28</td>\n      <td>78</td>\n    </tr>\n    <tr>\n      <th>3021</th>\n      <td>6138</td>\n      <td>6</td>\n      <td>3</td>\n      <td>21.0</td>\n      <td>131.0</td>\n      <td>29</td>\n      <td>78</td>\n    </tr>\n    <tr>\n      <th>3022</th>\n      <td>6138</td>\n      <td>7</td>\n      <td>3</td>\n      <td>21.0</td>\n      <td>131.0</td>\n      <td>21</td>\n      <td>78</td>\n    </tr>\n  </tbody>\n</table>\n<p>3023 rows × 7 columns</p>\n</div>"
     },
     "execution_count": 68,
     "metadata": {},
     "output_type": "execute_result"
    }
   ],
   "source": [
    "df_influencer_final['total_nominations'] = df_influencer_final.Nominee.map(df_influencer_final.groupby(['Nominee'])['nominations_per_wave'].sum())\n",
    "df_influencer_final"
   ]
  },
  {
   "cell_type": "code",
   "execution_count": 69,
   "id": "acbd33a0-7861-4ee9-9421-1a5598e53466",
   "metadata": {
    "ExecuteTime": {
     "end_time": "2024-02-07T15:17:49.143597Z",
     "start_time": "2024-02-07T15:17:49.086284Z"
    }
   },
   "outputs": [],
   "source": [
    "df_influencer_final['influencer_ratio_wave'] = df_influencer_final['nominations_per_wave']/((df_influencer_final['Nominee_size_class']-1)*df_influencer_final['questions_per_wave'])"
   ]
  },
  {
   "cell_type": "code",
   "execution_count": 70,
   "id": "40f49a13-cda7-4b1e-bb8e-ce75eca256cd",
   "metadata": {
    "ExecuteTime": {
     "end_time": "2024-02-07T15:18:10.699999Z",
     "start_time": "2024-02-07T15:18:10.624332Z"
    }
   },
   "outputs": [],
   "source": [
    "df_influencer_final['influencer_ratio_total'] = df_influencer_final.Nominee.map(df_influencer_final.groupby(['Nominee'])['influencer_ratio_wave'].sum())/df_influencer_final.Nominee.map(df_influencer_final.groupby(['Nominee'])['influencer_ratio_wave'].count())"
   ]
  },
  {
   "cell_type": "code",
   "execution_count": 73,
   "id": "21738490-9108-48e1-82cf-4caafe6304f6",
   "metadata": {
    "ExecuteTime": {
     "end_time": "2024-02-07T15:18:32.870411Z",
     "start_time": "2024-02-07T15:18:32.564430Z"
    }
   },
   "outputs": [
    {
     "data": {
      "text/plain": "<Figure size 640x480 with 1 Axes>",
      "image/png": "[encoded data removed]"
     },
     "metadata": {},
     "output_type": "display_data"
    }
   ],
   "source": [
    "import matplotlib.pyplot as plt\n",
    "\n",
    "plt.scatter(df_influencer_final[df_influencer_final.Wave==1]['influencer_ratio_wave'], df_influencer_final[df_influencer_final.Wave==1]['Nominee_size_class'], marker='o');"
   ]
  },
  {
   "cell_type": "code",
   "execution_count": 74,
   "id": "d9c5292b-7f44-47a8-8f24-2696fdf086d3",
   "metadata": {
    "ExecuteTime": {
     "end_time": "2024-02-07T15:19:00.779738Z",
     "start_time": "2024-02-07T15:19:00.411927Z"
    }
   },
   "outputs": [
    {
     "data": {
      "text/plain": "<Axes: ylabel='Frequency'>"
     },
     "execution_count": 74,
     "metadata": {},
     "output_type": "execute_result"
    },
    {
     "data": {
      "text/plain": "<Figure size 640x480 with 1 Axes>",
      "image/png": "[encoded data removed]"
     },
     "metadata": {},
     "output_type": "display_data"
    }
   ],
   "source": [
    "df_influencer_final['influencer_ratio_total'].plot.hist(bins=100)"
   ]
  },
  {
   "cell_type": "code",
   "execution_count": 37,
   "id": "0a444c3e-e2bd-4779-8b0f-e0e300733ec2",
   "metadata": {},
   "outputs": [],
   "source": [
    "### PERCENTILE THRESHOLD 10% or 15% percentile cut-off (to link with previous literature)\n",
    "#np.percentile(df_valid_noms['influencer_ratio_total'], 85),np.percentile(df_valid_noms['influencer_ratio_total'], 90),np.percentile(df_valid_noms['influencer_ratio_total'], 95)\n",
    "# df_valid_noms[df_valid_noms['influencer_ratio_total']>=0.25]['Nominee'].nunique(),df_valid_noms[df_valid_noms['influencer_ratio_total']>=0.23]['Nominee'].nunique(),df_valid_noms[df_valid_noms['influencer_ratio_total']>=0.21]['Nominee'].nunique()\n",
    "# df_valid_noms['isInfluencer'] = np.select([df_valid_noms['influencer_ratio_total']>=0.23],[1])"
   ]
  },
  {
   "cell_type": "code",
   "execution_count": 75,
   "id": "018b2fa4-d8fc-4ce3-9bcf-b762e38120e2",
   "metadata": {
    "ExecuteTime": {
     "end_time": "2024-02-07T15:29:14.015025Z",
     "start_time": "2024-02-07T15:29:13.940255Z"
    }
   },
   "outputs": [
    {
     "data": {
      "text/plain": "     Nominee  influencer_ratio_total  Nominee_id_Class_Y1  total_nominations  \\\n0       1046                0.185185                 59.0                 20   \n1       1047                0.240741                 59.0                 26   \n2       1049                0.157407                 59.0                 17   \n3       1050                0.194444                 59.0                 21   \n4       1055                0.209877                 59.0                 17   \n..       ...                     ...                  ...                ...   \n639     4889                0.254167                131.0                 61   \n640     4890                0.154167                131.0                 37   \n641     6135                0.255556                131.0                 46   \n642     6137                0.155556                131.0                 28   \n643     6138                0.433333                131.0                 78   \n\n     Waves  \n0        4  \n1        4  \n2        4  \n3        4  \n4        3  \n..     ...  \n639      4  \n640      4  \n641      3  \n642      3  \n643      3  \n\n[644 rows x 5 columns]",
      "text/html": "<div>\n<style scoped>\n    .dataframe tbody tr th:only-of-type {\n        vertical-align: middle;\n    }\n\n    .dataframe tbody tr th {\n        vertical-align: top;\n    }\n\n    .dataframe thead th {\n        text-align: right;\n    }\n</style>\n<table border=\"1\" class=\"dataframe\">\n  <thead>\n    <tr style=\"text-align: right;\">\n      <th></th>\n      <th>Nominee</th>\n      <th>influencer_ratio_total</th>\n      <th>Nominee_id_Class_Y1</th>\n      <th>total_nominations</th>\n      <th>Waves</th>\n    </tr>\n  </thead>\n  <tbody>\n    <tr>\n      <th>0</th>\n      <td>1046</td>\n      <td>0.185185</td>\n      <td>59.0</td>\n      <td>20</td>\n      <td>4</td>\n    </tr>\n    <tr>\n      <th>1</th>\n      <td>1047</td>\n      <td>0.240741</td>\n      <td>59.0</td>\n      <td>26</td>\n      <td>4</td>\n    </tr>\n    <tr>\n      <th>2</th>\n      <td>1049</td>\n      <td>0.157407</td>\n      <td>59.0</td>\n      <td>17</td>\n      <td>4</td>\n    </tr>\n    <tr>\n      <th>3</th>\n      <td>1050</td>\n      <td>0.194444</td>\n      <td>59.0</td>\n      <td>21</td>\n      <td>4</td>\n    </tr>\n    <tr>\n      <th>4</th>\n      <td>1055</td>\n      <td>0.209877</td>\n      <td>59.0</td>\n      <td>17</td>\n      <td>3</td>\n    </tr>\n    <tr>\n      <th>...</th>\n      <td>...</td>\n      <td>...</td>\n      <td>...</td>\n      <td>...</td>\n      <td>...</td>\n    </tr>\n    <tr>\n      <th>639</th>\n      <td>4889</td>\n      <td>0.254167</td>\n      <td>131.0</td>\n      <td>61</td>\n      <td>4</td>\n    </tr>\n    <tr>\n      <th>640</th>\n      <td>4890</td>\n      <td>0.154167</td>\n      <td>131.0</td>\n      <td>37</td>\n      <td>4</td>\n    </tr>\n    <tr>\n      <th>641</th>\n      <td>6135</td>\n      <td>0.255556</td>\n      <td>131.0</td>\n      <td>46</td>\n      <td>3</td>\n    </tr>\n    <tr>\n      <th>642</th>\n      <td>6137</td>\n      <td>0.155556</td>\n      <td>131.0</td>\n      <td>28</td>\n      <td>3</td>\n    </tr>\n    <tr>\n      <th>643</th>\n      <td>6138</td>\n      <td>0.433333</td>\n      <td>131.0</td>\n      <td>78</td>\n      <td>3</td>\n    </tr>\n  </tbody>\n</table>\n<p>644 rows × 5 columns</p>\n</div>"
     },
     "execution_count": 75,
     "metadata": {},
     "output_type": "execute_result"
    }
   ],
   "source": [
    "df_final = df_influencer_final.groupby(['Nominee','influencer_ratio_total','Nominee_id_Class_Y1','total_nominations'])['influencer_ratio_total'].count().reset_index(name='Waves')\n",
    "df_final"
   ]
  },
  {
   "cell_type": "code",
   "execution_count": 39,
   "id": "24dc19c7-5039-426c-8629-c18a502bb4cd",
   "metadata": {},
   "outputs": [
    {
     "data": {
      "text/html": [
       "<div>\n",
       "<style scoped>\n",
       "    .dataframe tbody tr th:only-of-type {\n",
       "        vertical-align: middle;\n",
       "    }\n",
       "\n",
       "    .dataframe tbody tr th {\n",
       "        vertical-align: top;\n",
       "    }\n",
       "\n",
       "    .dataframe thead th {\n",
       "        text-align: right;\n",
       "    }\n",
       "</style>\n",
       "<table border=\"1\" class=\"dataframe\">\n",
       "  <thead>\n",
       "    <tr style=\"text-align: right;\">\n",
       "      <th></th>\n",
       "      <th>Nominee</th>\n",
       "      <th>influencer_ratio_total</th>\n",
       "      <th>Nominee_id_Class_Y1</th>\n",
       "      <th>total_nominations</th>\n",
       "      <th>Waves</th>\n",
       "    </tr>\n",
       "  </thead>\n",
       "  <tbody>\n",
       "    <tr>\n",
       "      <th>count</th>\n",
       "      <td>644.000000</td>\n",
       "      <td>644.000000</td>\n",
       "      <td>644.000000</td>\n",
       "      <td>644.000000</td>\n",
       "      <td>644.000000</td>\n",
       "    </tr>\n",
       "    <tr>\n",
       "      <th>mean</th>\n",
       "      <td>2215.246894</td>\n",
       "      <td>0.141560</td>\n",
       "      <td>100.003106</td>\n",
       "      <td>67.996894</td>\n",
       "      <td>4.694099</td>\n",
       "    </tr>\n",
       "    <tr>\n",
       "      <th>std</th>\n",
       "      <td>860.137025</td>\n",
       "      <td>0.074242</td>\n",
       "      <td>27.944012</td>\n",
       "      <td>53.639050</td>\n",
       "      <td>1.695634</td>\n",
       "    </tr>\n",
       "    <tr>\n",
       "      <th>min</th>\n",
       "      <td>1046.000000</td>\n",
       "      <td>0.011078</td>\n",
       "      <td>59.000000</td>\n",
       "      <td>1.000000</td>\n",
       "      <td>1.000000</td>\n",
       "    </tr>\n",
       "    <tr>\n",
       "      <th>25%</th>\n",
       "      <td>1484.000000</td>\n",
       "      <td>0.083251</td>\n",
       "      <td>75.000000</td>\n",
       "      <td>30.000000</td>\n",
       "      <td>4.000000</td>\n",
       "    </tr>\n",
       "    <tr>\n",
       "      <th>50%</th>\n",
       "      <td>2262.500000</td>\n",
       "      <td>0.138549</td>\n",
       "      <td>100.000000</td>\n",
       "      <td>56.000000</td>\n",
       "      <td>4.000000</td>\n",
       "    </tr>\n",
       "    <tr>\n",
       "      <th>75%</th>\n",
       "      <td>2998.250000</td>\n",
       "      <td>0.190789</td>\n",
       "      <td>130.250000</td>\n",
       "      <td>89.000000</td>\n",
       "      <td>7.000000</td>\n",
       "    </tr>\n",
       "    <tr>\n",
       "      <th>max</th>\n",
       "      <td>6138.000000</td>\n",
       "      <td>0.464947</td>\n",
       "      <td>141.000000</td>\n",
       "      <td>347.000000</td>\n",
       "      <td>7.000000</td>\n",
       "    </tr>\n",
       "  </tbody>\n",
       "</table>\n",
       "</div>"
      ],
      "text/plain": [
       "           Nominee  influencer_ratio_total  Nominee_id_Class_Y1  \\\n",
       "count   644.000000              644.000000           644.000000   \n",
       "mean   2215.246894                0.141560           100.003106   \n",
       "std     860.137025                0.074242            27.944012   \n",
       "min    1046.000000                0.011078            59.000000   \n",
       "25%    1484.000000                0.083251            75.000000   \n",
       "50%    2262.500000                0.138549           100.000000   \n",
       "75%    2998.250000                0.190789           130.250000   \n",
       "max    6138.000000                0.464947           141.000000   \n",
       "\n",
       "       total_nominations       Waves  \n",
       "count         644.000000  644.000000  \n",
       "mean           67.996894    4.694099  \n",
       "std            53.639050    1.695634  \n",
       "min             1.000000    1.000000  \n",
       "25%            30.000000    4.000000  \n",
       "50%            56.000000    4.000000  \n",
       "75%            89.000000    7.000000  \n",
       "max           347.000000    7.000000  "
      ]
     },
     "execution_count": 39,
     "metadata": {},
     "output_type": "execute_result"
    }
   ],
   "source": [
    "df_final.describe()"
   ]
  },
  {
   "cell_type": "markdown",
   "id": "f67e166a-2175-4dcd-bf7c-172939c0a687",
   "metadata": {},
   "source": [
    "##### Percentage Threshold - label 10% of highest influencer_Ratio as influencers"
   ]
  },
  {
   "cell_type": "code",
   "execution_count": 76,
   "id": "55c425c1-af47-4d49-921f-96b162f1ff14",
   "metadata": {
    "ExecuteTime": {
     "end_time": "2024-02-07T15:30:45.337992Z",
     "start_time": "2024-02-07T15:30:45.300098Z"
    }
   },
   "outputs": [
    {
     "data": {
      "text/plain": "96"
     },
     "execution_count": 76,
     "metadata": {},
     "output_type": "execute_result"
    }
   ],
   "source": [
    "num_desired_influencers = math.floor(df_final['Nominee'].nunique()*0.15)\n",
    "num_desired_influencers"
   ]
  },
  {
   "cell_type": "code",
   "execution_count": 77,
   "id": "760b544a-fb46-4a58-8532-dc513cc64bb9",
   "metadata": {
    "ExecuteTime": {
     "end_time": "2024-02-07T15:30:54.298099Z",
     "start_time": "2024-02-07T15:30:54.262280Z"
    }
   },
   "outputs": [
    {
     "data": {
      "text/plain": "96"
     },
     "execution_count": 77,
     "metadata": {},
     "output_type": "execute_result"
    }
   ],
   "source": [
    "lst_influencers = df_final.nlargest(num_desired_influencers,'influencer_ratio_total')['Nominee'].unique()\n",
    "len(lst_influencers)"
   ]
  },
  {
   "cell_type": "code",
   "execution_count": 78,
   "id": "85338103-6cee-4fb5-b619-b49c5ae45e4a",
   "metadata": {
    "ExecuteTime": {
     "end_time": "2024-02-07T15:31:03.371498Z",
     "start_time": "2024-02-07T15:31:03.340392Z"
    }
   },
   "outputs": [],
   "source": [
    "df_final['isInfluencer'] = np.select([df_final.Nominee.isin(lst_influencers)],[1])"
   ]
  },
  {
   "cell_type": "code",
   "execution_count": 79,
   "id": "61b31e5a-434d-4d07-8e94-dd00ec995c35",
   "metadata": {
    "ExecuteTime": {
     "end_time": "2024-02-07T15:31:04.687204Z",
     "start_time": "2024-02-07T15:31:04.625628Z"
    }
   },
   "outputs": [
    {
     "data": {
      "text/plain": "96"
     },
     "execution_count": 79,
     "metadata": {},
     "output_type": "execute_result"
    }
   ],
   "source": [
    "len(df_final[df_final.isInfluencer == 1]['Nominee'].unique())"
   ]
  },
  {
   "cell_type": "markdown",
   "id": "062a9e57-cce8-4aff-83a8-dfd4624cc171",
   "metadata": {},
   "source": [
    "#### How many classes are with detected influencers and how many not?"
   ]
  },
  {
   "cell_type": "markdown",
   "id": "f92a85ed-362b-430e-b1ba-f27772de1d8f",
   "metadata": {},
   "source": [
    "##### note that this is not really accurate, as we take class y1 as reference (and classes can be changed) and we are looking at total_influencer (which is a combination of all 3 years)"
   ]
  },
  {
   "cell_type": "code",
   "execution_count": 80,
   "id": "5fe8ce7b-5713-4a21-9d1b-c47533fc6582",
   "metadata": {
    "ExecuteTime": {
     "end_time": "2024-02-07T15:31:20.867010Z",
     "start_time": "2024-02-07T15:31:20.800628Z"
    }
   },
   "outputs": [
    {
     "data": {
      "text/plain": "51.06382978723404"
     },
     "execution_count": 80,
     "metadata": {},
     "output_type": "execute_result"
    }
   ],
   "source": [
    "df_final[df_final.isInfluencer == 1]['Nominee_id_Class_Y1'].nunique()/df_final['Nominee_id_Class_Y1'].nunique()*100"
   ]
  },
  {
   "cell_type": "markdown",
   "id": "60584811-a091-4c28-8d7c-1ab744b52d52",
   "metadata": {},
   "source": [
    "##### For complete accuracy, we need to generate influencers per wave, do we want this only for analysis purpose?"
   ]
  },
  {
   "cell_type": "markdown",
   "id": "4a3572f7-ad84-4ecf-9410-be4d701f63ac",
   "metadata": {},
   "source": [
    "#### What if we look at the absolute number of nominations instead of a ratio? Are different influencers selected?"
   ]
  },
  {
   "cell_type": "code",
   "execution_count": 81,
   "id": "66989400-7d45-471c-a9bc-8572d7396df9",
   "metadata": {
    "ExecuteTime": {
     "end_time": "2024-02-07T15:31:34.391033Z",
     "start_time": "2024-02-07T15:31:34.192076Z"
    }
   },
   "outputs": [
    {
     "data": {
      "text/plain": "<Axes: ylabel='Frequency'>"
     },
     "execution_count": 81,
     "metadata": {},
     "output_type": "execute_result"
    },
    {
     "data": {
      "text/plain": "<Figure size 640x480 with 1 Axes>",
      "image/png": "[encoded data removed]"
     },
     "metadata": {},
     "output_type": "display_data"
    }
   ],
   "source": [
    "df_final['total_nominations'].plot.hist()"
   ]
  },
  {
   "cell_type": "code",
   "execution_count": 82,
   "id": "a239dab2-c14a-4c4e-9355-e2031a5c5c1a",
   "metadata": {
    "ExecuteTime": {
     "end_time": "2024-02-07T15:31:55.123924Z",
     "start_time": "2024-02-07T15:31:55.072649Z"
    }
   },
   "outputs": [
    {
     "data": {
      "text/plain": "     Nominee  influencer_ratio_total  Nominee_id_Class_Y1  total_nominations  \\\n210     1606                0.608655                 81.0                347   \n227     1624                0.525510                 81.0                300   \n407     2863                0.756614                124.0                286   \n230     1627                0.465986                 81.0                266   \n226     1623                0.460380                 81.0                263   \n..       ...                     ...                  ...                ...   \n524     3070                0.518421                138.0                119   \n466     2975                0.513158                130.0                117   \n244     1642                0.263435                 78.0                116   \n610     3195                0.403942                141.0                116   \n222     1619                0.201625                 81.0                115   \n\n     Waves  isInfluencer  \n210      7             1  \n227      7             1  \n407      7             1  \n230      7             1  \n226      7             1  \n..     ...           ...  \n524      4             1  \n466      4             1  \n244      7             0  \n610      7             0  \n222      7             0  \n\n[96 rows x 6 columns]",
      "text/html": "<div>\n<style scoped>\n    .dataframe tbody tr th:only-of-type {\n        vertical-align: middle;\n    }\n\n    .dataframe tbody tr th {\n        vertical-align: top;\n    }\n\n    .dataframe thead th {\n        text-align: right;\n    }\n</style>\n<table border=\"1\" class=\"dataframe\">\n  <thead>\n    <tr style=\"text-align: right;\">\n      <th></th>\n      <th>Nominee</th>\n      <th>influencer_ratio_total</th>\n      <th>Nominee_id_Class_Y1</th>\n      <th>total_nominations</th>\n      <th>Waves</th>\n      <th>isInfluencer</th>\n    </tr>\n  </thead>\n  <tbody>\n    <tr>\n      <th>210</th>\n      <td>1606</td>\n      <td>0.608655</td>\n      <td>81.0</td>\n      <td>347</td>\n      <td>7</td>\n      <td>1</td>\n    </tr>\n    <tr>\n      <th>227</th>\n      <td>1624</td>\n      <td>0.525510</td>\n      <td>81.0</td>\n      <td>300</td>\n      <td>7</td>\n      <td>1</td>\n    </tr>\n    <tr>\n      <th>407</th>\n      <td>2863</td>\n      <td>0.756614</td>\n      <td>124.0</td>\n      <td>286</td>\n      <td>7</td>\n      <td>1</td>\n    </tr>\n    <tr>\n      <th>230</th>\n      <td>1627</td>\n      <td>0.465986</td>\n      <td>81.0</td>\n      <td>266</td>\n      <td>7</td>\n      <td>1</td>\n    </tr>\n    <tr>\n      <th>226</th>\n      <td>1623</td>\n      <td>0.460380</td>\n      <td>81.0</td>\n      <td>263</td>\n      <td>7</td>\n      <td>1</td>\n    </tr>\n    <tr>\n      <th>...</th>\n      <td>...</td>\n      <td>...</td>\n      <td>...</td>\n      <td>...</td>\n      <td>...</td>\n      <td>...</td>\n    </tr>\n    <tr>\n      <th>524</th>\n      <td>3070</td>\n      <td>0.518421</td>\n      <td>138.0</td>\n      <td>119</td>\n      <td>4</td>\n      <td>1</td>\n    </tr>\n    <tr>\n      <th>466</th>\n      <td>2975</td>\n      <td>0.513158</td>\n      <td>130.0</td>\n      <td>117</td>\n      <td>4</td>\n      <td>1</td>\n    </tr>\n    <tr>\n      <th>244</th>\n      <td>1642</td>\n      <td>0.263435</td>\n      <td>78.0</td>\n      <td>116</td>\n      <td>7</td>\n      <td>0</td>\n    </tr>\n    <tr>\n      <th>610</th>\n      <td>3195</td>\n      <td>0.403942</td>\n      <td>141.0</td>\n      <td>116</td>\n      <td>7</td>\n      <td>0</td>\n    </tr>\n    <tr>\n      <th>222</th>\n      <td>1619</td>\n      <td>0.201625</td>\n      <td>81.0</td>\n      <td>115</td>\n      <td>7</td>\n      <td>0</td>\n    </tr>\n  </tbody>\n</table>\n<p>96 rows × 6 columns</p>\n</div>"
     },
     "execution_count": 82,
     "metadata": {},
     "output_type": "execute_result"
    }
   ],
   "source": [
    "df_final.nlargest(num_desired_influencers,'total_nominations')"
   ]
  },
  {
   "cell_type": "code",
   "execution_count": 83,
   "id": "4c978215-7281-40d2-b0a5-500186852f06",
   "metadata": {
    "ExecuteTime": {
     "end_time": "2024-02-07T15:31:58.127638Z",
     "start_time": "2024-02-07T15:31:58.088910Z"
    }
   },
   "outputs": [
    {
     "data": {
      "text/plain": "96"
     },
     "execution_count": 83,
     "metadata": {},
     "output_type": "execute_result"
    }
   ],
   "source": [
    "lst_influencers_absolute_nominations = df_final.nlargest(num_desired_influencers,'total_nominations')['Nominee'].unique()\n",
    "len(lst_influencers_absolute_nominations)"
   ]
  },
  {
   "cell_type": "code",
   "execution_count": 84,
   "id": "c44a57c1-aec0-418f-9cf3-9d2d065cdf44",
   "metadata": {
    "ExecuteTime": {
     "end_time": "2024-02-07T15:32:00.243606Z",
     "start_time": "2024-02-07T15:32:00.187670Z"
    }
   },
   "outputs": [
    {
     "data": {
      "text/plain": "43"
     },
     "execution_count": 84,
     "metadata": {},
     "output_type": "execute_result"
    }
   ],
   "source": [
    "len(set(lst_influencers).intersection(set(lst_influencers_absolute_nominations)))"
   ]
  },
  {
   "cell_type": "markdown",
   "id": "7dfba34b-7c80-4b4d-9650-f1f1306bc46e",
   "metadata": {},
   "source": [
    "##### Around half of the influencers are different! (for GEN questions)"
   ]
  },
  {
   "cell_type": "code",
   "execution_count": 85,
   "id": "4738e1bc-0a3c-4cd5-99ea-f26d6110a4d9",
   "metadata": {
    "ExecuteTime": {
     "end_time": "2024-02-07T15:32:06.019903Z",
     "start_time": "2024-02-07T15:32:05.975566Z"
    }
   },
   "outputs": [
    {
     "data": {
      "text/plain": "44.79166666666667"
     },
     "execution_count": 85,
     "metadata": {},
     "output_type": "execute_result"
    }
   ],
   "source": [
    "len(set(lst_influencers).intersection(set(lst_influencers_absolute_nominations)))/len(set(lst_influencers))*100"
   ]
  },
  {
   "cell_type": "markdown",
   "id": "78a475ea-ca7f-4aa9-ba4c-ddc107a8c977",
   "metadata": {},
   "source": [
    "##### How many waves are the influencers participating in? / compared to non-influencers"
   ]
  },
  {
   "cell_type": "code",
   "execution_count": 86,
   "id": "811b8de3-2c30-4b18-9584-dbeb9ac485ed",
   "metadata": {
    "ExecuteTime": {
     "end_time": "2024-02-07T15:32:17.407730Z",
     "start_time": "2024-02-07T15:32:17.196178Z"
    }
   },
   "outputs": [
    {
     "data": {
      "text/plain": "<Axes: ylabel='Frequency'>"
     },
     "execution_count": 86,
     "metadata": {},
     "output_type": "execute_result"
    },
    {
     "data": {
      "text/plain": "<Figure size 640x480 with 1 Axes>",
      "image/png": "[encoded data removed]"
     },
     "metadata": {},
     "output_type": "display_data"
    }
   ],
   "source": [
    "df_final[df_final.isInfluencer == 1]['Waves'].plot.hist()"
   ]
  },
  {
   "cell_type": "code",
   "execution_count": 87,
   "id": "adaf7622-adaf-4480-baef-efe41dabad4f",
   "metadata": {
    "ExecuteTime": {
     "end_time": "2024-02-07T15:32:41.188914Z",
     "start_time": "2024-02-07T15:32:40.987690Z"
    }
   },
   "outputs": [
    {
     "data": {
      "text/plain": "<Axes: ylabel='Frequency'>"
     },
     "execution_count": 87,
     "metadata": {},
     "output_type": "execute_result"
    },
    {
     "data": {
      "text/plain": "<Figure size 640x480 with 1 Axes>",
      "image/png": "[encoded data removed]"
     },
     "metadata": {},
     "output_type": "display_data"
    }
   ],
   "source": [
    "df_final[df_final.isInfluencer == 0]['Waves'].plot.hist()"
   ]
  },
  {
   "cell_type": "code",
   "execution_count": 53,
   "id": "9b10efb7-0788-48df-9297-97f4e323e859",
   "metadata": {},
   "outputs": [],
   "source": [
    "### just to check how many of the ids are found among waves\n",
    "# len(set(df_valid_noms[df_valid_noms.Wave == 1]['Nominee']).intersection(df_valid_noms[df_valid_noms.Wave == 2]['Nominee']))\n",
    "# len(set(df_valid_noms[df_valid_noms.Wave == 1]['Nominee']).intersection(df_valid_noms[df_valid_noms.Wave == 3]['Nominee']))\n",
    "# len(set(df_valid_noms[df_valid_noms.Wave == 1]['Nominee']).intersection(df_valid_noms[df_valid_noms.Wave == 4]['Nominee']))\n",
    "# len(set(df_valid_noms[df_valid_noms.Wave == 1]['Nominee']).intersection(df_valid_noms[df_valid_noms.Wave == 5]['Nominee']))\n",
    "# len(set(df_valid_noms[df_valid_noms.Wave == 1]['Nominee']).intersection(df_valid_noms[df_valid_noms.Wave == 6]['Nominee']))\n",
    "# len(set(df_valid_noms[df_valid_noms.Wave == 1]['Nominee']).intersection(df_valid_noms[df_valid_noms.Wave == 7]['Nominee']))"
   ]
  },
  {
   "cell_type": "markdown",
   "id": "01647f32-0810-4b73-9485-5acb6d8a184b",
   "metadata": {},
   "source": [
    "### Extra: Influencers Per Wave"
   ]
  },
  {
   "cell_type": "code",
   "execution_count": 52,
   "id": "d72e1f67-76f7-4bef-ae13-e76b3f490c64",
   "metadata": {},
   "outputs": [
    {
     "data": {
      "text/html": [
       "<div>\n",
       "<style scoped>\n",
       "    .dataframe tbody tr th:only-of-type {\n",
       "        vertical-align: middle;\n",
       "    }\n",
       "\n",
       "    .dataframe tbody tr th {\n",
       "        vertical-align: top;\n",
       "    }\n",
       "\n",
       "    .dataframe thead th {\n",
       "        text-align: right;\n",
       "    }\n",
       "</style>\n",
       "<table border=\"1\" class=\"dataframe\">\n",
       "  <thead>\n",
       "    <tr style=\"text-align: right;\">\n",
       "      <th></th>\n",
       "      <th>Nominee</th>\n",
       "      <th>Wave</th>\n",
       "      <th>questions_per_wave</th>\n",
       "      <th>Nominee_size_class</th>\n",
       "      <th>Nominee_id_Class_Y1</th>\n",
       "      <th>nominations_per_wave</th>\n",
       "      <th>total_nominations</th>\n",
       "      <th>influencer_ratio_wave</th>\n",
       "      <th>influencer_ratio_total</th>\n",
       "      <th>Nominee_id_Class_Y2</th>\n",
       "      <th>Nominee_id_Class_Y3</th>\n",
       "    </tr>\n",
       "  </thead>\n",
       "  <tbody>\n",
       "    <tr>\n",
       "      <th>0</th>\n",
       "      <td>1046</td>\n",
       "      <td>1</td>\n",
       "      <td>6</td>\n",
       "      <td>10.0</td>\n",
       "      <td>59.0</td>\n",
       "      <td>7</td>\n",
       "      <td>20</td>\n",
       "      <td>0.116667</td>\n",
       "      <td>0.083333</td>\n",
       "      <td>59.0</td>\n",
       "      <td>311.0</td>\n",
       "    </tr>\n",
       "    <tr>\n",
       "      <th>1</th>\n",
       "      <td>1046</td>\n",
       "      <td>2</td>\n",
       "      <td>6</td>\n",
       "      <td>10.0</td>\n",
       "      <td>59.0</td>\n",
       "      <td>4</td>\n",
       "      <td>20</td>\n",
       "      <td>0.066667</td>\n",
       "      <td>0.083333</td>\n",
       "      <td>59.0</td>\n",
       "      <td>311.0</td>\n",
       "    </tr>\n",
       "    <tr>\n",
       "      <th>2</th>\n",
       "      <td>1046</td>\n",
       "      <td>3</td>\n",
       "      <td>6</td>\n",
       "      <td>10.0</td>\n",
       "      <td>59.0</td>\n",
       "      <td>4</td>\n",
       "      <td>20</td>\n",
       "      <td>0.066667</td>\n",
       "      <td>0.083333</td>\n",
       "      <td>59.0</td>\n",
       "      <td>311.0</td>\n",
       "    </tr>\n",
       "    <tr>\n",
       "      <th>3</th>\n",
       "      <td>1046</td>\n",
       "      <td>4</td>\n",
       "      <td>6</td>\n",
       "      <td>10.0</td>\n",
       "      <td>59.0</td>\n",
       "      <td>5</td>\n",
       "      <td>20</td>\n",
       "      <td>0.083333</td>\n",
       "      <td>0.083333</td>\n",
       "      <td>59.0</td>\n",
       "      <td>311.0</td>\n",
       "    </tr>\n",
       "    <tr>\n",
       "      <th>4</th>\n",
       "      <td>1047</td>\n",
       "      <td>1</td>\n",
       "      <td>6</td>\n",
       "      <td>10.0</td>\n",
       "      <td>59.0</td>\n",
       "      <td>12</td>\n",
       "      <td>26</td>\n",
       "      <td>0.200000</td>\n",
       "      <td>0.108333</td>\n",
       "      <td>59.0</td>\n",
       "      <td>311.0</td>\n",
       "    </tr>\n",
       "    <tr>\n",
       "      <th>...</th>\n",
       "      <td>...</td>\n",
       "      <td>...</td>\n",
       "      <td>...</td>\n",
       "      <td>...</td>\n",
       "      <td>...</td>\n",
       "      <td>...</td>\n",
       "      <td>...</td>\n",
       "      <td>...</td>\n",
       "      <td>...</td>\n",
       "      <td>...</td>\n",
       "      <td>...</td>\n",
       "    </tr>\n",
       "    <tr>\n",
       "      <th>3018</th>\n",
       "      <td>6137</td>\n",
       "      <td>6</td>\n",
       "      <td>4</td>\n",
       "      <td>21.0</td>\n",
       "      <td>131.0</td>\n",
       "      <td>7</td>\n",
       "      <td>28</td>\n",
       "      <td>0.083333</td>\n",
       "      <td>0.111111</td>\n",
       "      <td>131.0</td>\n",
       "      <td>131.0</td>\n",
       "    </tr>\n",
       "    <tr>\n",
       "      <th>3019</th>\n",
       "      <td>6137</td>\n",
       "      <td>7</td>\n",
       "      <td>4</td>\n",
       "      <td>21.0</td>\n",
       "      <td>131.0</td>\n",
       "      <td>4</td>\n",
       "      <td>28</td>\n",
       "      <td>0.047619</td>\n",
       "      <td>0.111111</td>\n",
       "      <td>131.0</td>\n",
       "      <td>131.0</td>\n",
       "    </tr>\n",
       "    <tr>\n",
       "      <th>3020</th>\n",
       "      <td>6138</td>\n",
       "      <td>5</td>\n",
       "      <td>4</td>\n",
       "      <td>21.0</td>\n",
       "      <td>131.0</td>\n",
       "      <td>28</td>\n",
       "      <td>78</td>\n",
       "      <td>0.333333</td>\n",
       "      <td>0.309524</td>\n",
       "      <td>131.0</td>\n",
       "      <td>131.0</td>\n",
       "    </tr>\n",
       "    <tr>\n",
       "      <th>3021</th>\n",
       "      <td>6138</td>\n",
       "      <td>6</td>\n",
       "      <td>4</td>\n",
       "      <td>21.0</td>\n",
       "      <td>131.0</td>\n",
       "      <td>29</td>\n",
       "      <td>78</td>\n",
       "      <td>0.345238</td>\n",
       "      <td>0.309524</td>\n",
       "      <td>131.0</td>\n",
       "      <td>131.0</td>\n",
       "    </tr>\n",
       "    <tr>\n",
       "      <th>3022</th>\n",
       "      <td>6138</td>\n",
       "      <td>7</td>\n",
       "      <td>4</td>\n",
       "      <td>21.0</td>\n",
       "      <td>131.0</td>\n",
       "      <td>21</td>\n",
       "      <td>78</td>\n",
       "      <td>0.250000</td>\n",
       "      <td>0.309524</td>\n",
       "      <td>131.0</td>\n",
       "      <td>131.0</td>\n",
       "    </tr>\n",
       "  </tbody>\n",
       "</table>\n",
       "<p>3023 rows × 11 columns</p>\n",
       "</div>"
      ],
      "text/plain": [
       "      Nominee  Wave  questions_per_wave  Nominee_size_class  \\\n",
       "0        1046     1                   6                10.0   \n",
       "1        1046     2                   6                10.0   \n",
       "2        1046     3                   6                10.0   \n",
       "3        1046     4                   6                10.0   \n",
       "4        1047     1                   6                10.0   \n",
       "...       ...   ...                 ...                 ...   \n",
       "3018     6137     6                   4                21.0   \n",
       "3019     6137     7                   4                21.0   \n",
       "3020     6138     5                   4                21.0   \n",
       "3021     6138     6                   4                21.0   \n",
       "3022     6138     7                   4                21.0   \n",
       "\n",
       "      Nominee_id_Class_Y1  nominations_per_wave  total_nominations  \\\n",
       "0                    59.0                     7                 20   \n",
       "1                    59.0                     4                 20   \n",
       "2                    59.0                     4                 20   \n",
       "3                    59.0                     5                 20   \n",
       "4                    59.0                    12                 26   \n",
       "...                   ...                   ...                ...   \n",
       "3018                131.0                     7                 28   \n",
       "3019                131.0                     4                 28   \n",
       "3020                131.0                    28                 78   \n",
       "3021                131.0                    29                 78   \n",
       "3022                131.0                    21                 78   \n",
       "\n",
       "      influencer_ratio_wave  influencer_ratio_total  Nominee_id_Class_Y2  \\\n",
       "0                  0.116667                0.083333                 59.0   \n",
       "1                  0.066667                0.083333                 59.0   \n",
       "2                  0.066667                0.083333                 59.0   \n",
       "3                  0.083333                0.083333                 59.0   \n",
       "4                  0.200000                0.108333                 59.0   \n",
       "...                     ...                     ...                  ...   \n",
       "3018               0.083333                0.111111                131.0   \n",
       "3019               0.047619                0.111111                131.0   \n",
       "3020               0.333333                0.309524                131.0   \n",
       "3021               0.345238                0.309524                131.0   \n",
       "3022               0.250000                0.309524                131.0   \n",
       "\n",
       "      Nominee_id_Class_Y3  \n",
       "0                   311.0  \n",
       "1                   311.0  \n",
       "2                   311.0  \n",
       "3                   311.0  \n",
       "4                   311.0  \n",
       "...                   ...  \n",
       "3018                131.0  \n",
       "3019                131.0  \n",
       "3020                131.0  \n",
       "3021                131.0  \n",
       "3022                131.0  \n",
       "\n",
       "[3023 rows x 11 columns]"
      ]
     },
     "execution_count": 52,
     "metadata": {},
     "output_type": "execute_result"
    }
   ],
   "source": [
    "# class y2 and y3 are missing\n",
    "df_valid_noms['Nominee_id_Class_Y2'] = df_valid_noms['Nominee'].map(df_pp.set_index('Child')['Class_Y2'])\n",
    "df_valid_noms['Nominee_id_Class_Y3'] = df_valid_noms['Nominee'].map(df_pp.set_index('Child')['Class_Y3'])\n",
    "df_valid_noms"
   ]
  },
  {
   "cell_type": "code",
   "execution_count": 53,
   "id": "e826ec52-35e6-4d17-a3d7-104d27264dc4",
   "metadata": {},
   "outputs": [],
   "source": [
    "df_list = list()\n",
    "df_list.append(df_valid_noms[df_valid_noms.Wave == 1])\n",
    "df_list.append(df_valid_noms[df_valid_noms.Wave == 2])\n",
    "df_list.append(df_valid_noms[df_valid_noms.Wave == 3])\n",
    "df_list.append(df_valid_noms[df_valid_noms.Wave == 4])\n",
    "df_list.append(df_valid_noms[df_valid_noms.Wave == 5])\n",
    "df_list.append(df_valid_noms[df_valid_noms.Wave == 6])\n",
    "df_list.append(df_valid_noms[df_valid_noms.Wave == 7])"
   ]
  },
  {
   "cell_type": "code",
   "execution_count": 54,
   "id": "6ee3c812-9711-4b8e-b3d6-2b3b5ef6c325",
   "metadata": {},
   "outputs": [
    {
     "name": "stdout",
     "output_type": "stream",
     "text": [
      "Wave 1\n",
      "Number influencers:  60\n",
      "Percentage Class 39.53488372093023\n",
      "\n",
      "\n",
      "Wave 2\n",
      "Number influencers:  61\n",
      "Percentage Class 48.837209302325576\n",
      "\n",
      "\n",
      "Wave 3\n",
      "Number influencers:  59\n",
      "Percentage Class 46.51162790697674\n",
      "\n",
      "\n",
      "Wave 4\n",
      "Number influencers:  53\n",
      "Percentage Class 30.76923076923077\n",
      "\n",
      "\n",
      "Wave 5\n",
      "Number influencers:  23\n",
      "Percentage Class 53.84615384615385\n",
      "\n",
      "\n",
      "Wave 6\n",
      "Number influencers:  22\n",
      "Percentage Class 46.15384615384615\n",
      "\n",
      "\n",
      "Wave 7\n",
      "Number influencers:  21\n",
      "Percentage Class 30.76923076923077\n"
     ]
    },
    {
     "name": "stderr",
     "output_type": "stream",
     "text": [
      "/var/folders/t4/v59wrn6n2ws6kl1t9zh1q_mc0000gn/T/ipykernel_3881/3120759989.py:12: SettingWithCopyWarning: \n",
      "A value is trying to be set on a copy of a slice from a DataFrame.\n",
      "Try using .loc[row_indexer,col_indexer] = value instead\n",
      "\n",
      "See the caveats in the documentation: https://pandas.pydata.org/pandas-docs/stable/user_guide/indexing.html#returning-a-view-versus-a-copy\n",
      "  dff['isInfluencer'] = np.select([dff['Nominee'].isin(lst_influencers_df)],[1])\n",
      "/var/folders/t4/v59wrn6n2ws6kl1t9zh1q_mc0000gn/T/ipykernel_3881/3120759989.py:12: SettingWithCopyWarning: \n",
      "A value is trying to be set on a copy of a slice from a DataFrame.\n",
      "Try using .loc[row_indexer,col_indexer] = value instead\n",
      "\n",
      "See the caveats in the documentation: https://pandas.pydata.org/pandas-docs/stable/user_guide/indexing.html#returning-a-view-versus-a-copy\n",
      "  dff['isInfluencer'] = np.select([dff['Nominee'].isin(lst_influencers_df)],[1])\n",
      "/var/folders/t4/v59wrn6n2ws6kl1t9zh1q_mc0000gn/T/ipykernel_3881/3120759989.py:12: SettingWithCopyWarning: \n",
      "A value is trying to be set on a copy of a slice from a DataFrame.\n",
      "Try using .loc[row_indexer,col_indexer] = value instead\n",
      "\n",
      "See the caveats in the documentation: https://pandas.pydata.org/pandas-docs/stable/user_guide/indexing.html#returning-a-view-versus-a-copy\n",
      "  dff['isInfluencer'] = np.select([dff['Nominee'].isin(lst_influencers_df)],[1])\n",
      "/var/folders/t4/v59wrn6n2ws6kl1t9zh1q_mc0000gn/T/ipykernel_3881/3120759989.py:12: SettingWithCopyWarning: \n",
      "A value is trying to be set on a copy of a slice from a DataFrame.\n",
      "Try using .loc[row_indexer,col_indexer] = value instead\n",
      "\n",
      "See the caveats in the documentation: https://pandas.pydata.org/pandas-docs/stable/user_guide/indexing.html#returning-a-view-versus-a-copy\n",
      "  dff['isInfluencer'] = np.select([dff['Nominee'].isin(lst_influencers_df)],[1])\n",
      "/var/folders/t4/v59wrn6n2ws6kl1t9zh1q_mc0000gn/T/ipykernel_3881/3120759989.py:12: SettingWithCopyWarning: \n",
      "A value is trying to be set on a copy of a slice from a DataFrame.\n",
      "Try using .loc[row_indexer,col_indexer] = value instead\n",
      "\n",
      "See the caveats in the documentation: https://pandas.pydata.org/pandas-docs/stable/user_guide/indexing.html#returning-a-view-versus-a-copy\n",
      "  dff['isInfluencer'] = np.select([dff['Nominee'].isin(lst_influencers_df)],[1])\n",
      "/var/folders/t4/v59wrn6n2ws6kl1t9zh1q_mc0000gn/T/ipykernel_3881/3120759989.py:12: SettingWithCopyWarning: \n",
      "A value is trying to be set on a copy of a slice from a DataFrame.\n",
      "Try using .loc[row_indexer,col_indexer] = value instead\n",
      "\n",
      "See the caveats in the documentation: https://pandas.pydata.org/pandas-docs/stable/user_guide/indexing.html#returning-a-view-versus-a-copy\n",
      "  dff['isInfluencer'] = np.select([dff['Nominee'].isin(lst_influencers_df)],[1])\n",
      "/var/folders/t4/v59wrn6n2ws6kl1t9zh1q_mc0000gn/T/ipykernel_3881/3120759989.py:12: SettingWithCopyWarning: \n",
      "A value is trying to be set on a copy of a slice from a DataFrame.\n",
      "Try using .loc[row_indexer,col_indexer] = value instead\n",
      "\n",
      "See the caveats in the documentation: https://pandas.pydata.org/pandas-docs/stable/user_guide/indexing.html#returning-a-view-versus-a-copy\n",
      "  dff['isInfluencer'] = np.select([dff['Nominee'].isin(lst_influencers_df)],[1])\n"
     ]
    }
   ],
   "source": [
    "counter = 1 \n",
    "list_influencers_per_wave = list()\n",
    "for dff in df_list:\n",
    "    print('Wave ' + str(counter))\n",
    "    \n",
    "    num_desired_influencers_df = math.floor(dff['Nominee'].nunique()/10)\n",
    "    print('Number influencers: ', num_desired_influencers_df)\n",
    "    \n",
    "    lst_influencers_df = dff.nlargest(num_desired_influencers_df,'influencer_ratio_wave')['Nominee'].unique()\n",
    "    list_influencers_per_wave.append(lst_influencers_df)\n",
    "    \n",
    "    dff['isInfluencer'] = np.select([dff['Nominee'].isin(lst_influencers_df)],[1])\n",
    "    if(counter == 1 or counter == 2 or counter == 3):\n",
    "        print('Percentage Class ' + str(dff[dff.isInfluencer == 1]['Nominee_id_Class_Y1'].nunique()/dff['Nominee_id_Class_Y1'].nunique()*100))\n",
    "    elif(counter == 4):\n",
    "        print('Percentage Class ' + str(dff[dff.isInfluencer == 1]['Nominee_id_Class_Y2'].nunique()/dff['Nominee_id_Class_Y2'].nunique()*100))\n",
    "    else:\n",
    "        print('Percentage Class ' + str(dff[dff.isInfluencer == 1]['Nominee_id_Class_Y3'].nunique()/dff['Nominee_id_Class_Y3'].nunique()*100))\n",
    "    counter = counter + 1\n",
    "    print('\\n')\n"
   ]
  },
  {
   "cell_type": "markdown",
   "id": "a960eb70-1cdf-4be1-b598-4a8dfa851ee6",
   "metadata": {},
   "source": [
    "#### What is the overlap between influencers among the waves? (len A, len B, intersection AB, difference AB, difference BA)\n",
    "Showing results for waves (1,2),(1,3),(1,4),(1,5),(1,6),(1,7)"
   ]
  },
  {
   "cell_type": "code",
   "execution_count": 55,
   "id": "c4c5abc1-ee23-4725-ac82-ca7bf6ea39b8",
   "metadata": {},
   "outputs": [
    {
     "data": {
      "text/plain": [
       "(60, 61, 28, 32, 33)"
      ]
     },
     "execution_count": 55,
     "metadata": {},
     "output_type": "execute_result"
    }
   ],
   "source": [
    "len(set(list_influencers_per_wave[0])),len(set(list_influencers_per_wave[1])),len(set(list_influencers_per_wave[0]).intersection(set(list_influencers_per_wave[1]))),len(set(list_influencers_per_wave[0]).difference(set(list_influencers_per_wave[1]))),len(set(list_influencers_per_wave[1]).difference(set(list_influencers_per_wave[0])))"
   ]
  },
  {
   "cell_type": "code",
   "execution_count": 56,
   "id": "68daf0e7-109f-4004-a848-90c79ea314ec",
   "metadata": {},
   "outputs": [
    {
     "data": {
      "text/plain": [
       "(60, 59, 27, 33, 32)"
      ]
     },
     "execution_count": 56,
     "metadata": {},
     "output_type": "execute_result"
    }
   ],
   "source": [
    "len(set(list_influencers_per_wave[0])),len(set(list_influencers_per_wave[2])),len(set(list_influencers_per_wave[0]).intersection(set(list_influencers_per_wave[2]))),len(set(list_influencers_per_wave[0]).difference(set(list_influencers_per_wave[2]))),len(set(list_influencers_per_wave[2]).difference(set(list_influencers_per_wave[0])))"
   ]
  },
  {
   "cell_type": "code",
   "execution_count": 57,
   "id": "fbd11d21-62bc-4be0-8386-0d3f83141f7a",
   "metadata": {},
   "outputs": [
    {
     "data": {
      "text/plain": [
       "(60, 53, 16, 44, 37)"
      ]
     },
     "execution_count": 57,
     "metadata": {},
     "output_type": "execute_result"
    }
   ],
   "source": [
    "len(set(list_influencers_per_wave[0])),len(set(list_influencers_per_wave[3])),len(set(list_influencers_per_wave[0]).intersection(set(list_influencers_per_wave[3]))),len(set(list_influencers_per_wave[0]).difference(set(list_influencers_per_wave[3]))),len(set(list_influencers_per_wave[3]).difference(set(list_influencers_per_wave[0])))"
   ]
  },
  {
   "cell_type": "code",
   "execution_count": 58,
   "id": "34a54b3e-a3b5-41b0-867d-3aa22f63be9e",
   "metadata": {},
   "outputs": [
    {
     "data": {
      "text/plain": [
       "(60, 23, 7, 53, 16)"
      ]
     },
     "execution_count": 58,
     "metadata": {},
     "output_type": "execute_result"
    }
   ],
   "source": [
    "len(set(list_influencers_per_wave[0])),len(set(list_influencers_per_wave[4])),len(set(list_influencers_per_wave[0]).intersection(set(list_influencers_per_wave[4]))),len(set(list_influencers_per_wave[0]).difference(set(list_influencers_per_wave[4]))),len(set(list_influencers_per_wave[4]).difference(set(list_influencers_per_wave[0])))"
   ]
  },
  {
   "cell_type": "code",
   "execution_count": 59,
   "id": "2fb8816d-ef8b-4dbc-9f2d-7a1eb98eadb5",
   "metadata": {},
   "outputs": [
    {
     "data": {
      "text/plain": [
       "(60, 22, 5, 55, 17)"
      ]
     },
     "execution_count": 59,
     "metadata": {},
     "output_type": "execute_result"
    }
   ],
   "source": [
    "len(set(list_influencers_per_wave[0])),len(set(list_influencers_per_wave[5])),len(set(list_influencers_per_wave[0]).intersection(set(list_influencers_per_wave[5]))),len(set(list_influencers_per_wave[0]).difference(set(list_influencers_per_wave[5]))),len(set(list_influencers_per_wave[5]).difference(set(list_influencers_per_wave[0])))"
   ]
  },
  {
   "cell_type": "code",
   "execution_count": 60,
   "id": "700b4ad6-6189-4004-80a3-ec956216f9a6",
   "metadata": {},
   "outputs": [
    {
     "data": {
      "text/plain": [
       "(60, 21, 3, 57, 18)"
      ]
     },
     "execution_count": 60,
     "metadata": {},
     "output_type": "execute_result"
    }
   ],
   "source": [
    "len(set(list_influencers_per_wave[0])),len(set(list_influencers_per_wave[6])),len(set(list_influencers_per_wave[0]).intersection(set(list_influencers_per_wave[6]))),len(set(list_influencers_per_wave[0]).difference(set(list_influencers_per_wave[6]))),len(set(list_influencers_per_wave[6]).difference(set(list_influencers_per_wave[0])))"
   ]
  },
  {
   "cell_type": "markdown",
   "id": "6377fb0e-b1d5-486e-b07f-0444554533a6",
   "metadata": {},
   "source": [
    "### Save the list of participants with the corresponding influencer label for merging with other data"
   ]
  },
  {
   "cell_type": "code",
   "execution_count": 89,
   "id": "c4856711-a599-4606-85ee-874b0987dd16",
   "metadata": {
    "ExecuteTime": {
     "end_time": "2024-02-07T15:34:18.078189Z",
     "start_time": "2024-02-07T15:34:18.013020Z"
    }
   },
   "outputs": [
    {
     "data": {
      "text/plain": "     Nominee  influencer_ratio_total  Nominee_id_Class_Y1  total_nominations  \\\n0       1046                0.185185                 59.0                 20   \n1       1047                0.240741                 59.0                 26   \n2       1049                0.157407                 59.0                 17   \n3       1050                0.194444                 59.0                 21   \n4       1055                0.209877                 59.0                 17   \n..       ...                     ...                  ...                ...   \n639     4889                0.254167                131.0                 61   \n640     4890                0.154167                131.0                 37   \n641     6135                0.255556                131.0                 46   \n642     6137                0.155556                131.0                 28   \n643     6138                0.433333                131.0                 78   \n\n     Waves  isInfluencer  \n0        4             0  \n1        4             0  \n2        4             0  \n3        4             0  \n4        3             0  \n..     ...           ...  \n639      4             0  \n640      4             0  \n641      3             0  \n642      3             0  \n643      3             1  \n\n[644 rows x 6 columns]",
      "text/html": "<div>\n<style scoped>\n    .dataframe tbody tr th:only-of-type {\n        vertical-align: middle;\n    }\n\n    .dataframe tbody tr th {\n        vertical-align: top;\n    }\n\n    .dataframe thead th {\n        text-align: right;\n    }\n</style>\n<table border=\"1\" class=\"dataframe\">\n  <thead>\n    <tr style=\"text-align: right;\">\n      <th></th>\n      <th>Nominee</th>\n      <th>influencer_ratio_total</th>\n      <th>Nominee_id_Class_Y1</th>\n      <th>total_nominations</th>\n      <th>Waves</th>\n      <th>isInfluencer</th>\n    </tr>\n  </thead>\n  <tbody>\n    <tr>\n      <th>0</th>\n      <td>1046</td>\n      <td>0.185185</td>\n      <td>59.0</td>\n      <td>20</td>\n      <td>4</td>\n      <td>0</td>\n    </tr>\n    <tr>\n      <th>1</th>\n      <td>1047</td>\n      <td>0.240741</td>\n      <td>59.0</td>\n      <td>26</td>\n      <td>4</td>\n      <td>0</td>\n    </tr>\n    <tr>\n      <th>2</th>\n      <td>1049</td>\n      <td>0.157407</td>\n      <td>59.0</td>\n      <td>17</td>\n      <td>4</td>\n      <td>0</td>\n    </tr>\n    <tr>\n      <th>3</th>\n      <td>1050</td>\n      <td>0.194444</td>\n      <td>59.0</td>\n      <td>21</td>\n      <td>4</td>\n      <td>0</td>\n    </tr>\n    <tr>\n      <th>4</th>\n      <td>1055</td>\n      <td>0.209877</td>\n      <td>59.0</td>\n      <td>17</td>\n      <td>3</td>\n      <td>0</td>\n    </tr>\n    <tr>\n      <th>...</th>\n      <td>...</td>\n      <td>...</td>\n      <td>...</td>\n      <td>...</td>\n      <td>...</td>\n      <td>...</td>\n    </tr>\n    <tr>\n      <th>639</th>\n      <td>4889</td>\n      <td>0.254167</td>\n      <td>131.0</td>\n      <td>61</td>\n      <td>4</td>\n      <td>0</td>\n    </tr>\n    <tr>\n      <th>640</th>\n      <td>4890</td>\n      <td>0.154167</td>\n      <td>131.0</td>\n      <td>37</td>\n      <td>4</td>\n      <td>0</td>\n    </tr>\n    <tr>\n      <th>641</th>\n      <td>6135</td>\n      <td>0.255556</td>\n      <td>131.0</td>\n      <td>46</td>\n      <td>3</td>\n      <td>0</td>\n    </tr>\n    <tr>\n      <th>642</th>\n      <td>6137</td>\n      <td>0.155556</td>\n      <td>131.0</td>\n      <td>28</td>\n      <td>3</td>\n      <td>0</td>\n    </tr>\n    <tr>\n      <th>643</th>\n      <td>6138</td>\n      <td>0.433333</td>\n      <td>131.0</td>\n      <td>78</td>\n      <td>3</td>\n      <td>1</td>\n    </tr>\n  </tbody>\n</table>\n<p>644 rows × 6 columns</p>\n</div>"
     },
     "execution_count": 89,
     "metadata": {},
     "output_type": "execute_result"
    }
   ],
   "source": [
    "df_final"
   ]
  },
  {
   "cell_type": "code",
   "execution_count": 90,
   "id": "71eefeea-a619-4129-8536-ab77f82ef4f5",
   "metadata": {
    "ExecuteTime": {
     "end_time": "2024-02-07T15:34:19.899154Z",
     "start_time": "2024-02-07T15:34:19.836424Z"
    }
   },
   "outputs": [
    {
     "data": {
      "text/plain": "     Child  influencer_ratio_total  Nominee_id_Class_Y1  total_nominations  \\\n0     1046                0.185185                 59.0                 20   \n1     1047                0.240741                 59.0                 26   \n2     1049                0.157407                 59.0                 17   \n3     1050                0.194444                 59.0                 21   \n4     1055                0.209877                 59.0                 17   \n..     ...                     ...                  ...                ...   \n639   4889                0.254167                131.0                 61   \n640   4890                0.154167                131.0                 37   \n641   6135                0.255556                131.0                 46   \n642   6137                0.155556                131.0                 28   \n643   6138                0.433333                131.0                 78   \n\n     Waves  isInfluencer  \n0        4             0  \n1        4             0  \n2        4             0  \n3        4             0  \n4        3             0  \n..     ...           ...  \n639      4             0  \n640      4             0  \n641      3             0  \n642      3             0  \n643      3             1  \n\n[644 rows x 6 columns]",
      "text/html": "<div>\n<style scoped>\n    .dataframe tbody tr th:only-of-type {\n        vertical-align: middle;\n    }\n\n    .dataframe tbody tr th {\n        vertical-align: top;\n    }\n\n    .dataframe thead th {\n        text-align: right;\n    }\n</style>\n<table border=\"1\" class=\"dataframe\">\n  <thead>\n    <tr style=\"text-align: right;\">\n      <th></th>\n      <th>Child</th>\n      <th>influencer_ratio_total</th>\n      <th>Nominee_id_Class_Y1</th>\n      <th>total_nominations</th>\n      <th>Waves</th>\n      <th>isInfluencer</th>\n    </tr>\n  </thead>\n  <tbody>\n    <tr>\n      <th>0</th>\n      <td>1046</td>\n      <td>0.185185</td>\n      <td>59.0</td>\n      <td>20</td>\n      <td>4</td>\n      <td>0</td>\n    </tr>\n    <tr>\n      <th>1</th>\n      <td>1047</td>\n      <td>0.240741</td>\n      <td>59.0</td>\n      <td>26</td>\n      <td>4</td>\n      <td>0</td>\n    </tr>\n    <tr>\n      <th>2</th>\n      <td>1049</td>\n      <td>0.157407</td>\n      <td>59.0</td>\n      <td>17</td>\n      <td>4</td>\n      <td>0</td>\n    </tr>\n    <tr>\n      <th>3</th>\n      <td>1050</td>\n      <td>0.194444</td>\n      <td>59.0</td>\n      <td>21</td>\n      <td>4</td>\n      <td>0</td>\n    </tr>\n    <tr>\n      <th>4</th>\n      <td>1055</td>\n      <td>0.209877</td>\n      <td>59.0</td>\n      <td>17</td>\n      <td>3</td>\n      <td>0</td>\n    </tr>\n    <tr>\n      <th>...</th>\n      <td>...</td>\n      <td>...</td>\n      <td>...</td>\n      <td>...</td>\n      <td>...</td>\n      <td>...</td>\n    </tr>\n    <tr>\n      <th>639</th>\n      <td>4889</td>\n      <td>0.254167</td>\n      <td>131.0</td>\n      <td>61</td>\n      <td>4</td>\n      <td>0</td>\n    </tr>\n    <tr>\n      <th>640</th>\n      <td>4890</td>\n      <td>0.154167</td>\n      <td>131.0</td>\n      <td>37</td>\n      <td>4</td>\n      <td>0</td>\n    </tr>\n    <tr>\n      <th>641</th>\n      <td>6135</td>\n      <td>0.255556</td>\n      <td>131.0</td>\n      <td>46</td>\n      <td>3</td>\n      <td>0</td>\n    </tr>\n    <tr>\n      <th>642</th>\n      <td>6137</td>\n      <td>0.155556</td>\n      <td>131.0</td>\n      <td>28</td>\n      <td>3</td>\n      <td>0</td>\n    </tr>\n    <tr>\n      <th>643</th>\n      <td>6138</td>\n      <td>0.433333</td>\n      <td>131.0</td>\n      <td>78</td>\n      <td>3</td>\n      <td>1</td>\n    </tr>\n  </tbody>\n</table>\n<p>644 rows × 6 columns</p>\n</div>"
     },
     "execution_count": 90,
     "metadata": {},
     "output_type": "execute_result"
    }
   ],
   "source": [
    "df_final = df_final.rename(columns={\"Nominee\": \"Child\"})\n",
    "df_final"
   ]
  },
  {
   "cell_type": "code",
   "execution_count": 91,
   "id": "2e9b361d-e1b8-447b-a3e5-67583eaa3584",
   "metadata": {
    "ExecuteTime": {
     "end_time": "2024-02-07T15:34:21.607216Z",
     "start_time": "2024-02-07T15:34:21.551458Z"
    }
   },
   "outputs": [],
   "source": [
    "df_final[['Child','isInfluencer','influencer_ratio_total']].to_csv('../output/influencer_variable.csv',index=False)"
   ]
  },
  {
   "cell_type": "code",
   "execution_count": null,
   "id": "c86dc613-4b26-4c9d-94c5-b25146bae372",
   "metadata": {},
   "outputs": [],
   "source": []
  }
 ],
 "metadata": {
  "kernelspec": {
   "name": "python3",
   "language": "python",
   "display_name": "Python 3 (ipykernel)"
  },
  "language_info": {
   "codemirror_mode": {
    "name": "ipython",
    "version": 3
   },
   "file_extension": ".py",
   "mimetype": "text/x-python",
   "name": "python",
   "nbconvert_exporter": "python",
   "pygments_lexer": "ipython3",
   "version": "3.9.13"
  }
 },
 "nbformat": 4,
 "nbformat_minor": 5
}
