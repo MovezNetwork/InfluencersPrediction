{
 "cells": [
  {
   "cell_type": "code",
   "execution_count": 1,
   "id": "e61f49e0-4d71-4f00-8631-89f2799c5b82",
   "metadata": {
    "ExecuteTime": {
     "end_time": "2024-02-07T19:31:54.876999Z",
     "start_time": "2024-02-07T19:31:52.513371Z"
    }
   },
   "outputs": [],
   "source": [
    "import pandas as pd\n",
    "import scipy.stats as stats\n",
    "import matplotlib.pyplot as plt\n",
    "import numpy as np\n",
    "from sklearn.linear_model import LogisticRegression\n",
    "from sklearn.metrics import classification_report, confusion_matrix"
   ]
  },
  {
   "cell_type": "markdown",
   "id": "4c52dc05-cf5a-4690-a0d5-d368818af0f9",
   "metadata": {},
   "source": [
    "# Participants per wave"
   ]
  },
  {
   "cell_type": "code",
   "execution_count": 2,
   "id": "ca983b42-491f-401a-ba8e-0c0a70ed9645",
   "metadata": {
    "ExecuteTime": {
     "end_time": "2024-02-07T19:31:56.878611Z",
     "start_time": "2024-02-07T19:31:56.851131Z"
    }
   },
   "outputs": [],
   "source": [
    "df_pp = pd.read_csv('../data/movez_metadata/Participant_Info.csv', sep=';', header=0)"
   ]
  },
  {
   "cell_type": "code",
   "execution_count": 3,
   "id": "6c4f7f49-add9-47b9-9560-8c3762cf778e",
   "metadata": {
    "ExecuteTime": {
     "end_time": "2024-02-07T19:31:57.371834Z",
     "start_time": "2024-02-07T19:31:57.319575Z"
    }
   },
   "outputs": [
    {
     "name": "stdout",
     "output_type": "stream",
     "text": [
      "Number of schools: 28\n"
     ]
    }
   ],
   "source": [
    "print(\"Number of schools:\" , len(df_pp.School.unique()))"
   ]
  },
  {
   "cell_type": "code",
   "execution_count": 4,
   "id": "5a332e9c-3ffa-41dc-a547-1c022ec8eb1b",
   "metadata": {
    "ExecuteTime": {
     "end_time": "2024-02-07T19:31:57.642327Z",
     "start_time": "2024-02-07T19:31:57.577169Z"
    }
   },
   "outputs": [
    {
     "name": "stdout",
     "output_type": "stream",
     "text": [
      "Number of participants W1: 843\n",
      "Number of participants W2: 901\n",
      "Number of participants W3: 868\n",
      "Number of participants W4: 744\n",
      "Number of participants W5: 1017\n",
      "Number of participants W6: 755\n",
      "Number of participants W7: 745\n"
     ]
    }
   ],
   "source": [
    "print(\"Number of participants W1:\", df_pp.W1.sum())\n",
    "print(\"Number of participants W2:\", df_pp.W2.sum())\n",
    "print(\"Number of participants W3:\", df_pp.W3.sum())\n",
    "print(\"Number of participants W4:\", df_pp.W4.sum())\n",
    "print(\"Number of participants W5:\", df_pp.W5.sum())\n",
    "print(\"Number of participants W6:\", df_pp.W6.sum())\n",
    "print(\"Number of participants W7:\", df_pp.W7.sum())"
   ]
  },
  {
   "cell_type": "code",
   "execution_count": 5,
   "id": "5160cc01-463d-4bee-8e52-bbbcbacdace5",
   "metadata": {
    "ExecuteTime": {
     "end_time": "2024-02-07T19:31:58.184191Z",
     "start_time": "2024-02-07T19:31:57.876498Z"
    }
   },
   "outputs": [
    {
     "name": "stdout",
     "output_type": "stream",
     "text": [
      "Number of participants Year 1: 951\n",
      "Number of participants Year 2: 744\n",
      "Number of participants Year 3: 1032\n"
     ]
    }
   ],
   "source": [
    "print(\"Number of participants Year 1:\", df_pp.Y1_Sample.sum())\n",
    "print(\"Number of participants Year 2:\", df_pp.W4.sum())\n",
    "print(\"Number of participants Year 3:\", df_pp.Y3_Sample.sum())"
   ]
  },
  {
   "cell_type": "markdown",
   "id": "03a29f82-1a5a-45d6-802c-c7530b15066c",
   "metadata": {},
   "source": [
    "# Descriptive analysis"
   ]
  },
  {
   "cell_type": "code",
   "execution_count": 6,
   "id": "b247ca60-5e0d-4b25-a30a-5592abb06834",
   "metadata": {
    "ExecuteTime": {
     "end_time": "2024-02-07T19:31:58.683505Z",
     "start_time": "2024-02-07T19:31:58.553066Z"
    }
   },
   "outputs": [
    {
     "data": {
      "text/plain": "     Child  isInfluencer  influencer_ratio_total         WC     affect  \\\n0     1046             0                0.185185        NaN        NaN   \n1     1047             0                0.240741        NaN        NaN   \n2     1049             0                0.157407        NaN        NaN   \n3     1050             0                0.194444        NaN        NaN   \n4     1055             0                0.209877        NaN        NaN   \n..     ...           ...                     ...        ...        ...   \n639   4889             0                0.254167        NaN        NaN   \n640   4890             0                0.154167   6.875000   3.775833   \n641   6135             0                0.255556  18.327869   9.820164   \n642   6137             0                0.155556   2.000000   0.000000   \n643   6138             1                0.433333   2.000000  33.333333   \n\n        drives     social  polarity    health    cogproc  ...   BMI  \\\n0          NaN        NaN       NaN       NaN        NaN  ...  19.0   \n1          NaN        NaN       NaN       NaN        NaN  ...  19.0   \n2          NaN        NaN       NaN       NaN        NaN  ...  17.0   \n3          NaN        NaN       NaN       NaN        NaN  ...  22.0   \n4          NaN        NaN       NaN       NaN        NaN  ...  28.0   \n..         ...        ...       ...       ...        ...  ...   ...   \n639        NaN        NaN       NaN       NaN        NaN  ...  16.0   \n640   6.073750  13.016667 -0.009236  0.000000  12.109167  ...  18.0   \n641   2.809508   7.474426  0.077832  0.196885  11.224590  ...  17.0   \n642   0.000000   0.000000  0.000000  0.000000   0.000000  ...   NaN   \n643  16.666667   0.000000  0.366667  0.000000  16.666667  ...   NaN   \n\n     flynn_score  n2b_score  happy_score  prosocial_score  public_indiv_score  \\\n0            3.4        3.6     5.250000              NaN            2.333333   \n1            NaN        NaN     6.000000              NaN                 NaN   \n2            NaN        4.3     5.333333              NaN                 NaN   \n3            NaN        2.5     6.333333              NaN                 NaN   \n4            3.8        4.4     6.000000              NaN            5.416667   \n..           ...        ...          ...              ...                 ...   \n639          NaN        2.9     5.250000              NaN                 NaN   \n640          NaN        NaN     6.000000              NaN                 NaN   \n641          NaN        NaN     6.333333              NaN                 NaN   \n642          NaN        NaN     6.000000              NaN                 NaN   \n643          NaN        NaN     6.500000              NaN                 NaN   \n\n     esteem_score   age  sex   fas  \n0        4.900000  14.0    1   8.0  \n1             NaN  14.0    0   0.0  \n2        3.450000  13.0    0   8.0  \n3             NaN  13.0    0  10.0  \n4             NaN  13.0    0   9.0  \n..            ...   ...  ...   ...  \n639      4.526923  10.0    1   9.5  \n640      3.565385  10.0    1  10.5  \n641      4.384615  10.0    1   9.0  \n642      4.076923  10.0    1  10.0  \n643      4.846154  10.0    1  12.0  \n\n[644 rows x 29 columns]",
      "text/html": "<div>\n<style scoped>\n    .dataframe tbody tr th:only-of-type {\n        vertical-align: middle;\n    }\n\n    .dataframe tbody tr th {\n        vertical-align: top;\n    }\n\n    .dataframe thead th {\n        text-align: right;\n    }\n</style>\n<table border=\"1\" class=\"dataframe\">\n  <thead>\n    <tr style=\"text-align: right;\">\n      <th></th>\n      <th>Child</th>\n      <th>isInfluencer</th>\n      <th>influencer_ratio_total</th>\n      <th>WC</th>\n      <th>affect</th>\n      <th>drives</th>\n      <th>social</th>\n      <th>polarity</th>\n      <th>health</th>\n      <th>cogproc</th>\n      <th>...</th>\n      <th>BMI</th>\n      <th>flynn_score</th>\n      <th>n2b_score</th>\n      <th>happy_score</th>\n      <th>prosocial_score</th>\n      <th>public_indiv_score</th>\n      <th>esteem_score</th>\n      <th>age</th>\n      <th>sex</th>\n      <th>fas</th>\n    </tr>\n  </thead>\n  <tbody>\n    <tr>\n      <th>0</th>\n      <td>1046</td>\n      <td>0</td>\n      <td>0.185185</td>\n      <td>NaN</td>\n      <td>NaN</td>\n      <td>NaN</td>\n      <td>NaN</td>\n      <td>NaN</td>\n      <td>NaN</td>\n      <td>NaN</td>\n      <td>...</td>\n      <td>19.0</td>\n      <td>3.4</td>\n      <td>3.6</td>\n      <td>5.250000</td>\n      <td>NaN</td>\n      <td>2.333333</td>\n      <td>4.900000</td>\n      <td>14.0</td>\n      <td>1</td>\n      <td>8.0</td>\n    </tr>\n    <tr>\n      <th>1</th>\n      <td>1047</td>\n      <td>0</td>\n      <td>0.240741</td>\n      <td>NaN</td>\n      <td>NaN</td>\n      <td>NaN</td>\n      <td>NaN</td>\n      <td>NaN</td>\n      <td>NaN</td>\n      <td>NaN</td>\n      <td>...</td>\n      <td>19.0</td>\n      <td>NaN</td>\n      <td>NaN</td>\n      <td>6.000000</td>\n      <td>NaN</td>\n      <td>NaN</td>\n      <td>NaN</td>\n      <td>14.0</td>\n      <td>0</td>\n      <td>0.0</td>\n    </tr>\n    <tr>\n      <th>2</th>\n      <td>1049</td>\n      <td>0</td>\n      <td>0.157407</td>\n      <td>NaN</td>\n      <td>NaN</td>\n      <td>NaN</td>\n      <td>NaN</td>\n      <td>NaN</td>\n      <td>NaN</td>\n      <td>NaN</td>\n      <td>...</td>\n      <td>17.0</td>\n      <td>NaN</td>\n      <td>4.3</td>\n      <td>5.333333</td>\n      <td>NaN</td>\n      <td>NaN</td>\n      <td>3.450000</td>\n      <td>13.0</td>\n      <td>0</td>\n      <td>8.0</td>\n    </tr>\n    <tr>\n      <th>3</th>\n      <td>1050</td>\n      <td>0</td>\n      <td>0.194444</td>\n      <td>NaN</td>\n      <td>NaN</td>\n      <td>NaN</td>\n      <td>NaN</td>\n      <td>NaN</td>\n      <td>NaN</td>\n      <td>NaN</td>\n      <td>...</td>\n      <td>22.0</td>\n      <td>NaN</td>\n      <td>2.5</td>\n      <td>6.333333</td>\n      <td>NaN</td>\n      <td>NaN</td>\n      <td>NaN</td>\n      <td>13.0</td>\n      <td>0</td>\n      <td>10.0</td>\n    </tr>\n    <tr>\n      <th>4</th>\n      <td>1055</td>\n      <td>0</td>\n      <td>0.209877</td>\n      <td>NaN</td>\n      <td>NaN</td>\n      <td>NaN</td>\n      <td>NaN</td>\n      <td>NaN</td>\n      <td>NaN</td>\n      <td>NaN</td>\n      <td>...</td>\n      <td>28.0</td>\n      <td>3.8</td>\n      <td>4.4</td>\n      <td>6.000000</td>\n      <td>NaN</td>\n      <td>5.416667</td>\n      <td>NaN</td>\n      <td>13.0</td>\n      <td>0</td>\n      <td>9.0</td>\n    </tr>\n    <tr>\n      <th>...</th>\n      <td>...</td>\n      <td>...</td>\n      <td>...</td>\n      <td>...</td>\n      <td>...</td>\n      <td>...</td>\n      <td>...</td>\n      <td>...</td>\n      <td>...</td>\n      <td>...</td>\n      <td>...</td>\n      <td>...</td>\n      <td>...</td>\n      <td>...</td>\n      <td>...</td>\n      <td>...</td>\n      <td>...</td>\n      <td>...</td>\n      <td>...</td>\n      <td>...</td>\n      <td>...</td>\n    </tr>\n    <tr>\n      <th>639</th>\n      <td>4889</td>\n      <td>0</td>\n      <td>0.254167</td>\n      <td>NaN</td>\n      <td>NaN</td>\n      <td>NaN</td>\n      <td>NaN</td>\n      <td>NaN</td>\n      <td>NaN</td>\n      <td>NaN</td>\n      <td>...</td>\n      <td>16.0</td>\n      <td>NaN</td>\n      <td>2.9</td>\n      <td>5.250000</td>\n      <td>NaN</td>\n      <td>NaN</td>\n      <td>4.526923</td>\n      <td>10.0</td>\n      <td>1</td>\n      <td>9.5</td>\n    </tr>\n    <tr>\n      <th>640</th>\n      <td>4890</td>\n      <td>0</td>\n      <td>0.154167</td>\n      <td>6.875000</td>\n      <td>3.775833</td>\n      <td>6.073750</td>\n      <td>13.016667</td>\n      <td>-0.009236</td>\n      <td>0.000000</td>\n      <td>12.109167</td>\n      <td>...</td>\n      <td>18.0</td>\n      <td>NaN</td>\n      <td>NaN</td>\n      <td>6.000000</td>\n      <td>NaN</td>\n      <td>NaN</td>\n      <td>3.565385</td>\n      <td>10.0</td>\n      <td>1</td>\n      <td>10.5</td>\n    </tr>\n    <tr>\n      <th>641</th>\n      <td>6135</td>\n      <td>0</td>\n      <td>0.255556</td>\n      <td>18.327869</td>\n      <td>9.820164</td>\n      <td>2.809508</td>\n      <td>7.474426</td>\n      <td>0.077832</td>\n      <td>0.196885</td>\n      <td>11.224590</td>\n      <td>...</td>\n      <td>17.0</td>\n      <td>NaN</td>\n      <td>NaN</td>\n      <td>6.333333</td>\n      <td>NaN</td>\n      <td>NaN</td>\n      <td>4.384615</td>\n      <td>10.0</td>\n      <td>1</td>\n      <td>9.0</td>\n    </tr>\n    <tr>\n      <th>642</th>\n      <td>6137</td>\n      <td>0</td>\n      <td>0.155556</td>\n      <td>2.000000</td>\n      <td>0.000000</td>\n      <td>0.000000</td>\n      <td>0.000000</td>\n      <td>0.000000</td>\n      <td>0.000000</td>\n      <td>0.000000</td>\n      <td>...</td>\n      <td>NaN</td>\n      <td>NaN</td>\n      <td>NaN</td>\n      <td>6.000000</td>\n      <td>NaN</td>\n      <td>NaN</td>\n      <td>4.076923</td>\n      <td>10.0</td>\n      <td>1</td>\n      <td>10.0</td>\n    </tr>\n    <tr>\n      <th>643</th>\n      <td>6138</td>\n      <td>1</td>\n      <td>0.433333</td>\n      <td>2.000000</td>\n      <td>33.333333</td>\n      <td>16.666667</td>\n      <td>0.000000</td>\n      <td>0.366667</td>\n      <td>0.000000</td>\n      <td>16.666667</td>\n      <td>...</td>\n      <td>NaN</td>\n      <td>NaN</td>\n      <td>NaN</td>\n      <td>6.500000</td>\n      <td>NaN</td>\n      <td>NaN</td>\n      <td>4.846154</td>\n      <td>10.0</td>\n      <td>1</td>\n      <td>12.0</td>\n    </tr>\n  </tbody>\n</table>\n<p>644 rows × 29 columns</p>\n</div>"
     },
     "execution_count": 6,
     "metadata": {},
     "output_type": "execute_result"
    }
   ],
   "source": [
    "df_vars = pd.read_csv('../output/model_data.csv', sep=',', header=0)\n",
    "df_vars"
   ]
  },
  {
   "cell_type": "code",
   "execution_count": 7,
   "id": "93308bd7-61ae-4051-80be-8c94afc9949e",
   "metadata": {
    "ExecuteTime": {
     "end_time": "2024-02-07T19:31:59.202185Z",
     "start_time": "2024-02-07T19:31:58.968874Z"
    }
   },
   "outputs": [
    {
     "data": {
      "text/plain": "Index(['Child', 'isInfluencer', 'influencer_ratio_total', 'WC', 'affect',\n       'drives', 'social', 'polarity', 'health', 'cogproc', 'subjectivity',\n       'num_likes', 'g_num_text', 'g_num_media', 'i_num_text', 'i_num_media',\n       'i_num_recepients', 'Steps', 'Minutes_MVPA', 'BMI', 'flynn_score',\n       'n2b_score', 'happy_score', 'prosocial_score', 'public_indiv_score',\n       'esteem_score', 'age', 'sex', 'fas'],\n      dtype='object')"
     },
     "execution_count": 7,
     "metadata": {},
     "output_type": "execute_result"
    }
   ],
   "source": [
    "df_vars.columns"
   ]
  },
  {
   "cell_type": "code",
   "execution_count": 8,
   "id": "574ab55e-7a24-4d60-a92b-1dd28ec4fc55",
   "metadata": {
    "ExecuteTime": {
     "end_time": "2024-02-07T19:32:00.528178Z",
     "start_time": "2024-02-07T19:31:59.644368Z"
    }
   },
   "outputs": [
    {
     "data": {
      "text/plain": "                        count         mean          std          min  \\\nChild                   644.0  2215.246894   860.137025  1046.000000   \nisInfluencer            644.0     0.149068     0.356433     0.000000   \ninfluencer_ratio_total  644.0     0.268560     0.137535     0.020172   \nWC                      402.0     4.058575     2.730600     1.000000   \naffect                  402.0     4.879672     7.382569     0.000000   \ndrives                  402.0     4.456607     5.680184     0.000000   \nsocial                  402.0     8.813711     7.105446     0.000000   \npolarity                402.0     0.026315     0.109460    -0.600000   \nhealth                  402.0     0.306338     1.377824     0.000000   \ncogproc                 402.0     7.055841     6.143540     0.000000   \nsubjectivity            402.0     0.168751     0.172241     0.000000   \nnum_likes               411.0     7.054136     9.792628     0.000000   \ng_num_text              411.0    16.674169    37.384479     0.000000   \ng_num_media             411.0     2.707218     3.601976     0.000000   \ni_num_text              391.0    10.079923    16.346164     0.000000   \ni_num_media             391.0     1.166240     1.916611     0.000000   \ni_num_recepients        391.0     2.108056     1.978236     0.250000   \nSteps                   644.0  9614.931677  2759.510790  3037.000000   \nMinutes_MVPA            644.0    52.065217    38.192996     2.000000   \nBMI                     624.0    18.689103     3.022039    13.000000   \nflynn_score             310.0     2.823871     1.259916     1.000000   \nn2b_score               571.0     4.075248     0.897878     1.000000   \nhappy_score             632.0     5.702196     0.883893     1.000000   \nprosocial_score         325.0     5.009846     0.816588     1.000000   \npublic_indiv_score      358.0     4.160847     1.165626     1.000000   \nesteem_score            537.0     3.872305     0.725355     0.500000   \nage                     644.0    11.694099     1.310763     9.000000   \nsex                     644.0     0.531056     0.499423     0.000000   \nfas                     644.0     7.856366     2.983747     0.000000   \n\n                                25%          50%           75%           max  \nChild                   1484.000000  2262.500000   2998.250000   6138.000000  \nisInfluencer               0.000000     0.000000      0.000000      1.000000  \ninfluencer_ratio_total     0.157365     0.265292      0.358709      0.756614  \nWC                         2.578028     3.651515      5.000000     30.394737  \naffect                     0.000000     3.578618      6.694208    100.000000  \ndrives                     0.000000     3.160730      6.407006     45.000000  \nsocial                     3.615685     8.580742     12.827043     53.333333  \npolarity                  -0.006478     0.000000      0.046090      0.700000  \nhealth                     0.000000     0.000000      0.000000     14.285714  \ncogproc                    2.090435     6.250000     10.000000     33.330000  \nsubjectivity               0.048083     0.141983      0.225000      1.000000  \nnum_likes                  1.000000     4.000000      8.750000     76.000000  \ng_num_text                 1.416667     4.500000     16.000000    421.000000  \ng_num_media                0.500000     1.500000      3.416667     26.000000  \ni_num_text                 1.500000     4.000000     11.000000    108.250000  \ni_num_media                0.000000     0.500000      1.375000     14.000000  \ni_num_recepients           0.750000     1.500000      3.000000     14.000000  \nSteps                   7657.000000  9235.000000  11358.000000  18859.000000  \nMinutes_MVPA              28.000000    44.000000     67.000000    450.000000  \nBMI                       17.000000    18.000000     20.000000     33.000000  \nflynn_score                2.000000     2.600000      3.600000      6.000000  \nn2b_score                  3.500000     4.200000      4.700000      6.000000  \nhappy_score                5.250000     6.000000      6.200000      7.000000  \nprosocial_score            4.600000     5.000000      5.600000      6.000000  \npublic_indiv_score         3.416667     4.250000      5.000000      6.000000  \nesteem_score               3.353846     3.971154      4.400000      5.500000  \nage                       10.000000    12.000000     13.000000     14.000000  \nsex                        0.000000     1.000000      1.000000      1.000000  \nfas                        7.000000     8.500000     10.000000     13.000000  ",
      "text/html": "<div>\n<style scoped>\n    .dataframe tbody tr th:only-of-type {\n        vertical-align: middle;\n    }\n\n    .dataframe tbody tr th {\n        vertical-align: top;\n    }\n\n    .dataframe thead th {\n        text-align: right;\n    }\n</style>\n<table border=\"1\" class=\"dataframe\">\n  <thead>\n    <tr style=\"text-align: right;\">\n      <th></th>\n      <th>count</th>\n      <th>mean</th>\n      <th>std</th>\n      <th>min</th>\n      <th>25%</th>\n      <th>50%</th>\n      <th>75%</th>\n      <th>max</th>\n    </tr>\n  </thead>\n  <tbody>\n    <tr>\n      <th>Child</th>\n      <td>644.0</td>\n      <td>2215.246894</td>\n      <td>860.137025</td>\n      <td>1046.000000</td>\n      <td>1484.000000</td>\n      <td>2262.500000</td>\n      <td>2998.250000</td>\n      <td>6138.000000</td>\n    </tr>\n    <tr>\n      <th>isInfluencer</th>\n      <td>644.0</td>\n      <td>0.149068</td>\n      <td>0.356433</td>\n      <td>0.000000</td>\n      <td>0.000000</td>\n      <td>0.000000</td>\n      <td>0.000000</td>\n      <td>1.000000</td>\n    </tr>\n    <tr>\n      <th>influencer_ratio_total</th>\n      <td>644.0</td>\n      <td>0.268560</td>\n      <td>0.137535</td>\n      <td>0.020172</td>\n      <td>0.157365</td>\n      <td>0.265292</td>\n      <td>0.358709</td>\n      <td>0.756614</td>\n    </tr>\n    <tr>\n      <th>WC</th>\n      <td>402.0</td>\n      <td>4.058575</td>\n      <td>2.730600</td>\n      <td>1.000000</td>\n      <td>2.578028</td>\n      <td>3.651515</td>\n      <td>5.000000</td>\n      <td>30.394737</td>\n    </tr>\n    <tr>\n      <th>affect</th>\n      <td>402.0</td>\n      <td>4.879672</td>\n      <td>7.382569</td>\n      <td>0.000000</td>\n      <td>0.000000</td>\n      <td>3.578618</td>\n      <td>6.694208</td>\n      <td>100.000000</td>\n    </tr>\n    <tr>\n      <th>drives</th>\n      <td>402.0</td>\n      <td>4.456607</td>\n      <td>5.680184</td>\n      <td>0.000000</td>\n      <td>0.000000</td>\n      <td>3.160730</td>\n      <td>6.407006</td>\n      <td>45.000000</td>\n    </tr>\n    <tr>\n      <th>social</th>\n      <td>402.0</td>\n      <td>8.813711</td>\n      <td>7.105446</td>\n      <td>0.000000</td>\n      <td>3.615685</td>\n      <td>8.580742</td>\n      <td>12.827043</td>\n      <td>53.333333</td>\n    </tr>\n    <tr>\n      <th>polarity</th>\n      <td>402.0</td>\n      <td>0.026315</td>\n      <td>0.109460</td>\n      <td>-0.600000</td>\n      <td>-0.006478</td>\n      <td>0.000000</td>\n      <td>0.046090</td>\n      <td>0.700000</td>\n    </tr>\n    <tr>\n      <th>health</th>\n      <td>402.0</td>\n      <td>0.306338</td>\n      <td>1.377824</td>\n      <td>0.000000</td>\n      <td>0.000000</td>\n      <td>0.000000</td>\n      <td>0.000000</td>\n      <td>14.285714</td>\n    </tr>\n    <tr>\n      <th>cogproc</th>\n      <td>402.0</td>\n      <td>7.055841</td>\n      <td>6.143540</td>\n      <td>0.000000</td>\n      <td>2.090435</td>\n      <td>6.250000</td>\n      <td>10.000000</td>\n      <td>33.330000</td>\n    </tr>\n    <tr>\n      <th>subjectivity</th>\n      <td>402.0</td>\n      <td>0.168751</td>\n      <td>0.172241</td>\n      <td>0.000000</td>\n      <td>0.048083</td>\n      <td>0.141983</td>\n      <td>0.225000</td>\n      <td>1.000000</td>\n    </tr>\n    <tr>\n      <th>num_likes</th>\n      <td>411.0</td>\n      <td>7.054136</td>\n      <td>9.792628</td>\n      <td>0.000000</td>\n      <td>1.000000</td>\n      <td>4.000000</td>\n      <td>8.750000</td>\n      <td>76.000000</td>\n    </tr>\n    <tr>\n      <th>g_num_text</th>\n      <td>411.0</td>\n      <td>16.674169</td>\n      <td>37.384479</td>\n      <td>0.000000</td>\n      <td>1.416667</td>\n      <td>4.500000</td>\n      <td>16.000000</td>\n      <td>421.000000</td>\n    </tr>\n    <tr>\n      <th>g_num_media</th>\n      <td>411.0</td>\n      <td>2.707218</td>\n      <td>3.601976</td>\n      <td>0.000000</td>\n      <td>0.500000</td>\n      <td>1.500000</td>\n      <td>3.416667</td>\n      <td>26.000000</td>\n    </tr>\n    <tr>\n      <th>i_num_text</th>\n      <td>391.0</td>\n      <td>10.079923</td>\n      <td>16.346164</td>\n      <td>0.000000</td>\n      <td>1.500000</td>\n      <td>4.000000</td>\n      <td>11.000000</td>\n      <td>108.250000</td>\n    </tr>\n    <tr>\n      <th>i_num_media</th>\n      <td>391.0</td>\n      <td>1.166240</td>\n      <td>1.916611</td>\n      <td>0.000000</td>\n      <td>0.000000</td>\n      <td>0.500000</td>\n      <td>1.375000</td>\n      <td>14.000000</td>\n    </tr>\n    <tr>\n      <th>i_num_recepients</th>\n      <td>391.0</td>\n      <td>2.108056</td>\n      <td>1.978236</td>\n      <td>0.250000</td>\n      <td>0.750000</td>\n      <td>1.500000</td>\n      <td>3.000000</td>\n      <td>14.000000</td>\n    </tr>\n    <tr>\n      <th>Steps</th>\n      <td>644.0</td>\n      <td>9614.931677</td>\n      <td>2759.510790</td>\n      <td>3037.000000</td>\n      <td>7657.000000</td>\n      <td>9235.000000</td>\n      <td>11358.000000</td>\n      <td>18859.000000</td>\n    </tr>\n    <tr>\n      <th>Minutes_MVPA</th>\n      <td>644.0</td>\n      <td>52.065217</td>\n      <td>38.192996</td>\n      <td>2.000000</td>\n      <td>28.000000</td>\n      <td>44.000000</td>\n      <td>67.000000</td>\n      <td>450.000000</td>\n    </tr>\n    <tr>\n      <th>BMI</th>\n      <td>624.0</td>\n      <td>18.689103</td>\n      <td>3.022039</td>\n      <td>13.000000</td>\n      <td>17.000000</td>\n      <td>18.000000</td>\n      <td>20.000000</td>\n      <td>33.000000</td>\n    </tr>\n    <tr>\n      <th>flynn_score</th>\n      <td>310.0</td>\n      <td>2.823871</td>\n      <td>1.259916</td>\n      <td>1.000000</td>\n      <td>2.000000</td>\n      <td>2.600000</td>\n      <td>3.600000</td>\n      <td>6.000000</td>\n    </tr>\n    <tr>\n      <th>n2b_score</th>\n      <td>571.0</td>\n      <td>4.075248</td>\n      <td>0.897878</td>\n      <td>1.000000</td>\n      <td>3.500000</td>\n      <td>4.200000</td>\n      <td>4.700000</td>\n      <td>6.000000</td>\n    </tr>\n    <tr>\n      <th>happy_score</th>\n      <td>632.0</td>\n      <td>5.702196</td>\n      <td>0.883893</td>\n      <td>1.000000</td>\n      <td>5.250000</td>\n      <td>6.000000</td>\n      <td>6.200000</td>\n      <td>7.000000</td>\n    </tr>\n    <tr>\n      <th>prosocial_score</th>\n      <td>325.0</td>\n      <td>5.009846</td>\n      <td>0.816588</td>\n      <td>1.000000</td>\n      <td>4.600000</td>\n      <td>5.000000</td>\n      <td>5.600000</td>\n      <td>6.000000</td>\n    </tr>\n    <tr>\n      <th>public_indiv_score</th>\n      <td>358.0</td>\n      <td>4.160847</td>\n      <td>1.165626</td>\n      <td>1.000000</td>\n      <td>3.416667</td>\n      <td>4.250000</td>\n      <td>5.000000</td>\n      <td>6.000000</td>\n    </tr>\n    <tr>\n      <th>esteem_score</th>\n      <td>537.0</td>\n      <td>3.872305</td>\n      <td>0.725355</td>\n      <td>0.500000</td>\n      <td>3.353846</td>\n      <td>3.971154</td>\n      <td>4.400000</td>\n      <td>5.500000</td>\n    </tr>\n    <tr>\n      <th>age</th>\n      <td>644.0</td>\n      <td>11.694099</td>\n      <td>1.310763</td>\n      <td>9.000000</td>\n      <td>10.000000</td>\n      <td>12.000000</td>\n      <td>13.000000</td>\n      <td>14.000000</td>\n    </tr>\n    <tr>\n      <th>sex</th>\n      <td>644.0</td>\n      <td>0.531056</td>\n      <td>0.499423</td>\n      <td>0.000000</td>\n      <td>0.000000</td>\n      <td>1.000000</td>\n      <td>1.000000</td>\n      <td>1.000000</td>\n    </tr>\n    <tr>\n      <th>fas</th>\n      <td>644.0</td>\n      <td>7.856366</td>\n      <td>2.983747</td>\n      <td>0.000000</td>\n      <td>7.000000</td>\n      <td>8.500000</td>\n      <td>10.000000</td>\n      <td>13.000000</td>\n    </tr>\n  </tbody>\n</table>\n</div>"
     },
     "execution_count": 8,
     "metadata": {},
     "output_type": "execute_result"
    }
   ],
   "source": [
    "df_vars.describe().T"
   ]
  },
  {
   "cell_type": "code",
   "execution_count": 9,
   "id": "d4546cf5-f451-4634-b3dd-52ecfce3c9c7",
   "metadata": {
    "ExecuteTime": {
     "end_time": "2024-02-07T19:32:00.812275Z",
     "start_time": "2024-02-07T19:32:00.620801Z"
    }
   },
   "outputs": [],
   "source": [
    "# Create subsets\n",
    "df_influencer = df_vars[df_vars['isInfluencer']==1]\n",
    "df_nonInfluencer = df_vars[df_vars['isInfluencer']==0]"
   ]
  },
  {
   "cell_type": "code",
   "execution_count": 10,
   "id": "de1dd65c-c137-452f-931d-d5f31723471c",
   "metadata": {
    "ExecuteTime": {
     "end_time": "2024-02-07T19:32:01.068019Z",
     "start_time": "2024-02-07T19:32:00.818703Z"
    }
   },
   "outputs": [
    {
     "data": {
      "text/plain": "                        count          mean          std          min  \\\nChild                    96.0   2382.437500   779.213501  1179.000000   \nisInfluencer             96.0      1.000000     0.000000     1.000000   \ninfluencer_ratio_total   96.0      0.493488     0.078179     0.415155   \nWC                       73.0      4.463851     3.390439     1.000000   \naffect                   73.0      5.680777     8.339605     0.000000   \ndrives                   73.0      4.859827     5.720920     0.000000   \nsocial                   73.0      9.266483     5.783349     0.000000   \npolarity                 73.0      0.019102     0.117286    -0.500000   \nhealth                   73.0      0.285620     1.436898     0.000000   \ncogproc                  73.0      6.706880     5.226778     0.000000   \nsubjectivity             73.0      0.193418     0.170589     0.000000   \nnum_likes                72.0      7.868056    10.251853     0.000000   \ng_num_text               72.0     15.847222    33.005216     0.500000   \ng_num_media              72.0      2.347222     3.773440     0.000000   \ni_num_text               72.0     12.355324    18.050865     0.000000   \ni_num_media              72.0      1.266204     2.360201     0.000000   \ni_num_recepients         72.0      2.451389     2.160643     0.250000   \nSteps                    96.0  10164.354167  2542.858429  5213.000000   \nMinutes_MVPA             96.0     52.270833    29.722392    13.000000   \nBMI                      94.0     18.638298     3.215724    14.000000   \nflynn_score              46.0      3.039130     1.308176     1.000000   \nn2b_score                92.0      3.994022     0.910375     1.600000   \nhappy_score              96.0      5.836235     0.872874     2.500000   \nprosocial_score          50.0      5.212000     0.845067     1.000000   \npublic_indiv_score       55.0      4.595455     1.190823     1.000000   \nesteem_score             88.0      3.994078     0.643899     2.400000   \nage                      96.0     11.302083     1.134342    10.000000   \nsex                      96.0      0.708333     0.456916     0.000000   \nfas                      96.0      8.317708     2.710719     0.000000   \n\n                                25%          50%           75%           max  \nChild                   1626.250000  2318.500000   2998.500000   6138.000000  \nisInfluencer               1.000000     1.000000      1.000000      1.000000  \ninfluencer_ratio_total     0.434343     0.466327      0.525865      0.756614  \nWC                         2.705882     3.800000      5.000000     20.500000  \naffect                     0.952381     3.104167      6.250000     50.000000  \ndrives                     0.000000     3.291667      7.380714     25.000000  \nsocial                     5.130000     8.822466     12.572558     25.000000  \npolarity                  -0.006763     0.006364      0.063141      0.366667  \nhealth                     0.000000     0.000000      0.000000     11.363636  \ncogproc                    2.500000     6.051667     10.000000     25.625000  \nsubjectivity               0.088889     0.166667      0.243750      1.000000  \nnum_likes                  1.500000     4.625000      8.750000     53.250000  \ng_num_text                 2.187500     5.625000     14.750000    209.000000  \ng_num_media                0.250000     1.500000      3.000000     26.000000  \ni_num_text                 1.625000     5.125000     14.250000    104.000000  \ni_num_media                0.000000     0.500000      1.500000     13.000000  \ni_num_recepients           1.000000     1.875000      3.500000     11.000000  \nSteps                   8372.250000  9827.000000  12067.000000  16531.000000  \nMinutes_MVPA              30.750000    43.000000     64.250000    161.000000  \nBMI                       17.000000    18.000000     20.000000     33.000000  \nflynn_score                2.000000     2.800000      3.800000      6.000000  \nn2b_score                  3.475000     4.100000      4.700000      5.800000  \nhappy_score                5.592857     6.000000      6.357143      7.000000  \nprosocial_score            4.800000     5.400000      5.750000      6.000000  \npublic_indiv_score         3.875000     4.750000      5.625000      6.000000  \nesteem_score               3.607212     4.025000      4.415865      5.100000  \nage                       10.000000    11.000000     12.000000     14.000000  \nsex                        0.000000     1.000000      1.000000      1.000000  \nfas                        7.000000     9.000000     10.000000     13.000000  ",
      "text/html": "<div>\n<style scoped>\n    .dataframe tbody tr th:only-of-type {\n        vertical-align: middle;\n    }\n\n    .dataframe tbody tr th {\n        vertical-align: top;\n    }\n\n    .dataframe thead th {\n        text-align: right;\n    }\n</style>\n<table border=\"1\" class=\"dataframe\">\n  <thead>\n    <tr style=\"text-align: right;\">\n      <th></th>\n      <th>count</th>\n      <th>mean</th>\n      <th>std</th>\n      <th>min</th>\n      <th>25%</th>\n      <th>50%</th>\n      <th>75%</th>\n      <th>max</th>\n    </tr>\n  </thead>\n  <tbody>\n    <tr>\n      <th>Child</th>\n      <td>96.0</td>\n      <td>2382.437500</td>\n      <td>779.213501</td>\n      <td>1179.000000</td>\n      <td>1626.250000</td>\n      <td>2318.500000</td>\n      <td>2998.500000</td>\n      <td>6138.000000</td>\n    </tr>\n    <tr>\n      <th>isInfluencer</th>\n      <td>96.0</td>\n      <td>1.000000</td>\n      <td>0.000000</td>\n      <td>1.000000</td>\n      <td>1.000000</td>\n      <td>1.000000</td>\n      <td>1.000000</td>\n      <td>1.000000</td>\n    </tr>\n    <tr>\n      <th>influencer_ratio_total</th>\n      <td>96.0</td>\n      <td>0.493488</td>\n      <td>0.078179</td>\n      <td>0.415155</td>\n      <td>0.434343</td>\n      <td>0.466327</td>\n      <td>0.525865</td>\n      <td>0.756614</td>\n    </tr>\n    <tr>\n      <th>WC</th>\n      <td>73.0</td>\n      <td>4.463851</td>\n      <td>3.390439</td>\n      <td>1.000000</td>\n      <td>2.705882</td>\n      <td>3.800000</td>\n      <td>5.000000</td>\n      <td>20.500000</td>\n    </tr>\n    <tr>\n      <th>affect</th>\n      <td>73.0</td>\n      <td>5.680777</td>\n      <td>8.339605</td>\n      <td>0.000000</td>\n      <td>0.952381</td>\n      <td>3.104167</td>\n      <td>6.250000</td>\n      <td>50.000000</td>\n    </tr>\n    <tr>\n      <th>drives</th>\n      <td>73.0</td>\n      <td>4.859827</td>\n      <td>5.720920</td>\n      <td>0.000000</td>\n      <td>0.000000</td>\n      <td>3.291667</td>\n      <td>7.380714</td>\n      <td>25.000000</td>\n    </tr>\n    <tr>\n      <th>social</th>\n      <td>73.0</td>\n      <td>9.266483</td>\n      <td>5.783349</td>\n      <td>0.000000</td>\n      <td>5.130000</td>\n      <td>8.822466</td>\n      <td>12.572558</td>\n      <td>25.000000</td>\n    </tr>\n    <tr>\n      <th>polarity</th>\n      <td>73.0</td>\n      <td>0.019102</td>\n      <td>0.117286</td>\n      <td>-0.500000</td>\n      <td>-0.006763</td>\n      <td>0.006364</td>\n      <td>0.063141</td>\n      <td>0.366667</td>\n    </tr>\n    <tr>\n      <th>health</th>\n      <td>73.0</td>\n      <td>0.285620</td>\n      <td>1.436898</td>\n      <td>0.000000</td>\n      <td>0.000000</td>\n      <td>0.000000</td>\n      <td>0.000000</td>\n      <td>11.363636</td>\n    </tr>\n    <tr>\n      <th>cogproc</th>\n      <td>73.0</td>\n      <td>6.706880</td>\n      <td>5.226778</td>\n      <td>0.000000</td>\n      <td>2.500000</td>\n      <td>6.051667</td>\n      <td>10.000000</td>\n      <td>25.625000</td>\n    </tr>\n    <tr>\n      <th>subjectivity</th>\n      <td>73.0</td>\n      <td>0.193418</td>\n      <td>0.170589</td>\n      <td>0.000000</td>\n      <td>0.088889</td>\n      <td>0.166667</td>\n      <td>0.243750</td>\n      <td>1.000000</td>\n    </tr>\n    <tr>\n      <th>num_likes</th>\n      <td>72.0</td>\n      <td>7.868056</td>\n      <td>10.251853</td>\n      <td>0.000000</td>\n      <td>1.500000</td>\n      <td>4.625000</td>\n      <td>8.750000</td>\n      <td>53.250000</td>\n    </tr>\n    <tr>\n      <th>g_num_text</th>\n      <td>72.0</td>\n      <td>15.847222</td>\n      <td>33.005216</td>\n      <td>0.500000</td>\n      <td>2.187500</td>\n      <td>5.625000</td>\n      <td>14.750000</td>\n      <td>209.000000</td>\n    </tr>\n    <tr>\n      <th>g_num_media</th>\n      <td>72.0</td>\n      <td>2.347222</td>\n      <td>3.773440</td>\n      <td>0.000000</td>\n      <td>0.250000</td>\n      <td>1.500000</td>\n      <td>3.000000</td>\n      <td>26.000000</td>\n    </tr>\n    <tr>\n      <th>i_num_text</th>\n      <td>72.0</td>\n      <td>12.355324</td>\n      <td>18.050865</td>\n      <td>0.000000</td>\n      <td>1.625000</td>\n      <td>5.125000</td>\n      <td>14.250000</td>\n      <td>104.000000</td>\n    </tr>\n    <tr>\n      <th>i_num_media</th>\n      <td>72.0</td>\n      <td>1.266204</td>\n      <td>2.360201</td>\n      <td>0.000000</td>\n      <td>0.000000</td>\n      <td>0.500000</td>\n      <td>1.500000</td>\n      <td>13.000000</td>\n    </tr>\n    <tr>\n      <th>i_num_recepients</th>\n      <td>72.0</td>\n      <td>2.451389</td>\n      <td>2.160643</td>\n      <td>0.250000</td>\n      <td>1.000000</td>\n      <td>1.875000</td>\n      <td>3.500000</td>\n      <td>11.000000</td>\n    </tr>\n    <tr>\n      <th>Steps</th>\n      <td>96.0</td>\n      <td>10164.354167</td>\n      <td>2542.858429</td>\n      <td>5213.000000</td>\n      <td>8372.250000</td>\n      <td>9827.000000</td>\n      <td>12067.000000</td>\n      <td>16531.000000</td>\n    </tr>\n    <tr>\n      <th>Minutes_MVPA</th>\n      <td>96.0</td>\n      <td>52.270833</td>\n      <td>29.722392</td>\n      <td>13.000000</td>\n      <td>30.750000</td>\n      <td>43.000000</td>\n      <td>64.250000</td>\n      <td>161.000000</td>\n    </tr>\n    <tr>\n      <th>BMI</th>\n      <td>94.0</td>\n      <td>18.638298</td>\n      <td>3.215724</td>\n      <td>14.000000</td>\n      <td>17.000000</td>\n      <td>18.000000</td>\n      <td>20.000000</td>\n      <td>33.000000</td>\n    </tr>\n    <tr>\n      <th>flynn_score</th>\n      <td>46.0</td>\n      <td>3.039130</td>\n      <td>1.308176</td>\n      <td>1.000000</td>\n      <td>2.000000</td>\n      <td>2.800000</td>\n      <td>3.800000</td>\n      <td>6.000000</td>\n    </tr>\n    <tr>\n      <th>n2b_score</th>\n      <td>92.0</td>\n      <td>3.994022</td>\n      <td>0.910375</td>\n      <td>1.600000</td>\n      <td>3.475000</td>\n      <td>4.100000</td>\n      <td>4.700000</td>\n      <td>5.800000</td>\n    </tr>\n    <tr>\n      <th>happy_score</th>\n      <td>96.0</td>\n      <td>5.836235</td>\n      <td>0.872874</td>\n      <td>2.500000</td>\n      <td>5.592857</td>\n      <td>6.000000</td>\n      <td>6.357143</td>\n      <td>7.000000</td>\n    </tr>\n    <tr>\n      <th>prosocial_score</th>\n      <td>50.0</td>\n      <td>5.212000</td>\n      <td>0.845067</td>\n      <td>1.000000</td>\n      <td>4.800000</td>\n      <td>5.400000</td>\n      <td>5.750000</td>\n      <td>6.000000</td>\n    </tr>\n    <tr>\n      <th>public_indiv_score</th>\n      <td>55.0</td>\n      <td>4.595455</td>\n      <td>1.190823</td>\n      <td>1.000000</td>\n      <td>3.875000</td>\n      <td>4.750000</td>\n      <td>5.625000</td>\n      <td>6.000000</td>\n    </tr>\n    <tr>\n      <th>esteem_score</th>\n      <td>88.0</td>\n      <td>3.994078</td>\n      <td>0.643899</td>\n      <td>2.400000</td>\n      <td>3.607212</td>\n      <td>4.025000</td>\n      <td>4.415865</td>\n      <td>5.100000</td>\n    </tr>\n    <tr>\n      <th>age</th>\n      <td>96.0</td>\n      <td>11.302083</td>\n      <td>1.134342</td>\n      <td>10.000000</td>\n      <td>10.000000</td>\n      <td>11.000000</td>\n      <td>12.000000</td>\n      <td>14.000000</td>\n    </tr>\n    <tr>\n      <th>sex</th>\n      <td>96.0</td>\n      <td>0.708333</td>\n      <td>0.456916</td>\n      <td>0.000000</td>\n      <td>0.000000</td>\n      <td>1.000000</td>\n      <td>1.000000</td>\n      <td>1.000000</td>\n    </tr>\n    <tr>\n      <th>fas</th>\n      <td>96.0</td>\n      <td>8.317708</td>\n      <td>2.710719</td>\n      <td>0.000000</td>\n      <td>7.000000</td>\n      <td>9.000000</td>\n      <td>10.000000</td>\n      <td>13.000000</td>\n    </tr>\n  </tbody>\n</table>\n</div>"
     },
     "execution_count": 10,
     "metadata": {},
     "output_type": "execute_result"
    }
   ],
   "source": [
    "df_influencer.describe().T"
   ]
  },
  {
   "cell_type": "code",
   "execution_count": 11,
   "id": "7ca21bfb-87e6-46a1-94e2-9a9604a37130",
   "metadata": {
    "ExecuteTime": {
     "end_time": "2024-02-07T19:32:01.144812Z",
     "start_time": "2024-02-07T19:32:00.949897Z"
    }
   },
   "outputs": [
    {
     "data": {
      "text/plain": "                        count         mean          std          min  \\\nChild                   548.0  2185.958029   870.897856  1046.000000   \nisInfluencer            548.0     0.000000     0.000000     0.000000   \ninfluencer_ratio_total  548.0     0.229156     0.103633     0.020172   \nWC                      329.0     3.968650     2.558838     1.000000   \naffect                  329.0     4.701919     7.154791     0.000000   \ndrives                  329.0     4.367139     5.675975     0.000000   \nsocial                  329.0     8.713248     7.370623     0.000000   \npolarity                329.0     0.027916     0.107769    -0.600000   \nhealth                  329.0     0.310934     1.366591     0.000000   \ncogproc                 329.0     7.133271     6.333498     0.000000   \nsubjectivity            329.0     0.163277     0.172384     0.000000   \nnum_likes               339.0     6.881268     9.699206     0.000000   \ng_num_text              339.0    16.849803    38.292419     0.000000   \ng_num_media             339.0     2.783677     3.565600     0.000000   \ni_num_text              319.0     9.566353    15.921955     0.000000   \ni_num_media             319.0     1.143678     1.805159     0.000000   \ni_num_recepients        319.0     2.030564     1.929884     0.250000   \nSteps                   548.0  9518.682482  2786.767718  3037.000000   \nMinutes_MVPA            548.0    52.029197    39.512975     2.000000   \nBMI                     530.0    18.698113     2.989490    13.000000   \nflynn_score             264.0     2.786364     1.250081     1.000000   \nn2b_score               479.0     4.090849     0.895575     1.000000   \nhappy_score             536.0     5.678189     0.884514     1.000000   \nprosocial_score         275.0     4.973091     0.807449     1.400000   \npublic_indiv_score      303.0     4.081958     1.145392     1.000000   \nesteem_score            449.0     3.848439     0.738572     0.500000   \nage                     548.0    11.762774     1.328330     9.000000   \nsex                     548.0     0.500000     0.500457     0.000000   \nfas                     548.0     7.775547     3.024093     0.000000   \n\n                                25%          50%           75%           max  \nChild                   1421.750000  1813.500000   2995.250000   6137.000000  \nisInfluencer               0.000000     0.000000      0.000000      0.000000  \ninfluencer_ratio_total     0.138889     0.237447      0.313308      0.414651  \nWC                         2.500000     3.615385      5.000000     30.394737  \naffect                     0.000000     3.594545      6.703277    100.000000  \ndrives                     0.000000     3.143810      6.267912     45.000000  \nsocial                     2.777778     8.527941     12.853656     53.333333  \npolarity                  -0.006270     0.000000      0.044363      0.700000  \nhealth                     0.000000     0.000000      0.000000     14.285714  \ncogproc                    1.851667     6.266505     10.010909     33.330000  \nsubjectivity               0.000000     0.138462      0.222381      1.000000  \nnum_likes                  1.000000     3.500000      8.750000     76.000000  \ng_num_text                 1.250000     4.000000     16.000000    421.000000  \ng_num_media                0.500000     1.500000      3.500000     19.000000  \ni_num_text                 1.250000     4.000000     10.500000    108.250000  \ni_num_media                0.000000     0.500000      1.250000     14.000000  \ni_num_recepients           0.750000     1.500000      2.750000     14.000000  \nSteps                   7636.000000  9080.000000  11279.500000  18859.000000  \nMinutes_MVPA              27.000000    44.000000     67.000000    450.000000  \nBMI                       17.000000    18.000000     20.000000     30.000000  \nflynn_score                1.800000     2.600000      3.600000      6.000000  \nn2b_score                  3.500000     4.200000      4.700000      6.000000  \nhappy_score                5.250000     6.000000      6.200000      7.000000  \nprosocial_score            4.600000     5.000000      5.600000      6.000000  \npublic_indiv_score         3.333333     4.166667      4.916667      6.000000  \nesteem_score               3.326923     3.900000      4.400000      5.500000  \nage                       10.000000    12.000000     13.000000     14.000000  \nsex                        0.000000     0.500000      1.000000      1.000000  \nfas                        7.000000     8.000000     10.000000     13.000000  ",
      "text/html": "<div>\n<style scoped>\n    .dataframe tbody tr th:only-of-type {\n        vertical-align: middle;\n    }\n\n    .dataframe tbody tr th {\n        vertical-align: top;\n    }\n\n    .dataframe thead th {\n        text-align: right;\n    }\n</style>\n<table border=\"1\" class=\"dataframe\">\n  <thead>\n    <tr style=\"text-align: right;\">\n      <th></th>\n      <th>count</th>\n      <th>mean</th>\n      <th>std</th>\n      <th>min</th>\n      <th>25%</th>\n      <th>50%</th>\n      <th>75%</th>\n      <th>max</th>\n    </tr>\n  </thead>\n  <tbody>\n    <tr>\n      <th>Child</th>\n      <td>548.0</td>\n      <td>2185.958029</td>\n      <td>870.897856</td>\n      <td>1046.000000</td>\n      <td>1421.750000</td>\n      <td>1813.500000</td>\n      <td>2995.250000</td>\n      <td>6137.000000</td>\n    </tr>\n    <tr>\n      <th>isInfluencer</th>\n      <td>548.0</td>\n      <td>0.000000</td>\n      <td>0.000000</td>\n      <td>0.000000</td>\n      <td>0.000000</td>\n      <td>0.000000</td>\n      <td>0.000000</td>\n      <td>0.000000</td>\n    </tr>\n    <tr>\n      <th>influencer_ratio_total</th>\n      <td>548.0</td>\n      <td>0.229156</td>\n      <td>0.103633</td>\n      <td>0.020172</td>\n      <td>0.138889</td>\n      <td>0.237447</td>\n      <td>0.313308</td>\n      <td>0.414651</td>\n    </tr>\n    <tr>\n      <th>WC</th>\n      <td>329.0</td>\n      <td>3.968650</td>\n      <td>2.558838</td>\n      <td>1.000000</td>\n      <td>2.500000</td>\n      <td>3.615385</td>\n      <td>5.000000</td>\n      <td>30.394737</td>\n    </tr>\n    <tr>\n      <th>affect</th>\n      <td>329.0</td>\n      <td>4.701919</td>\n      <td>7.154791</td>\n      <td>0.000000</td>\n      <td>0.000000</td>\n      <td>3.594545</td>\n      <td>6.703277</td>\n      <td>100.000000</td>\n    </tr>\n    <tr>\n      <th>drives</th>\n      <td>329.0</td>\n      <td>4.367139</td>\n      <td>5.675975</td>\n      <td>0.000000</td>\n      <td>0.000000</td>\n      <td>3.143810</td>\n      <td>6.267912</td>\n      <td>45.000000</td>\n    </tr>\n    <tr>\n      <th>social</th>\n      <td>329.0</td>\n      <td>8.713248</td>\n      <td>7.370623</td>\n      <td>0.000000</td>\n      <td>2.777778</td>\n      <td>8.527941</td>\n      <td>12.853656</td>\n      <td>53.333333</td>\n    </tr>\n    <tr>\n      <th>polarity</th>\n      <td>329.0</td>\n      <td>0.027916</td>\n      <td>0.107769</td>\n      <td>-0.600000</td>\n      <td>-0.006270</td>\n      <td>0.000000</td>\n      <td>0.044363</td>\n      <td>0.700000</td>\n    </tr>\n    <tr>\n      <th>health</th>\n      <td>329.0</td>\n      <td>0.310934</td>\n      <td>1.366591</td>\n      <td>0.000000</td>\n      <td>0.000000</td>\n      <td>0.000000</td>\n      <td>0.000000</td>\n      <td>14.285714</td>\n    </tr>\n    <tr>\n      <th>cogproc</th>\n      <td>329.0</td>\n      <td>7.133271</td>\n      <td>6.333498</td>\n      <td>0.000000</td>\n      <td>1.851667</td>\n      <td>6.266505</td>\n      <td>10.010909</td>\n      <td>33.330000</td>\n    </tr>\n    <tr>\n      <th>subjectivity</th>\n      <td>329.0</td>\n      <td>0.163277</td>\n      <td>0.172384</td>\n      <td>0.000000</td>\n      <td>0.000000</td>\n      <td>0.138462</td>\n      <td>0.222381</td>\n      <td>1.000000</td>\n    </tr>\n    <tr>\n      <th>num_likes</th>\n      <td>339.0</td>\n      <td>6.881268</td>\n      <td>9.699206</td>\n      <td>0.000000</td>\n      <td>1.000000</td>\n      <td>3.500000</td>\n      <td>8.750000</td>\n      <td>76.000000</td>\n    </tr>\n    <tr>\n      <th>g_num_text</th>\n      <td>339.0</td>\n      <td>16.849803</td>\n      <td>38.292419</td>\n      <td>0.000000</td>\n      <td>1.250000</td>\n      <td>4.000000</td>\n      <td>16.000000</td>\n      <td>421.000000</td>\n    </tr>\n    <tr>\n      <th>g_num_media</th>\n      <td>339.0</td>\n      <td>2.783677</td>\n      <td>3.565600</td>\n      <td>0.000000</td>\n      <td>0.500000</td>\n      <td>1.500000</td>\n      <td>3.500000</td>\n      <td>19.000000</td>\n    </tr>\n    <tr>\n      <th>i_num_text</th>\n      <td>319.0</td>\n      <td>9.566353</td>\n      <td>15.921955</td>\n      <td>0.000000</td>\n      <td>1.250000</td>\n      <td>4.000000</td>\n      <td>10.500000</td>\n      <td>108.250000</td>\n    </tr>\n    <tr>\n      <th>i_num_media</th>\n      <td>319.0</td>\n      <td>1.143678</td>\n      <td>1.805159</td>\n      <td>0.000000</td>\n      <td>0.000000</td>\n      <td>0.500000</td>\n      <td>1.250000</td>\n      <td>14.000000</td>\n    </tr>\n    <tr>\n      <th>i_num_recepients</th>\n      <td>319.0</td>\n      <td>2.030564</td>\n      <td>1.929884</td>\n      <td>0.250000</td>\n      <td>0.750000</td>\n      <td>1.500000</td>\n      <td>2.750000</td>\n      <td>14.000000</td>\n    </tr>\n    <tr>\n      <th>Steps</th>\n      <td>548.0</td>\n      <td>9518.682482</td>\n      <td>2786.767718</td>\n      <td>3037.000000</td>\n      <td>7636.000000</td>\n      <td>9080.000000</td>\n      <td>11279.500000</td>\n      <td>18859.000000</td>\n    </tr>\n    <tr>\n      <th>Minutes_MVPA</th>\n      <td>548.0</td>\n      <td>52.029197</td>\n      <td>39.512975</td>\n      <td>2.000000</td>\n      <td>27.000000</td>\n      <td>44.000000</td>\n      <td>67.000000</td>\n      <td>450.000000</td>\n    </tr>\n    <tr>\n      <th>BMI</th>\n      <td>530.0</td>\n      <td>18.698113</td>\n      <td>2.989490</td>\n      <td>13.000000</td>\n      <td>17.000000</td>\n      <td>18.000000</td>\n      <td>20.000000</td>\n      <td>30.000000</td>\n    </tr>\n    <tr>\n      <th>flynn_score</th>\n      <td>264.0</td>\n      <td>2.786364</td>\n      <td>1.250081</td>\n      <td>1.000000</td>\n      <td>1.800000</td>\n      <td>2.600000</td>\n      <td>3.600000</td>\n      <td>6.000000</td>\n    </tr>\n    <tr>\n      <th>n2b_score</th>\n      <td>479.0</td>\n      <td>4.090849</td>\n      <td>0.895575</td>\n      <td>1.000000</td>\n      <td>3.500000</td>\n      <td>4.200000</td>\n      <td>4.700000</td>\n      <td>6.000000</td>\n    </tr>\n    <tr>\n      <th>happy_score</th>\n      <td>536.0</td>\n      <td>5.678189</td>\n      <td>0.884514</td>\n      <td>1.000000</td>\n      <td>5.250000</td>\n      <td>6.000000</td>\n      <td>6.200000</td>\n      <td>7.000000</td>\n    </tr>\n    <tr>\n      <th>prosocial_score</th>\n      <td>275.0</td>\n      <td>4.973091</td>\n      <td>0.807449</td>\n      <td>1.400000</td>\n      <td>4.600000</td>\n      <td>5.000000</td>\n      <td>5.600000</td>\n      <td>6.000000</td>\n    </tr>\n    <tr>\n      <th>public_indiv_score</th>\n      <td>303.0</td>\n      <td>4.081958</td>\n      <td>1.145392</td>\n      <td>1.000000</td>\n      <td>3.333333</td>\n      <td>4.166667</td>\n      <td>4.916667</td>\n      <td>6.000000</td>\n    </tr>\n    <tr>\n      <th>esteem_score</th>\n      <td>449.0</td>\n      <td>3.848439</td>\n      <td>0.738572</td>\n      <td>0.500000</td>\n      <td>3.326923</td>\n      <td>3.900000</td>\n      <td>4.400000</td>\n      <td>5.500000</td>\n    </tr>\n    <tr>\n      <th>age</th>\n      <td>548.0</td>\n      <td>11.762774</td>\n      <td>1.328330</td>\n      <td>9.000000</td>\n      <td>10.000000</td>\n      <td>12.000000</td>\n      <td>13.000000</td>\n      <td>14.000000</td>\n    </tr>\n    <tr>\n      <th>sex</th>\n      <td>548.0</td>\n      <td>0.500000</td>\n      <td>0.500457</td>\n      <td>0.000000</td>\n      <td>0.000000</td>\n      <td>0.500000</td>\n      <td>1.000000</td>\n      <td>1.000000</td>\n    </tr>\n    <tr>\n      <th>fas</th>\n      <td>548.0</td>\n      <td>7.775547</td>\n      <td>3.024093</td>\n      <td>0.000000</td>\n      <td>7.000000</td>\n      <td>8.000000</td>\n      <td>10.000000</td>\n      <td>13.000000</td>\n    </tr>\n  </tbody>\n</table>\n</div>"
     },
     "execution_count": 11,
     "metadata": {},
     "output_type": "execute_result"
    }
   ],
   "source": [
    "df_nonInfluencer.describe().T"
   ]
  },
  {
   "cell_type": "markdown",
   "id": "c612592e-dc7a-456a-83e5-50e265dff6d6",
   "metadata": {},
   "source": [
    "# Test Normality"
   ]
  },
  {
   "cell_type": "code",
   "execution_count": 12,
   "id": "f312af69-9ffc-4977-be84-0dd329a6a412",
   "metadata": {
    "ExecuteTime": {
     "end_time": "2024-02-07T19:32:02.608100Z",
     "start_time": "2024-02-07T19:32:02.352Z"
    }
   },
   "outputs": [
    {
     "name": "stdout",
     "output_type": "stream",
     "text": [
      "Complete dataset:\n",
      "age: ShapiroResult(statistic=0.8766106963157654, pvalue=3.5194230328110634e-22)\n",
      "sex: ShapiroResult(statistic=0.6351578235626221, pvalue=8.554997633557578e-35)\n",
      "fas: ShapiroResult(statistic=0.8480838537216187, pvalue=2.2820984737270333e-24)\n",
      "flynn: ShapiroResult(statistic=0.9490635395050049, pvalue=6.972482147205028e-09)\n",
      "n2b: ShapiroResult(statistic=0.9830875992774963, pvalue=3.4983288514922606e-06)\n",
      "happy: ShapiroResult(statistic=0.91359943151474, pvalue=1.6841478955665133e-18)\n",
      "prosocial: ShapiroResult(statistic=0.8966207504272461, pvalue=4.5386319079106577e-14)\n",
      "public_indiv: ShapiroResult(statistic=0.9673480987548828, pvalue=3.459984441178676e-07)\n",
      "esteem: ShapiroResult(statistic=0.9761071801185608, pvalue=1.1027486834791489e-07)\n",
      "WC: ShapiroResult(statistic=0.6978573203086853, pvalue=3.055058913653136e-26)\n",
      "affect: ShapiroResult(statistic=0.548971951007843, pvalue=7.744177471917805e-31)\n",
      "drives: ShapiroResult(statistic=0.7568017244338989, pvalue=6.4744705666706074e-24)\n",
      "social: ShapiroResult(statistic=0.9062987565994263, pvalue=4.736154231386319e-15)\n",
      "polarity: ShapiroResult(statistic=0.7575587630271912, pvalue=6.978900178335584e-24)\n",
      "health: ShapiroResult(statistic=0.22282147407531738, pvalue=1.0441582688247683e-37)\n",
      "cogproc: ShapiroResult(statistic=0.9062599539756775, pvalue=4.699550549603672e-15)\n",
      "subjectivity: ShapiroResult(statistic=0.8033509254455566, pvalue=9.490116344230876e-22)\n",
      "num_likes: ShapiroResult(statistic=0.686232328414917, pvalue=6.271091751327221e-27)\n",
      "g_num_text: ShapiroResult(statistic=0.4361896514892578, pvalue=6.99495821378553e-34)\n",
      "g_num_media: ShapiroResult(statistic=0.7203227281570435, pvalue=1.1566025910341771e-25)\n",
      "i_num_text: ShapiroResult(statistic=0.5938934087753296, pvalue=3.095020578144436e-29)\n",
      "i_num_media: ShapiroResult(statistic=0.6251391172409058, pvalue=2.586580730245417e-28)\n",
      "i_num_recipients: ShapiroResult(statistic=0.7824385166168213, pvalue=1.8440200474635049e-22)\n",
      "Steps: ShapiroResult(statistic=0.9809977412223816, pvalue=2.0377986231778777e-07)\n",
      "MVPA: ShapiroResult(statistic=0.7560998797416687, pvalue=9.273536247422365e-30)\n",
      "BMI: ShapiroResult(statistic=0.9155440330505371, pvalue=3.6457836605764435e-18)\n"
     ]
    }
   ],
   "source": [
    "# HO: normal distributed\n",
    "print(\"Complete dataset:\")\n",
    "print(\"age:\", stats.shapiro(df_vars['age'].dropna()))\n",
    "print(\"sex:\", stats.shapiro(df_vars['sex'].dropna()))\n",
    "print(\"fas:\", stats.shapiro(df_vars['fas'].dropna()))\n",
    "print(\"flynn:\", stats.shapiro(df_vars['flynn_score'].dropna()))\n",
    "print(\"n2b:\", stats.shapiro(df_vars['n2b_score'].dropna()))\n",
    "print(\"happy:\", stats.shapiro(df_vars['happy_score'].dropna()))\n",
    "print(\"prosocial:\", stats.shapiro(df_vars['prosocial_score'].dropna()))\n",
    "print(\"public_indiv:\", stats.shapiro(df_vars['public_indiv_score'].dropna()))\n",
    "print(\"esteem:\", stats.shapiro(df_vars['esteem_score'].dropna()))\n",
    "print(\"WC:\", stats.shapiro(df_vars['WC'].dropna()))\n",
    "print(\"affect:\", stats.shapiro(df_vars['affect'].dropna()))\n",
    "print(\"drives:\", stats.shapiro(df_vars['drives'].dropna()))\n",
    "print(\"social:\", stats.shapiro(df_vars['social'].dropna()))\n",
    "print(\"polarity:\", stats.shapiro(df_vars['polarity'].dropna()))\n",
    "print(\"health:\", stats.shapiro(df_vars['health'].dropna()))\n",
    "print(\"cogproc:\", stats.shapiro(df_vars['cogproc'].dropna()))\n",
    "print(\"subjectivity:\", stats.shapiro(df_vars['subjectivity'].dropna()))\n",
    "print(\"num_likes:\", stats.shapiro(df_vars['num_likes'].dropna()))\n",
    "print(\"g_num_text:\", stats.shapiro(df_vars['g_num_text'].dropna()))\n",
    "print(\"g_num_media:\", stats.shapiro(df_vars['g_num_media'].dropna()))\n",
    "print(\"i_num_text:\", stats.shapiro(df_vars['i_num_text'].dropna()))\n",
    "print(\"i_num_media:\", stats.shapiro(df_vars['i_num_media'].dropna()))\n",
    "print(\"i_num_recipients:\", stats.shapiro(df_vars['i_num_recepients'].dropna()))\n",
    "print(\"Steps:\", stats.shapiro(df_vars['Steps'].dropna()))\n",
    "print(\"MVPA:\", stats.shapiro(df_vars['Minutes_MVPA'].dropna()))\n",
    "print(\"BMI:\", stats.shapiro(df_vars['BMI'].dropna()))"
   ]
  },
  {
   "cell_type": "code",
   "execution_count": 13,
   "id": "8e772853-3b1a-49ff-bd3f-e2f8eb9e03fb",
   "metadata": {
    "ExecuteTime": {
     "end_time": "2024-02-07T19:32:02.799993Z",
     "start_time": "2024-02-07T19:32:02.568760Z"
    }
   },
   "outputs": [
    {
     "name": "stdout",
     "output_type": "stream",
     "text": [
      "Subset non-influencer:\n",
      "age: ShapiroResult(statistic=0.8593832850456238, pvalue=4.357614358241335e-08)\n",
      "sex: ShapiroResult(statistic=0.5699613094329834, pvalue=2.5204458491682362e-15)\n",
      "fas: ShapiroResult(statistic=0.8841823935508728, pvalue=4.278621474895772e-07)\n",
      "flynn: ShapiroResult(statistic=0.9527000784873962, pvalue=0.05962485074996948)\n",
      "n2b: ShapiroResult(statistic=0.9808568358421326, pvalue=0.19554658234119415)\n",
      "happy: ShapiroResult(statistic=0.84872967004776, pvalue=1.760793466587529e-08)\n",
      "prosocial: ShapiroResult(statistic=0.7460970282554626, pvalue=6.154025555815679e-08)\n",
      "public_indiv: ShapiroResult(statistic=0.9098082780838013, pvalue=0.0005560331628657877)\n",
      "esteem: ShapiroResult(statistic=0.9686172008514404, pvalue=0.0312094334512949)\n",
      "WC: ShapiroResult(statistic=0.666197657585144, pvalue=1.3392354933361439e-11)\n",
      "affect: ShapiroResult(statistic=0.6501142382621765, pvalue=6.627746528681255e-12)\n",
      "drives: ShapiroResult(statistic=0.8113951683044434, pvalue=2.999997761321538e-08)\n",
      "social: ShapiroResult(statistic=0.9536516070365906, pvalue=0.009149574674665928)\n",
      "polarity: ShapiroResult(statistic=0.8744407892227173, pvalue=2.922955218309653e-06)\n",
      "health: ShapiroResult(statistic=0.19837820529937744, pvalue=5.043390918678183e-18)\n",
      "cogproc: ShapiroResult(statistic=0.9304197430610657, pvalue=0.0005869367741979659)\n",
      "subjectivity: ShapiroResult(statistic=0.8313925266265869, pvalue=1.142692340749818e-07)\n",
      "num_likes: ShapiroResult(statistic=0.7113760709762573, pvalue=1.3349506222670726e-10)\n",
      "g_num_text: ShapiroResult(statistic=0.4540117383003235, pvalue=6.5263088139808686e-15)\n",
      "g_num_media: ShapiroResult(statistic=0.5491522550582886, pvalue=1.5697737706064918e-13)\n",
      "i_num_text: ShapiroResult(statistic=0.6664232015609741, pvalue=1.6546826409058468e-11)\n",
      "i_num_media: ShapiroResult(statistic=0.5674471855163574, pvalue=3.054125691497739e-13)\n",
      "i_num_recipients: ShapiroResult(statistic=0.8402312994003296, pvalue=2.469076889610733e-07)\n",
      "Steps: ShapiroResult(statistic=0.9769786596298218, pvalue=0.08911215513944626)\n",
      "MVPA: ShapiroResult(statistic=0.8949480652809143, pvalue=1.2614798379217973e-06)\n",
      "BMI: ShapiroResult(statistic=0.8548197150230408, pvalue=3.779220136834738e-08)\n"
     ]
    }
   ],
   "source": [
    "# HO: normal distributed\n",
    "print(\"Subset non-influencer:\")\n",
    "print(\"age:\", stats.shapiro(df_influencer['age'].dropna()))\n",
    "print(\"sex:\", stats.shapiro(df_influencer['sex'].dropna()))\n",
    "print(\"fas:\", stats.shapiro(df_influencer['fas'].dropna()))\n",
    "print(\"flynn:\", stats.shapiro(df_influencer['flynn_score'].dropna()))\n",
    "print(\"n2b:\", stats.shapiro(df_influencer['n2b_score'].dropna()))\n",
    "print(\"happy:\", stats.shapiro(df_influencer['happy_score'].dropna()))\n",
    "print(\"prosocial:\", stats.shapiro(df_influencer['prosocial_score'].dropna()))\n",
    "print(\"public_indiv:\", stats.shapiro(df_influencer['public_indiv_score'].dropna()))\n",
    "print(\"esteem:\", stats.shapiro(df_influencer['esteem_score'].dropna()))\n",
    "print(\"WC:\", stats.shapiro(df_influencer['WC'].dropna()))\n",
    "print(\"affect:\", stats.shapiro(df_influencer['affect'].dropna()))\n",
    "print(\"drives:\", stats.shapiro(df_influencer['drives'].dropna()))\n",
    "print(\"social:\", stats.shapiro(df_influencer['social'].dropna()))\n",
    "print(\"polarity:\", stats.shapiro(df_influencer['polarity'].dropna()))\n",
    "print(\"health:\", stats.shapiro(df_influencer['health'].dropna()))\n",
    "print(\"cogproc:\", stats.shapiro(df_influencer['cogproc'].dropna()))\n",
    "print(\"subjectivity:\", stats.shapiro(df_influencer['subjectivity'].dropna()))\n",
    "print(\"num_likes:\", stats.shapiro(df_influencer['num_likes'].dropna()))\n",
    "print(\"g_num_text:\", stats.shapiro(df_influencer['g_num_text'].dropna()))\n",
    "print(\"g_num_media:\", stats.shapiro(df_influencer['g_num_media'].dropna()))\n",
    "print(\"i_num_text:\", stats.shapiro(df_influencer['i_num_text'].dropna()))\n",
    "print(\"i_num_media:\", stats.shapiro(df_influencer['i_num_media'].dropna()))\n",
    "print(\"i_num_recipients:\", stats.shapiro(df_influencer['i_num_recepients'].dropna()))\n",
    "print(\"Steps:\", stats.shapiro(df_influencer['Steps'].dropna()))\n",
    "print(\"MVPA:\", stats.shapiro(df_influencer['Minutes_MVPA'].dropna()))\n",
    "print(\"BMI:\", stats.shapiro(df_influencer['BMI'].dropna()))"
   ]
  },
  {
   "cell_type": "code",
   "execution_count": 14,
   "id": "a720b06f-ce7e-46d9-b4b3-667abf9b7bad",
   "metadata": {
    "ExecuteTime": {
     "end_time": "2024-02-07T19:32:03.238864Z",
     "start_time": "2024-02-07T19:32:03.130668Z"
    }
   },
   "outputs": [
    {
     "name": "stdout",
     "output_type": "stream",
     "text": [
      "Subset non-influencer:\n",
      "age: ShapiroResult(statistic=0.8748496770858765, pvalue=1.3921548260082623e-20)\n",
      "sex: ShapiroResult(statistic=0.6365506649017334, pvalue=1.9450171808455066e-32)\n",
      "fas: ShapiroResult(statistic=0.8418557643890381, pvalue=6.108322276347995e-23)\n",
      "flynn: ShapiroResult(statistic=0.9484214782714844, pvalue=4.969580302827126e-08)\n",
      "n2b: ShapiroResult(statistic=0.9819223284721375, pvalue=1.1259722668910399e-05)\n",
      "happy: ShapiroResult(statistic=0.9196588397026062, pvalue=2.7280316016836366e-16)\n",
      "prosocial: ShapiroResult(statistic=0.9196588397026062, pvalue=2.7280316016836366e-16)\n",
      "public_indiv: ShapiroResult(statistic=0.972320020198822, pvalue=1.4070808902033605e-05)\n",
      "esteem: ShapiroResult(statistic=0.9758210182189941, pvalue=8.659839068059227e-07)\n",
      "WC: ShapiroResult(statistic=0.7106395363807678, pvalue=1.8757166995163386e-23)\n",
      "affect: ShapiroResult(statistic=0.5166974067687988, pvalue=5.0224563590069394e-29)\n",
      "drives: ShapiroResult(statistic=0.7412618398666382, pvalue=2.5388138966845975e-22)\n",
      "social: ShapiroResult(statistic=0.8951844573020935, pvalue=2.8196132698088926e-14)\n",
      "polarity: ShapiroResult(statistic=0.7184391021728516, pvalue=3.56713908326622e-23)\n",
      "health: ShapiroResult(statistic=0.22856348752975464, pvalue=1.1809121859181282e-34)\n",
      "cogproc: ShapiroResult(statistic=0.9021972417831421, pvalue=9.695627682876698e-14)\n",
      "subjectivity: ShapiroResult(statistic=0.7943152189254761, pvalue=4.287911071253682e-20)\n",
      "num_likes: ShapiroResult(statistic=0.6789613962173462, pvalue=7.0761434565526305e-25)\n",
      "g_num_text: ShapiroResult(statistic=0.4327002763748169, pvalue=2.697470833724588e-31)\n",
      "g_num_media: ShapiroResult(statistic=0.7497469186782837, pvalue=2.591171794032692e-22)\n",
      "i_num_text: ShapiroResult(statistic=0.5746644139289856, pvalue=3.370526854841347e-27)\n",
      "i_num_media: ShapiroResult(statistic=0.6474710702896118, pvalue=3.668525656172714e-25)\n",
      "i_num_recipients: ShapiroResult(statistic=0.7665083408355713, pvalue=5.4875989825173976e-21)\n",
      "Steps: ShapiroResult(statistic=0.9783904552459717, pvalue=3.057621427160484e-07)\n",
      "MVPA: ShapiroResult(statistic=0.7409061193466187, pvalue=2.2975345160381073e-28)\n",
      "BMI: ShapiroResult(statistic=0.9240174889564514, pvalue=1.028140873355005e-15)\n"
     ]
    }
   ],
   "source": [
    "# HO: normal distributed\n",
    "print(\"Subset non-influencer:\")\n",
    "print(\"age:\", stats.shapiro(df_nonInfluencer['age'].dropna()))\n",
    "print(\"sex:\", stats.shapiro(df_nonInfluencer['sex'].dropna()))\n",
    "print(\"fas:\", stats.shapiro(df_nonInfluencer['fas'].dropna()))\n",
    "print(\"flynn:\", stats.shapiro(df_nonInfluencer['flynn_score'].dropna()))\n",
    "print(\"n2b:\", stats.shapiro(df_nonInfluencer['n2b_score'].dropna()))\n",
    "print(\"happy:\", stats.shapiro(df_nonInfluencer['happy_score'].dropna()))\n",
    "print(\"prosocial:\", stats.shapiro(df_nonInfluencer['happy_score'].dropna()))\n",
    "print(\"public_indiv:\", stats.shapiro(df_nonInfluencer['public_indiv_score'].dropna()))\n",
    "print(\"esteem:\", stats.shapiro(df_nonInfluencer['esteem_score'].dropna()))\n",
    "print(\"WC:\", stats.shapiro(df_nonInfluencer['WC'].dropna()))\n",
    "print(\"affect:\", stats.shapiro(df_nonInfluencer['affect'].dropna()))\n",
    "print(\"drives:\", stats.shapiro(df_nonInfluencer['drives'].dropna()))\n",
    "print(\"social:\", stats.shapiro(df_nonInfluencer['social'].dropna()))\n",
    "print(\"polarity:\", stats.shapiro(df_nonInfluencer['polarity'].dropna()))\n",
    "print(\"health:\", stats.shapiro(df_nonInfluencer['health'].dropna()))\n",
    "print(\"cogproc:\", stats.shapiro(df_nonInfluencer['cogproc'].dropna()))\n",
    "print(\"subjectivity:\", stats.shapiro(df_nonInfluencer['subjectivity'].dropna()))\n",
    "print(\"num_likes:\", stats.shapiro(df_nonInfluencer['num_likes'].dropna()))\n",
    "print(\"g_num_text:\", stats.shapiro(df_nonInfluencer['g_num_text'].dropna()))\n",
    "print(\"g_num_media:\", stats.shapiro(df_nonInfluencer['g_num_media'].dropna()))\n",
    "print(\"i_num_text:\", stats.shapiro(df_nonInfluencer['i_num_text'].dropna()))\n",
    "print(\"i_num_media:\", stats.shapiro(df_nonInfluencer['i_num_media'].dropna()))\n",
    "print(\"i_num_recipients:\", stats.shapiro(df_nonInfluencer['i_num_recepients'].dropna()))\n",
    "print(\"Steps:\", stats.shapiro(df_nonInfluencer['Steps'].dropna()))\n",
    "print(\"MVPA:\", stats.shapiro(df_nonInfluencer['Minutes_MVPA'].dropna()))\n",
    "print(\"BMI:\", stats.shapiro(df_nonInfluencer['BMI'].dropna()))"
   ]
  },
  {
   "cell_type": "markdown",
   "id": "a6a5b3a3-a415-4c25-8e45-93cb0766aa32",
   "metadata": {},
   "source": [
    "# Test equal variances"
   ]
  },
  {
   "cell_type": "code",
   "execution_count": 15,
   "id": "e763b7c4-5f44-4302-8070-4297b4433627",
   "metadata": {
    "ExecuteTime": {
     "end_time": "2024-02-07T19:32:05.111145Z",
     "start_time": "2024-02-07T19:32:05.059250Z"
    }
   },
   "outputs": [
    {
     "name": "stdout",
     "output_type": "stream",
     "text": [
      "age: LeveneResult(statistic=10.474030791999462, pvalue=0.0012728899187590772)\n",
      "sex: LeveneResult(statistic=114.76851610209297, pvalue=9.451106938409972e-25)\n",
      "fas: LeveneResult(statistic=0.4943586130885811, pvalue=0.48224432709443343)\n",
      "flynn: LeveneResult(statistic=0.07166328057400885, pvalue=0.7891094426605453)\n",
      "n2b: LeveneResult(statistic=0.33977285115524947, pvalue=0.5601912980686161)\n",
      "happy: LeveneResult(statistic=1.0379719326447447, pvalue=0.3086846941242009)\n",
      "prosocial: LeveneResult(statistic=0.6770450016088153, pvalue=0.4112131757106521)\n",
      "public_indiv: LeveneResult(statistic=0.04829666257643159, pvalue=0.8261801244916014)\n",
      "esteem: LeveneResult(statistic=1.1712666210360405, pvalue=0.2796286848675246)\n",
      "WC: LeveneResult(statistic=0.9209098253855826, pvalue=0.3378158889740429)\n",
      "affect: LeveneResult(statistic=1.2517927152111932, pvalue=0.26388178798284123)\n",
      "drives: LeveneResult(statistic=0.37601284824744835, pvalue=0.540093357377142)\n",
      "social: LeveneResult(statistic=3.31589451310915, pvalue=0.0693599115637083)\n",
      "polarity: LeveneResult(statistic=1.9579955247761647, pvalue=0.1625028316369409)\n",
      "health: LeveneResult(statistic=0.02011779609833352, pvalue=0.8872799955752485)\n",
      "cogproc: LeveneResult(statistic=2.9474610465641273, pvalue=0.08678670927802436)\n",
      "subjectivity: LeveneResult(statistic=0.03172907427165699, pvalue=0.8587137521637023)\n",
      "num_likes: LeveneResult(statistic=0.09612641346634136, pvalue=0.756686476134271)\n",
      "g_num_text: LeveneResult(statistic=0.15066629401622963, pvalue=0.6981013868633401)\n",
      "g_num_media: LeveneResult(statistic=1.1477358428160467, pvalue=0.2846553820649078)\n",
      "i_num_text: LeveneResult(statistic=1.6580701080360252, pvalue=0.19862961763962422)\n",
      "i_num_media: LeveneResult(statistic=0.598002855002495, pvalue=0.4398106954340909)\n",
      "i_num_recepients: LeveneResult(statistic=2.1012824202949187, pvalue=0.14798136017187996)\n",
      "Steps: LeveneResult(statistic=0.5673300850752329, pvalue=0.45159794148482635)\n",
      "Minutes_MVPA: LeveneResult(statistic=1.046123666172168, pvalue=0.3067867757280755)\n",
      "BMI: LeveneResult(statistic=0.05767072900960234, pvalue=0.8102951845779166)\n"
     ]
    }
   ],
   "source": [
    "# H0: equal variance \n",
    "print(\"age:\", stats.levene(df_influencer['age'], df_nonInfluencer['age'], center='median'))\n",
    "print(\"sex:\", stats.levene(df_influencer['sex'], df_nonInfluencer['sex'], center='median'))\n",
    "print(\"fas:\", stats.levene(df_influencer['fas'], df_nonInfluencer['fas'], center='median'))\n",
    "print(\"flynn:\", stats.levene(df_influencer['flynn_score'].dropna(), df_nonInfluencer['flynn_score'].dropna(), center='median'))\n",
    "print(\"n2b:\", stats.levene(df_influencer['n2b_score'].dropna(), df_nonInfluencer['n2b_score'].dropna(), center='median'))\n",
    "print(\"happy:\", stats.levene(df_influencer['happy_score'].dropna(), df_nonInfluencer['happy_score'].dropna(), center='median'))\n",
    "print(\"prosocial:\", stats.levene(df_influencer['prosocial_score'].dropna(), df_nonInfluencer['prosocial_score'].dropna(), center='median'))\n",
    "print(\"public_indiv:\", stats.levene(df_influencer['public_indiv_score'].dropna(), df_nonInfluencer['public_indiv_score'].dropna(), center='median'))\n",
    "print(\"esteem:\", stats.levene(df_influencer['esteem_score'].dropna(), df_nonInfluencer['esteem_score'].dropna(), center='median'))\n",
    "print(\"WC:\", stats.levene(df_influencer['WC'].dropna(), df_nonInfluencer['WC'].dropna(), center='median'))\n",
    "print(\"affect:\", stats.levene(df_influencer['affect'].dropna(), df_nonInfluencer['affect'].dropna(), center='median'))\n",
    "print(\"drives:\", stats.levene(df_influencer['drives'].dropna(), df_nonInfluencer['drives'].dropna(), center='median'))\n",
    "print(\"social:\", stats.levene(df_influencer['social'].dropna(), df_nonInfluencer['social'].dropna(), center='median'))\n",
    "print(\"polarity:\", stats.levene(df_influencer['polarity'].dropna(), df_nonInfluencer['polarity'].dropna(), center='median'))\n",
    "print(\"health:\", stats.levene(df_influencer['health'].dropna(), df_nonInfluencer['health'].dropna(), center='median'))\n",
    "print(\"cogproc:\", stats.levene(df_influencer['cogproc'].dropna(), df_nonInfluencer['cogproc'].dropna(), center='median'))\n",
    "print(\"subjectivity:\", stats.levene(df_influencer['subjectivity'].dropna(), df_nonInfluencer['subjectivity'].dropna(), center='median'))\n",
    "print(\"num_likes:\", stats.levene(df_influencer['num_likes'].dropna(), df_nonInfluencer['num_likes'].dropna(), center='median'))\n",
    "print(\"g_num_text:\", stats.levene(df_influencer['g_num_text'].dropna(), df_nonInfluencer['g_num_text'].dropna(), center='median'))\n",
    "print(\"g_num_media:\", stats.levene(df_influencer['g_num_media'].dropna(), df_nonInfluencer['g_num_media'].dropna(), center='median'))\n",
    "print(\"i_num_text:\", stats.levene(df_influencer['i_num_text'].dropna(), df_nonInfluencer['i_num_text'].dropna(), center='median'))\n",
    "print(\"i_num_media:\", stats.levene(df_influencer['i_num_media'].dropna(), df_nonInfluencer['i_num_media'].dropna(), center='median'))\n",
    "print(\"i_num_recepients:\", stats.levene(df_influencer['i_num_recepients'].dropna(), df_nonInfluencer['i_num_recepients'].dropna(), center='median'))\n",
    "print(\"Steps:\", stats.levene(df_influencer['Steps'].dropna(), df_nonInfluencer['Steps'].dropna(), center='median'))\n",
    "print(\"Minutes_MVPA:\", stats.levene(df_influencer['Minutes_MVPA'].dropna(), df_nonInfluencer['Minutes_MVPA'].dropna(), center='median'))\n",
    "print(\"BMI:\", stats.levene(df_influencer['BMI'].dropna(), df_nonInfluencer['BMI'].dropna(), center='median'))\n",
    "\n"
   ]
  },
  {
   "cell_type": "markdown",
   "id": "b84cd628-e775-4517-a1a8-3f4763b80dd2",
   "metadata": {},
   "source": [
    "### non equal variance:\n",
    "#### age, sex, happines, prosocial, cogproc, "
   ]
  },
  {
   "cell_type": "markdown",
   "id": "272ebc59-ed53-4194-9354-433f49344155",
   "metadata": {},
   "source": [
    "# Mann Whitney U test"
   ]
  },
  {
   "cell_type": "code",
   "execution_count": 16,
   "id": "f06db484-a74e-448b-a60b-9063bfd067e8",
   "metadata": {
    "ExecuteTime": {
     "end_time": "2024-02-07T19:32:07.976671Z",
     "start_time": "2024-02-07T19:32:07.866204Z"
    }
   },
   "outputs": [
    {
     "name": "stdout",
     "output_type": "stream",
     "text": [
      "age: MannwhitneyuResult(statistic=21152.0, pvalue=0.0015736118735123767)\n",
      "sex: MannwhitneyuResult(statistic=31784.0, pvalue=0.0001632893265173434)\n",
      "fas: MannwhitneyuResult(statistic=28534.5, pvalue=0.18131818811802314)\n",
      "flynn: MannwhitneyuResult(statistic=6736.5, pvalue=0.23578481106774052)\n",
      "n2b: MannwhitneyuResult(statistic=20744.0, pvalue=0.3733398968727405)\n",
      "happy: MannwhitneyuResult(statistic=29232.0, pvalue=0.03211967742634156)\n",
      "prosocial: MannwhitneyuResult(statistic=8357.0, pvalue=0.014859427187422825)\n",
      "public_indiv: MannwhitneyuResult(statistic=10563.0, pvalue=0.001581431006671881)\n",
      "esteem: MannwhitneyuResult(statistic=21974.5, pvalue=0.09554429681342154)\n",
      "Steps: MannwhitneyuResult(statistic=30350.0, pvalue=0.016137662465457843)\n",
      "Minutes_MVPA: MannwhitneyuResult(statistic=27441.5, pvalue=0.49890530121735477)\n",
      "BMI: MannwhitneyuResult(statistic=24271.5, pvalue=0.6897261162253938)\n",
      "num_likes: MannwhitneyuResult(statistic=13241.0, pvalue=0.2570834547316587)\n",
      "g_num_text: MannwhitneyuResult(statistic=13270.5, pvalue=0.2438769494010249)\n",
      "g_num_media: MannwhitneyuResult(statistic=11514.0, pvalue=0.449621747115414)\n",
      "i_num_text: MannwhitneyuResult(statistic=12717.0, pvalue=0.15436311381125456)\n",
      "i_num_media: MannwhitneyuResult(statistic=11068.0, pvalue=0.6213273197516003)\n",
      "i_num_recepients: MannwhitneyuResult(statistic=12836.0, pvalue=0.11672100693294613)\n",
      "WC: MannwhitneyuResult(statistic=12749.5, pvalue=0.4095676951372751)\n",
      "affect: MannwhitneyuResult(statistic=12174.5, pvalue=0.8523711132369081)\n",
      "drives: MannwhitneyuResult(statistic=12624.0, pvalue=0.48470499665598477)\n",
      "social: MannwhitneyuResult(statistic=12839.0, pvalue=0.3531849520519458)\n",
      "polarity: MannwhitneyuResult(statistic=12731.0, pvalue=0.417833254209357)\n",
      "health: MannwhitneyuResult(statistic=11090.0, pvalue=0.16650767151160717)\n",
      "cogproc: MannwhitneyuResult(statistic=11973.0, pvalue=0.9687487670056841)\n",
      "subjectivity: MannwhitneyuResult(statistic=13635.0, pvalue=0.06848215245534495)\n"
     ]
    }
   ],
   "source": [
    "# H0: equal variance \n",
    "print(\"age:\", stats.mannwhitneyu(df_influencer['age'], df_nonInfluencer['age'], alternative = 'two-sided'))\n",
    "print(\"sex:\", stats.mannwhitneyu(df_influencer['sex'], df_nonInfluencer['sex'], alternative = 'two-sided'))\n",
    "print(\"fas:\", stats.mannwhitneyu(df_influencer['fas'], df_nonInfluencer['fas'], alternative = 'two-sided'))\n",
    "print(\"flynn:\", stats.mannwhitneyu(df_influencer['flynn_score'].dropna(), df_nonInfluencer['flynn_score'].dropna(), alternative = 'two-sided'))\n",
    "print(\"n2b:\", stats.mannwhitneyu(df_influencer['n2b_score'].dropna(), df_nonInfluencer['n2b_score'].dropna(), alternative = 'two-sided'))\n",
    "print(\"happy:\", stats.mannwhitneyu(df_influencer['happy_score'].dropna(), df_nonInfluencer['happy_score'].dropna(), alternative = 'two-sided'))\n",
    "print(\"prosocial:\", stats.mannwhitneyu(df_influencer['prosocial_score'].dropna(), df_nonInfluencer['prosocial_score'].dropna(), alternative = 'two-sided'))\n",
    "print(\"public_indiv:\", stats.mannwhitneyu(df_influencer['public_indiv_score'].dropna(), df_nonInfluencer['public_indiv_score'].dropna(), alternative = 'two-sided'))\n",
    "print(\"esteem:\", stats.mannwhitneyu(df_influencer['esteem_score'].dropna(), df_nonInfluencer['esteem_score'].dropna(), alternative = 'two-sided'))\n",
    "print(\"Steps:\", stats.mannwhitneyu(df_influencer['Steps'].dropna(), df_nonInfluencer['Steps'].dropna(), alternative = 'two-sided'))\n",
    "print(\"Minutes_MVPA:\", stats.mannwhitneyu(df_influencer['Minutes_MVPA'].dropna(), df_nonInfluencer['Minutes_MVPA'].dropna(), alternative = 'two-sided'))\n",
    "print(\"BMI:\", stats.mannwhitneyu(df_influencer['BMI'].dropna(), df_nonInfluencer['BMI'].dropna(), alternative = 'two-sided'))\n",
    "print(\"num_likes:\", stats.mannwhitneyu(df_influencer['num_likes'].dropna(), df_nonInfluencer['num_likes'].dropna(), alternative = 'two-sided'))\n",
    "print(\"g_num_text:\", stats.mannwhitneyu(df_influencer['g_num_text'].dropna(), df_nonInfluencer['g_num_text'].dropna(), alternative = 'two-sided'))\n",
    "print(\"g_num_media:\", stats.mannwhitneyu(df_influencer['g_num_media'].dropna(), df_nonInfluencer['g_num_media'].dropna(), alternative = 'two-sided'))\n",
    "print(\"i_num_text:\", stats.mannwhitneyu(df_influencer['i_num_text'].dropna(), df_nonInfluencer['i_num_text'].dropna(), alternative = 'two-sided'))\n",
    "print(\"i_num_media:\", stats.mannwhitneyu(df_influencer['i_num_media'].dropna(), df_nonInfluencer['i_num_media'].dropna(), alternative = 'two-sided'))\n",
    "print(\"i_num_recepients:\", stats.mannwhitneyu(df_influencer['i_num_recepients'].dropna(), df_nonInfluencer['i_num_recepients'].dropna(), alternative = 'two-sided'))\n",
    "print(\"WC:\", stats.mannwhitneyu(df_influencer['WC'].dropna(), df_nonInfluencer['WC'].dropna(), alternative = 'two-sided'))\n",
    "print(\"affect:\", stats.mannwhitneyu(df_influencer['affect'].dropna(), df_nonInfluencer['affect'].dropna(), alternative = 'two-sided'))\n",
    "print(\"drives:\", stats.mannwhitneyu(df_influencer['drives'].dropna(), df_nonInfluencer['drives'].dropna(), alternative = 'two-sided'))\n",
    "print(\"social:\", stats.mannwhitneyu(df_influencer['social'].dropna(), df_nonInfluencer['social'].dropna(), alternative = 'two-sided'))\n",
    "print(\"polarity:\", stats.mannwhitneyu(df_influencer['polarity'].dropna(), df_nonInfluencer['polarity'].dropna(), alternative = 'two-sided'))\n",
    "print(\"health:\", stats.mannwhitneyu(df_influencer['health'].dropna(), df_nonInfluencer['health'].dropna(), alternative = 'two-sided'))\n",
    "print(\"cogproc:\", stats.mannwhitneyu(df_influencer['cogproc'].dropna(), df_nonInfluencer['cogproc'].dropna(), alternative = 'two-sided'))\n",
    "print(\"subjectivity:\", stats.mannwhitneyu(df_influencer['subjectivity'].dropna(), df_nonInfluencer['subjectivity'].dropna(), alternative = 'two-sided'))"
   ]
  },
  {
   "cell_type": "code",
   "execution_count": 17,
   "id": "4cbc0d38-ee1e-42e6-a955-685cf9931f3f",
   "metadata": {
    "ExecuteTime": {
     "end_time": "2024-02-07T19:32:08.898216Z",
     "start_time": "2024-02-07T19:32:08.885240Z"
    }
   },
   "outputs": [
    {
     "data": {
      "text/plain": "Child                       int64\nisInfluencer                int64\ninfluencer_ratio_total    float64\nWC                        float64\naffect                    float64\ndrives                    float64\nsocial                    float64\npolarity                  float64\nhealth                    float64\ncogproc                   float64\nsubjectivity              float64\nnum_likes                 float64\ng_num_text                float64\ng_num_media               float64\ni_num_text                float64\ni_num_media               float64\ni_num_recepients          float64\nSteps                     float64\nMinutes_MVPA              float64\nBMI                       float64\nflynn_score               float64\nn2b_score                 float64\nhappy_score               float64\nprosocial_score           float64\npublic_indiv_score        float64\nesteem_score              float64\nage                       float64\nsex                         int64\nfas                       float64\ndtype: object"
     },
     "execution_count": 17,
     "metadata": {},
     "output_type": "execute_result"
    }
   ],
   "source": [
    "df_vars.dtypes"
   ]
  }
 ],
 "metadata": {
  "kernelspec": {
   "display_name": "Python 3 (ipykernel)",
   "language": "python",
   "name": "python3"
  },
  "language_info": {
   "codemirror_mode": {
    "name": "ipython",
    "version": 3
   },
   "file_extension": ".py",
   "mimetype": "text/x-python",
   "name": "python",
   "nbconvert_exporter": "python",
   "pygments_lexer": "ipython3",
   "version": "3.9.12"
  }
 },
 "nbformat": 4,
 "nbformat_minor": 5
}
